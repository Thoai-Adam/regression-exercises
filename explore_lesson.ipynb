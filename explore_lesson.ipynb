{
 "cells": [
  {
   "cell_type": "code",
   "execution_count": 1,
   "id": "8982a922",
   "metadata": {},
   "outputs": [
    {
     "data": {
      "application/javascript": [
       "IPython.notebook.set_autosave_interval(0)"
      ]
     },
     "metadata": {},
     "output_type": "display_data"
    },
    {
     "name": "stdout",
     "output_type": "stream",
     "text": [
      "Autosave disabled\n"
     ]
    }
   ],
   "source": [
    "%autosave 0"
   ]
  },
  {
   "cell_type": "code",
   "execution_count": 2,
   "id": "b10b3825",
   "metadata": {},
   "outputs": [
    {
     "ename": "ImportError",
     "evalue": "cannot import name 'train_val_test' from 'adam_wrangle' (/Users/lordvoldemort/codeup-data-science/regression-exercises/adam_wrangle.py)",
     "output_type": "error",
     "traceback": [
      "\u001b[0;31m---------------------------------------------------------------------------\u001b[0m",
      "\u001b[0;31mImportError\u001b[0m                               Traceback (most recent call last)",
      "Cell \u001b[0;32mIn[2], line 7\u001b[0m\n\u001b[1;32m      4\u001b[0m \u001b[38;5;28;01mimport\u001b[39;00m \u001b[38;5;21;01mseaborn\u001b[39;00m \u001b[38;5;28;01mas\u001b[39;00m \u001b[38;5;21;01msns\u001b[39;00m\n\u001b[1;32m      5\u001b[0m \u001b[38;5;28;01mimport\u001b[39;00m \u001b[38;5;21;01mmatplotlib\u001b[39;00m\u001b[38;5;21;01m.\u001b[39;00m\u001b[38;5;21;01mpyplot\u001b[39;00m \u001b[38;5;28;01mas\u001b[39;00m \u001b[38;5;21;01mplt\u001b[39;00m\n\u001b[0;32m----> 7\u001b[0m \u001b[38;5;28;01mfrom\u001b[39;00m \u001b[38;5;21;01madam_wrangle\u001b[39;00m \u001b[38;5;28;01mimport\u001b[39;00m train_val_test\n\u001b[1;32m      8\u001b[0m \u001b[38;5;28;01mfrom\u001b[39;00m \u001b[38;5;21;01mscipy\u001b[39;00m \u001b[38;5;28;01mimport\u001b[39;00m stats\n",
      "\u001b[0;31mImportError\u001b[0m: cannot import name 'train_val_test' from 'adam_wrangle' (/Users/lordvoldemort/codeup-data-science/regression-exercises/adam_wrangle.py)"
     ]
    }
   ],
   "source": [
    "import pandas as pd\n",
    "import numpy as np\n",
    "\n",
    "import seaborn as sns\n",
    "import matplotlib.pyplot as plt\n",
    "\n",
    "from adam_wrangle import train_val_test\n",
    "from scipy import stats"
   ]
  },
  {
   "cell_type": "markdown",
   "id": "f54b891a",
   "metadata": {},
   "source": [
    "Let's read in our dataset.\n",
    "\n",
    "For reference, I have [documentation](https://www.brilliance.com/education/diamonds/depth-table) for the depth and table features of the dataset.\n",
    "\n",
    "Here is more [information](https://www.vrai.com/journal/post/diamond-clarity-chart) on diamond clarity.\n",
    "\n",
    "[Here](https://www.diamonds.pro/education/color/) we can learn more about diamond color.\n",
    "\n",
    "Fun picture:\n",
    "![Diamond clarity](diamond_quality.avif)"
   ]
  },
  {
   "cell_type": "code",
   "execution_count": null,
   "id": "dae4e102",
   "metadata": {},
   "outputs": [],
   "source": [
    "df = pd.read_csv('diamonds.csv', index_col=0)\n",
    "df.head()"
   ]
  },
  {
   "cell_type": "markdown",
   "id": "33f09635",
   "metadata": {},
   "source": [
    "What are some things we should do initially?"
   ]
  },
  {
   "cell_type": "code",
   "execution_count": null,
   "id": "9fcdb8af",
   "metadata": {},
   "outputs": [],
   "source": []
  },
  {
   "cell_type": "markdown",
   "id": "f9b22459",
   "metadata": {},
   "source": [
    "Now that we want to explore relationships between features in our dataset, what do we need to do?"
   ]
  },
  {
   "cell_type": "code",
   "execution_count": null,
   "id": "76920171",
   "metadata": {},
   "outputs": [],
   "source": []
  },
  {
   "cell_type": "markdown",
   "id": "df56c2d7",
   "metadata": {},
   "source": [
    "What are some questions we want to ask of our data?"
   ]
  },
  {
   "cell_type": "code",
   "execution_count": null,
   "id": "523fcac9",
   "metadata": {},
   "outputs": [],
   "source": []
  },
  {
   "cell_type": "markdown",
   "id": "b7bddc26",
   "metadata": {},
   "source": [
    "## Question 1"
   ]
  },
  {
   "cell_type": "code",
   "execution_count": null,
   "id": "0ccda368",
   "metadata": {},
   "outputs": [],
   "source": []
  },
  {
   "cell_type": "markdown",
   "id": "c1f2ad2e",
   "metadata": {},
   "source": [
    "## Question 2"
   ]
  },
  {
   "cell_type": "code",
   "execution_count": null,
   "id": "b0d5ed6b",
   "metadata": {},
   "outputs": [],
   "source": []
  },
  {
   "cell_type": "markdown",
   "id": "ac031b2b",
   "metadata": {},
   "source": [
    "## Question 3"
   ]
  },
  {
   "cell_type": "code",
   "execution_count": null,
   "id": "ed05ae87",
   "metadata": {},
   "outputs": [],
   "source": []
  }
 ],
 "metadata": {
  "kernelspec": {
   "display_name": "Python 3 (ipykernel)",
   "language": "python",
   "name": "python3"
  },
  "language_info": {
   "codemirror_mode": {
    "name": "ipython",
    "version": 3
   },
   "file_extension": ".py",
   "mimetype": "text/x-python",
   "name": "python",
   "nbconvert_exporter": "python",
   "pygments_lexer": "ipython3",
   "version": "3.10.9"
  }
 },
 "nbformat": 4,
 "nbformat_minor": 5
}
