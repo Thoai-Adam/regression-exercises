{
 "cells": [
  {
   "cell_type": "code",
   "execution_count": null,
   "id": "95471eb0",
   "metadata": {},
   "outputs": [],
   "source": [
    "import pandas as pd\n",
    "import numpy as np\n",
    "import matplotlib.pyplot as plt\n",
    "import seaborn as sns\n",
    "from sklearn.preprocessing import MinMaxScaler, StandardScaler, RobustScaler\n",
    "from sklearn.model_selection import train_test_split\n",
    "from sklearn.preprocessing import QuantileTransformer"
   ]
  },
  {
   "cell_type": "code",
   "execution_count": null,
   "id": "d6479b9f",
   "metadata": {},
   "outputs": [],
   "source": [
    "from env import get_connection\n",
    "import os\n",
    "\n",
    "# Create helper function to get the necessary connection url.\n",
    "def get_db_connection(database):\n",
    "        return get_connection(database)"
   ]
  },
  {
   "cell_type": "code",
   "execution_count": null,
   "id": "c30b742f",
   "metadata": {},
   "outputs": [],
   "source": [
    "def acquire_zillow():\n",
    "    # create helper function to get the necessary connection url.\n",
    "    def get_db_connection(database):\n",
    "        return get_connection(database)\n",
    "\n",
    "    # connect to sql zillow database\n",
    "    url = \"zillow\"\n",
    "\n",
    "    # use this query to get data    \n",
    "    sql_query = \"SELECT bedroomcnt, bathroomcnt, calculatedfinishedsquarefeet, taxvaluedollarcnt, yearbuilt, taxamount, fips FROM properties_2017 WHERE propertylandusetypeid = 261\"\n",
    "\n",
    "    # assign data to data frame\n",
    "    df = pd.read_sql(sql_query, get_connection(url))\n",
    "\n",
    "    return df"
   ]
  },
  {
   "cell_type": "code",
   "execution_count": null,
   "id": "f93a6d19",
   "metadata": {},
   "outputs": [],
   "source": [
    "def wrangle_zillow(df):\n",
    "    # 1. Rename the columns to be more readable\n",
    "    df = df.rename(columns = {'bedroomcnt':'bedrooms', 'bathroomcnt':'bathrooms', 'calculatedfinishedsquarefeet':'area', 'taxvaluedollarcnt':'tax_value', 'yearbuilt':'year_built'})\n",
    "\n",
    "    df = df.dropna()\n",
    "\n",
    "    # 6. Convert data types\n",
    "    df.bedrooms = df.bedrooms.astype('int')\n",
    "    df.bathrooms = df.bathrooms.astype('int')\n",
    "    df.area = df.area.astype('int')\n",
    "    df.tax_value = df.tax_value.astype('int')\n",
    "    df.year_built = df.year_built.astype('int')\n",
    "    df.fips = df.fips.astype('int')\n",
    "\n",
    "    # Save to csv\n",
    "    df.to_csv('zillow_data.csv',index=False)\n",
    "    \n",
    "    return df"
   ]
  },
  {
   "cell_type": "code",
   "execution_count": null,
   "id": "c15e7afa",
   "metadata": {},
   "outputs": [],
   "source": [
    "def scale_data(train, val, test, to_scale):\n",
    "    #make copies for scaling\n",
    "    train_scaled = train.copy()\n",
    "    validate_scaled = val.copy()\n",
    "    test_scaled = test.copy()\n",
    "\n",
    "    #make the thing\n",
    "    scaler = MinMaxScaler()\n",
    "\n",
    "    #fit the thing\n",
    "    scaler.fit(train[to_scale])\n",
    "\n",
    "    #use the thing\n",
    "    train_scaled[to_scale] = scaler.transform(train[to_scale])\n",
    "    validate_scaled[to_scale] = scaler.transform(val[to_scale])\n",
    "    test_scaled[to_scale] = scaler.transform(test[to_scale])\n",
    "    \n",
    "    return train_scaled, validate_scaled, test_scaled"
   ]
  }
 ],
 "metadata": {
  "kernelspec": {
   "display_name": "Python 3 (ipykernel)",
   "language": "python",
   "name": "python3"
  },
  "language_info": {
   "codemirror_mode": {
    "name": "ipython",
    "version": 3
   },
   "file_extension": ".py",
   "mimetype": "text/x-python",
   "name": "python",
   "nbconvert_exporter": "python",
   "pygments_lexer": "ipython3",
   "version": "3.10.9"
  }
 },
 "nbformat": 4,
 "nbformat_minor": 5
}
