{
 "cells": [
  {
   "cell_type": "code",
   "execution_count": 48,
   "id": "670e0086",
   "metadata": {},
   "outputs": [],
   "source": [
    "import warnings\n",
    "warnings.filterwarnings(\"ignore\")\n",
    "\n",
    "import pandas as pd\n",
    "import numpy as np\n",
    "import os\n",
    "import acquire_prep as ap\n",
    "import explore as ez\n",
    "import modeling as mz\n",
    "\n",
    "from env import get_connection\n",
    "\n",
    "import matplotlib.pyplot as plt\n",
    "import seaborn as sns\n",
    "from pydataset import data\n",
    "from math import sqrt\n",
    "from scipy import stats\n",
    "from sklearn.preprocessing import MinMaxScaler, StandardScaler, RobustScaler, QuantileTransformer\n",
    "from sklearn.linear_model import LinearRegression\n",
    "from sklearn.linear_model import LassoLars\n",
    "from sklearn.feature_selection import SelectKBest, RFE, f_regression, SequentialFeatureSelector\n",
    "from sklearn.metrics import mean_squared_error, r2_score, explained_variance_score\n",
    "from sklearn.feature_selection import f_regression\n",
    "from sklearn.model_selection import train_test_split"
   ]
  },
  {
   "cell_type": "markdown",
   "id": "a813ca25",
   "metadata": {},
   "source": [
    "# ACQUIRE"
   ]
  },
  {
   "cell_type": "code",
   "execution_count": 49,
   "id": "336a27f2",
   "metadata": {},
   "outputs": [],
   "source": [
    "# create helper function to get the necessary connection url.\n",
    "def get_db_connection(database):\n",
    "    return get_connection(database)\n",
    "\n"
   ]
  },
  {
   "cell_type": "code",
   "execution_count": 50,
   "id": "f6914322",
   "metadata": {},
   "outputs": [],
   "source": [
    "# connect to sql zillow database\n",
    "\n",
    "url = \"zillow\"\n",
    "\n",
    "    # use this query to get data    \n",
    "sql_query = '''SELECT *\n",
    "            FROM predictions_2017\n",
    "            JOIN properties_2017 on properties_2017.parcelid = predictions_2017.parcelid\n",
    "            JOIN propertylandusetype on propertylandusetype.propertylandusetypeid = properties_2017.propertylandusetypeid;\n",
    "            '''\n",
    "\n",
    "    # assign data to data frame\n",
    "df = pd.read_sql(sql_query, get_connection(url))\n",
    "\n",
    "#filter out single family residential as requested\n",
    "df= df[df['propertylandusedesc'] == 'Single Family Residential']\n"
   ]
  },
  {
   "cell_type": "code",
   "execution_count": 51,
   "id": "a5d6bb4b",
   "metadata": {},
   "outputs": [
    {
     "ename": "AttributeError",
     "evalue": "module 'acquire_prep' has no attribute 'wrangle_zillow'",
     "output_type": "error",
     "traceback": [
      "\u001b[0;31m---------------------------------------------------------------------------\u001b[0m",
      "\u001b[0;31mAttributeError\u001b[0m                            Traceback (most recent call last)",
      "Cell \u001b[0;32mIn[51], line 2\u001b[0m\n\u001b[1;32m      1\u001b[0m \u001b[38;5;66;03m# acquiring, preparing, and splitting the zillow data\u001b[39;00m\n\u001b[0;32m----> 2\u001b[0m train, validate, test \u001b[38;5;241m=\u001b[39m \u001b[43map\u001b[49m\u001b[38;5;241;43m.\u001b[39;49m\u001b[43mwrangle_zillow\u001b[49m()\n",
      "\u001b[0;31mAttributeError\u001b[0m: module 'acquire_prep' has no attribute 'wrangle_zillow'"
     ]
    }
   ],
   "source": [
    "# acquiring, preparing, and splitting the zillow data\n",
    "train, validate, test = ap.wrangle_zillow()"
   ]
  },
  {
   "cell_type": "markdown",
   "id": "fb533d9d",
   "metadata": {},
   "source": [
    "## Acquire.Take away:\n",
    "\n",
    "Data was acquired from CodeUp DB and 52442 observations and 6 features were used"
   ]
  },
  {
   "cell_type": "markdown",
   "id": "1b497460",
   "metadata": {},
   "source": [
    "# PREPARE "
   ]
  },
  {
   "cell_type": "code",
   "execution_count": 16,
   "id": "0bc8dc12",
   "metadata": {},
   "outputs": [
    {
     "ename": "NameError",
     "evalue": "name 'get_connection' is not defined",
     "output_type": "error",
     "traceback": [
      "\u001b[0;31m---------------------------------------------------------------------------\u001b[0m",
      "\u001b[0;31mNameError\u001b[0m                                 Traceback (most recent call last)",
      "Cell \u001b[0;32mIn[16], line 1\u001b[0m\n\u001b[0;32m----> 1\u001b[0m df \u001b[38;5;241m=\u001b[39m \u001b[43macquire_db\u001b[49m\u001b[43m(\u001b[49m\u001b[43m)\u001b[49m\n",
      "Cell \u001b[0;32mIn[15], line 17\u001b[0m, in \u001b[0;36macquire_db\u001b[0;34m()\u001b[0m\n\u001b[1;32m     10\u001b[0m sql_query \u001b[38;5;241m=\u001b[39m \u001b[38;5;124m'''\u001b[39m\u001b[38;5;124mSELECT *\u001b[39m\n\u001b[1;32m     11\u001b[0m \u001b[38;5;124m            FROM predictions_2017\u001b[39m\n\u001b[1;32m     12\u001b[0m \u001b[38;5;124m            JOIN properties_2017 on properties_2017.parcelid = predictions_2017.parcelid\u001b[39m\n\u001b[1;32m     13\u001b[0m \u001b[38;5;124m            JOIN propertylandusetype on propertylandusetype.propertylandusetypeid = properties_2017.propertylandusetypeid;\u001b[39m\n\u001b[1;32m     14\u001b[0m \u001b[38;5;124m            \u001b[39m\u001b[38;5;124m'''\u001b[39m\n\u001b[1;32m     16\u001b[0m \u001b[38;5;66;03m# assign data to data frame\u001b[39;00m\n\u001b[0;32m---> 17\u001b[0m df \u001b[38;5;241m=\u001b[39m pd\u001b[38;5;241m.\u001b[39mread_sql(sql_query, \u001b[43mget_connection\u001b[49m(url))\n\u001b[1;32m     18\u001b[0m \u001b[38;5;28;01mreturn\u001b[39;00m df\n",
      "\u001b[0;31mNameError\u001b[0m: name 'get_connection' is not defined"
     ]
    }
   ],
   "source": [
    "df = acquire_db()"
   ]
  },
  {
   "cell_type": "code",
   "execution_count": null,
   "id": "f04b8aaa",
   "metadata": {},
   "outputs": [],
   "source": []
  }
 ],
 "metadata": {
  "kernelspec": {
   "display_name": "Python 3 (ipykernel)",
   "language": "python",
   "name": "python3"
  },
  "language_info": {
   "codemirror_mode": {
    "name": "ipython",
    "version": 3
   },
   "file_extension": ".py",
   "mimetype": "text/x-python",
   "name": "python",
   "nbconvert_exporter": "python",
   "pygments_lexer": "ipython3",
   "version": "3.10.9"
  }
 },
 "nbformat": 4,
 "nbformat_minor": 5
}
