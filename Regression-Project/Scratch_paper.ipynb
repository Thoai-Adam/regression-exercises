{
 "cells": [
  {
   "cell_type": "code",
   "execution_count": 1,
   "id": "793bb3fd",
   "metadata": {},
   "outputs": [],
   "source": [
    "import warnings\n",
    "warnings.filterwarnings(\"ignore\")\n",
    "\n",
    "import pandas as pd\n",
    "import numpy as np\n",
    "import os\n",
    "import acquire_prep as ap\n",
    "import explore as ez\n",
    "import modeling as mz\n",
    "from env import get_connection\n",
    "\n",
    "import matplotlib.pyplot as plt\n",
    "import seaborn as sns\n",
    "from math import sqrt\n",
    "from scipy import stats\n",
    "import sklearn\n",
    "from sklearn.preprocessing import MinMaxScaler, StandardScaler, RobustScaler, QuantileTransformer\n",
    "from sklearn.linear_model import LinearRegression\n",
    "from sklearn.linear_model import LassoLars\n",
    "from sklearn.linear_model import TweedieRegressor\n",
    "from sklearn.feature_selection import SelectKBest, RFE, f_regression, SequentialFeatureSelector\n",
    "from sklearn.metrics import mean_squared_error, r2_score, explained_variance_score\n",
    "from sklearn.feature_selection import f_regression\n",
    "from sklearn.model_selection import train_test_split"
   ]
  },
  {
   "cell_type": "markdown",
   "id": "6645de7c",
   "metadata": {},
   "source": [
    "# ACQUIRE"
   ]
  },
  {
   "cell_type": "code",
   "execution_count": 2,
   "id": "c9d0598f",
   "metadata": {},
   "outputs": [],
   "source": [
    "# create helper function to get the necessary connection url.\n",
    "def get_db_connection(database):\n",
    "    return get_connection(database)\n",
    "\n",
    "# connect to sql zillow database\n",
    "\n",
    "url = \"zillow\"\n",
    "\n",
    "    # use this query to get data    \n",
    "sql_query = '''SELECT *\n",
    "            FROM predictions_2017\n",
    "            JOIN properties_2017 on properties_2017.parcelid = predictions_2017.parcelid\n",
    "            JOIN propertylandusetype on propertylandusetype.propertylandusetypeid = properties_2017.propertylandusetypeid;\n",
    "            '''\n",
    "\n",
    "    # assign data to data frame\n",
    "df = pd.read_sql(sql_query, get_connection(url))\n"
   ]
  },
  {
   "cell_type": "code",
   "execution_count": 3,
   "id": "05db7387",
   "metadata": {},
   "outputs": [
    {
     "data": {
      "text/plain": [
       "(52442, 65)"
      ]
     },
     "execution_count": 3,
     "metadata": {},
     "output_type": "execute_result"
    }
   ],
   "source": [
    "#filter out single family residential as requested\n",
    "df= df[df['propertylandusedesc'] == 'Single Family Residential']\n",
    "df.shape"
   ]
  },
  {
   "cell_type": "code",
   "execution_count": 4,
   "id": "68948e5e",
   "metadata": {},
   "outputs": [],
   "source": [
    "\n",
    "\n",
    "# Convert the 'transactiondate' column to datetime\n",
    "df['transactiondate'] = pd.to_datetime(df['transactiondate'])\n",
    "\n",
    "# Define the start and end dates for the range\n",
    "start_date = pd.to_datetime('2017-01-01')\n",
    "end_date = pd.to_datetime('2017-12-31')\n",
    "\n",
    "# Filter the DataFrame to keep rows within the specified date range\n",
    "df= df[(df['transactiondate'] >= start_date) & (df['transactiondate'] <= end_date)]\n"
   ]
  },
  {
   "cell_type": "code",
   "execution_count": 5,
   "id": "98fb9ccc",
   "metadata": {},
   "outputs": [],
   "source": [
    "#deciding which columns to keep \n",
    "columns_to_keep = ['bathroomcnt',\n",
    "                   'bedroomcnt',\n",
    "                   'calculatedfinishedsquarefeet',\n",
    "                   'regionidzip',\n",
    "                   'yearbuilt',\n",
    "                   'fullbathcnt',\n",
    "                   'taxvaluedollarcnt']\n",
    "df = df[columns_to_keep]"
   ]
  },
  {
   "cell_type": "code",
   "execution_count": 6,
   "id": "c1c125d7",
   "metadata": {},
   "outputs": [
    {
     "data": {
      "text/html": [
       "<div>\n",
       "<style scoped>\n",
       "    .dataframe tbody tr th:only-of-type {\n",
       "        vertical-align: middle;\n",
       "    }\n",
       "\n",
       "    .dataframe tbody tr th {\n",
       "        vertical-align: top;\n",
       "    }\n",
       "\n",
       "    .dataframe thead th {\n",
       "        text-align: right;\n",
       "    }\n",
       "</style>\n",
       "<table border=\"1\" class=\"dataframe\">\n",
       "  <thead>\n",
       "    <tr style=\"text-align: right;\">\n",
       "      <th></th>\n",
       "      <th>bathroomcnt</th>\n",
       "      <th>bedroomcnt</th>\n",
       "      <th>calculatedfinishedsquarefeet</th>\n",
       "      <th>regionidzip</th>\n",
       "      <th>yearbuilt</th>\n",
       "      <th>fullbathcnt</th>\n",
       "      <th>taxvaluedollarcnt</th>\n",
       "    </tr>\n",
       "  </thead>\n",
       "  <tbody>\n",
       "    <tr>\n",
       "      <th>0</th>\n",
       "      <td>3.5</td>\n",
       "      <td>4.0</td>\n",
       "      <td>3100.0</td>\n",
       "      <td>96978.0</td>\n",
       "      <td>1998.0</td>\n",
       "      <td>3.0</td>\n",
       "      <td>1023282.0</td>\n",
       "    </tr>\n",
       "    <tr>\n",
       "      <th>1</th>\n",
       "      <td>1.0</td>\n",
       "      <td>2.0</td>\n",
       "      <td>1465.0</td>\n",
       "      <td>97099.0</td>\n",
       "      <td>1967.0</td>\n",
       "      <td>1.0</td>\n",
       "      <td>464000.0</td>\n",
       "    </tr>\n",
       "    <tr>\n",
       "      <th>2</th>\n",
       "      <td>2.0</td>\n",
       "      <td>3.0</td>\n",
       "      <td>1243.0</td>\n",
       "      <td>97078.0</td>\n",
       "      <td>1962.0</td>\n",
       "      <td>2.0</td>\n",
       "      <td>564778.0</td>\n",
       "    </tr>\n",
       "    <tr>\n",
       "      <th>3</th>\n",
       "      <td>3.0</td>\n",
       "      <td>4.0</td>\n",
       "      <td>2376.0</td>\n",
       "      <td>96330.0</td>\n",
       "      <td>1970.0</td>\n",
       "      <td>3.0</td>\n",
       "      <td>145143.0</td>\n",
       "    </tr>\n",
       "    <tr>\n",
       "      <th>6</th>\n",
       "      <td>3.0</td>\n",
       "      <td>4.0</td>\n",
       "      <td>2962.0</td>\n",
       "      <td>96293.0</td>\n",
       "      <td>1950.0</td>\n",
       "      <td>3.0</td>\n",
       "      <td>773303.0</td>\n",
       "    </tr>\n",
       "    <tr>\n",
       "      <th>...</th>\n",
       "      <td>...</td>\n",
       "      <td>...</td>\n",
       "      <td>...</td>\n",
       "      <td>...</td>\n",
       "      <td>...</td>\n",
       "      <td>...</td>\n",
       "      <td>...</td>\n",
       "    </tr>\n",
       "    <tr>\n",
       "      <th>77573</th>\n",
       "      <td>2.0</td>\n",
       "      <td>4.0</td>\n",
       "      <td>1633.0</td>\n",
       "      <td>96204.0</td>\n",
       "      <td>1962.0</td>\n",
       "      <td>2.0</td>\n",
       "      <td>346534.0</td>\n",
       "    </tr>\n",
       "    <tr>\n",
       "      <th>77575</th>\n",
       "      <td>2.0</td>\n",
       "      <td>2.0</td>\n",
       "      <td>1286.0</td>\n",
       "      <td>96284.0</td>\n",
       "      <td>1940.0</td>\n",
       "      <td>2.0</td>\n",
       "      <td>354621.0</td>\n",
       "    </tr>\n",
       "    <tr>\n",
       "      <th>77576</th>\n",
       "      <td>2.0</td>\n",
       "      <td>4.0</td>\n",
       "      <td>1612.0</td>\n",
       "      <td>97116.0</td>\n",
       "      <td>1964.0</td>\n",
       "      <td>2.0</td>\n",
       "      <td>67205.0</td>\n",
       "    </tr>\n",
       "    <tr>\n",
       "      <th>77577</th>\n",
       "      <td>1.0</td>\n",
       "      <td>3.0</td>\n",
       "      <td>1032.0</td>\n",
       "      <td>96480.0</td>\n",
       "      <td>1954.0</td>\n",
       "      <td>1.0</td>\n",
       "      <td>49546.0</td>\n",
       "    </tr>\n",
       "    <tr>\n",
       "      <th>77578</th>\n",
       "      <td>2.0</td>\n",
       "      <td>3.0</td>\n",
       "      <td>1762.0</td>\n",
       "      <td>96171.0</td>\n",
       "      <td>1955.0</td>\n",
       "      <td>2.0</td>\n",
       "      <td>522000.0</td>\n",
       "    </tr>\n",
       "  </tbody>\n",
       "</table>\n",
       "<p>52244 rows × 7 columns</p>\n",
       "</div>"
      ],
      "text/plain": [
       "       bathroomcnt  bedroomcnt  calculatedfinishedsquarefeet  regionidzip  \\\n",
       "0              3.5         4.0                        3100.0      96978.0   \n",
       "1              1.0         2.0                        1465.0      97099.0   \n",
       "2              2.0         3.0                        1243.0      97078.0   \n",
       "3              3.0         4.0                        2376.0      96330.0   \n",
       "6              3.0         4.0                        2962.0      96293.0   \n",
       "...            ...         ...                           ...          ...   \n",
       "77573          2.0         4.0                        1633.0      96204.0   \n",
       "77575          2.0         2.0                        1286.0      96284.0   \n",
       "77576          2.0         4.0                        1612.0      97116.0   \n",
       "77577          1.0         3.0                        1032.0      96480.0   \n",
       "77578          2.0         3.0                        1762.0      96171.0   \n",
       "\n",
       "       yearbuilt  fullbathcnt  taxvaluedollarcnt  \n",
       "0         1998.0          3.0          1023282.0  \n",
       "1         1967.0          1.0           464000.0  \n",
       "2         1962.0          2.0           564778.0  \n",
       "3         1970.0          3.0           145143.0  \n",
       "6         1950.0          3.0           773303.0  \n",
       "...          ...          ...                ...  \n",
       "77573     1962.0          2.0           346534.0  \n",
       "77575     1940.0          2.0           354621.0  \n",
       "77576     1964.0          2.0            67205.0  \n",
       "77577     1954.0          1.0            49546.0  \n",
       "77578     1955.0          2.0           522000.0  \n",
       "\n",
       "[52244 rows x 7 columns]"
      ]
     },
     "execution_count": 6,
     "metadata": {},
     "output_type": "execute_result"
    }
   ],
   "source": [
    "#dropping more nulls\n",
    "df.dropna()"
   ]
  },
  {
   "cell_type": "code",
   "execution_count": 7,
   "id": "8fa3e451",
   "metadata": {},
   "outputs": [],
   "source": [
    "#1. Rename the columns to be more readable\n",
    "df = df.rename(columns = {'bedroomcnt':'bedrooms', \n",
    "                          'bathroomcnt':'bathrooms', \n",
    "                          'calculatedfinishedsquarefeet':'area', \n",
    "                          'taxvaluedollarcnt':'tax_value', \n",
    "                          'regionidzip':'zip'})"
   ]
  },
  {
   "cell_type": "code",
   "execution_count": 8,
   "id": "8489e615",
   "metadata": {
    "scrolled": false
   },
   "outputs": [
    {
     "data": {
      "text/plain": [
       "bathrooms        0\n",
       "bedrooms         0\n",
       "area            82\n",
       "zip             26\n",
       "yearbuilt      116\n",
       "fullbathcnt    137\n",
       "tax_value        1\n",
       "dtype: int64"
      ]
     },
     "execution_count": 8,
     "metadata": {},
     "output_type": "execute_result"
    }
   ],
   "source": [
    "df.isna().sum()"
   ]
  },
  {
   "cell_type": "code",
   "execution_count": 9,
   "id": "84eb846f",
   "metadata": {},
   "outputs": [],
   "source": [
    "df=df.dropna()"
   ]
  },
  {
   "cell_type": "code",
   "execution_count": 10,
   "id": "1447ab2f",
   "metadata": {},
   "outputs": [
    {
     "data": {
      "text/plain": [
       "bathrooms      0\n",
       "bedrooms       0\n",
       "area           0\n",
       "zip            0\n",
       "yearbuilt      0\n",
       "fullbathcnt    0\n",
       "tax_value      0\n",
       "dtype: int64"
      ]
     },
     "execution_count": 10,
     "metadata": {},
     "output_type": "execute_result"
    }
   ],
   "source": [
    "df.isna().sum()"
   ]
  },
  {
   "cell_type": "code",
   "execution_count": 11,
   "id": "72fc7a08",
   "metadata": {},
   "outputs": [],
   "source": [
    "### Splitting\n",
    "\n",
    "    \n",
    "train_validate, test = train_test_split(df, test_size=.2, random_state=42)\n",
    "    \n",
    "train, validate = train_test_split(train_validate, \n",
    "                                   test_size=.3, \n",
    "                                    random_state=42)"
   ]
  },
  {
   "cell_type": "markdown",
   "id": "0b8f7b99",
   "metadata": {},
   "source": [
    "## EXPLORE\n",
    "\n",
    "For the first iteration of your model, use only square feet of the home, number of bedrooms, and number of bathrooms to estimate the property's assessed value, taxvaluedollarcnt. You can expand this to other fields after you have completed an MVP (minimally viable product)."
   ]
  },
  {
   "cell_type": "code",
   "execution_count": 12,
   "id": "0d8ffd78",
   "metadata": {},
   "outputs": [],
   "source": [
    "X = df[['area', 'bedrooms', 'bathrooms']]\n",
    "y = df['tax_value']"
   ]
  },
  {
   "cell_type": "code",
   "execution_count": 13,
   "id": "e4dcc3b4",
   "metadata": {
    "scrolled": true
   },
   "outputs": [
    {
     "data": {
      "image/png": "[encoded data removed]",
      "text/plain": [
       "<Figure size 1500x500 with 3 Axes>"
      ]
     },
     "metadata": {},
     "output_type": "display_data"
    }
   ],
   "source": [
    "# Create a pairplot\n",
    "sns.pairplot(df, x_vars=['area', 'bedrooms', 'bathrooms'], y_vars=['tax_value'], kind='scatter', size=5)\n",
    "\n",
    "# Set plot labels and title\n",
    "plt.xlabel(\"bathrooms\")\n",
    "plt.ylabel(\"Y Variable\")\n",
    "plt.title(\"Pairplot of bed+bath+area vs value\")\n",
    "plt.show()"
   ]
  },
  {
   "cell_type": "markdown",
   "id": "a04a36f5",
   "metadata": {},
   "source": [
    "### Take Aways:\n",
    "\n",
    "1) There seem to be more transaction at the middle of the data \n",
    "\n",
    "2) The trend is to have a higher number of bedrooms and unequivalently low number of bathrooms\n",
    "\n",
    "3) transaction mostly range at around 0 to 8000 area"
   ]
  },
  {
   "cell_type": "markdown",
   "id": "92e4ec43",
   "metadata": {},
   "source": [
    "### Hypothesis 1\n",
    "\n",
    "1) The higher the area, the higher the tax value\n",
    "    \n",
    "    Null: The area are independent of the tax value\n",
    "    \n",
    "    Alternative: The area has a relationship with the tax value"
   ]
  },
  {
   "cell_type": "code",
   "execution_count": 14,
   "id": "1eb1aafd",
   "metadata": {},
   "outputs": [
    {
     "data": {
      "image/png": "[encoded data removed]",
      "text/plain": [
       "<Figure size 800x600 with 1 Axes>"
      ]
     },
     "metadata": {},
     "output_type": "display_data"
    }
   ],
   "source": [
    "# Create scatter plots for each feature against 'tax_value'\n",
    "plt.figure(figsize=(8, 6))\n",
    "\n",
    "# Scatter plot for 'area' vs. 'tax_value'\n",
    "plt.subplot(131)\n",
    "plt.scatter(df['area'], df['tax_value'])\n",
    "plt.title('Area vs. Tax Value')\n",
    "plt.xlabel('Area')\n",
    "plt.ylabel('Tax Value')\n",
    "\n",
    "plt.tight_layout()\n",
    "plt.show()"
   ]
  },
  {
   "cell_type": "markdown",
   "id": "1fc001fb",
   "metadata": {},
   "source": [
    "#### test\n",
    "\n",
    "Area and tax are continuous so we will use pearson correlation"
   ]
  },
  {
   "cell_type": "code",
   "execution_count": 15,
   "id": "3136fb9c",
   "metadata": {},
   "outputs": [],
   "source": [
    "alpha = 0.05"
   ]
  },
  {
   "cell_type": "code",
   "execution_count": 16,
   "id": "33881c02",
   "metadata": {},
   "outputs": [
    {
     "name": "stdout",
     "output_type": "stream",
     "text": [
      "We reject the null hypothesis\n",
      "pearsonsr test = 0.6241\n"
     ]
    }
   ],
   "source": [
    "r, p = stats.pearsonr(train.area, train.tax_value)\n",
    "if p < alpha:\n",
    "    print('We reject the null hypothesis')\n",
    "else:\n",
    "    print('We fail to reject the null hypothesis')\n",
    "\n",
    "print(f'pearsonsr test = {r:.4f}')"
   ]
  },
  {
   "cell_type": "markdown",
   "id": "8589d83c",
   "metadata": {},
   "source": [
    "this pearsonr value is an indication of a moderate positive linear correlation between two variables"
   ]
  },
  {
   "cell_type": "markdown",
   "id": "57999ca7",
   "metadata": {},
   "source": [
    "### Hypothesis 2\n",
    "\n",
    "2) The more the bedrooms the higher the tax value\n",
    "\n",
    "    Null: The bedrooms are independent of the tax value\n",
    "    \n",
    "    Alternative: The bedrooms has a relationship with the tax value"
   ]
  },
  {
   "cell_type": "code",
   "execution_count": 17,
   "id": "2025cd56",
   "metadata": {},
   "outputs": [
    {
     "data": {
      "image/png": "[encoded data removed]",
      "text/plain": [
       "<Figure size 1200x400 with 1 Axes>"
      ]
     },
     "metadata": {},
     "output_type": "display_data"
    }
   ],
   "source": [
    "# Create scatter plots for each feature against 'tax_value'\n",
    "plt.figure(figsize=(12, 4))\n",
    "\n",
    "# Scatter plot for 'bedrooms' vs. 'tax_value'\n",
    "plt.subplot(132)\n",
    "plt.bar(df['bedrooms'], df['tax_value'])\n",
    "plt.title('Bedrooms vs. Tax Value')\n",
    "plt.xlabel('Bedrooms')\n",
    "plt.ylabel('Tax Value')\n",
    "\n",
    "plt.tight_layout()\n",
    "plt.show()"
   ]
  },
  {
   "cell_type": "markdown",
   "id": "f7227fb2",
   "metadata": {},
   "source": [
    "## Test\n",
    "\n",
    "Since this is categorical and continous, we need to use chi-test"
   ]
  },
  {
   "cell_type": "code",
   "execution_count": 18,
   "id": "a66297c3",
   "metadata": {},
   "outputs": [
    {
     "name": "stdout",
     "output_type": "stream",
     "text": [
      "We reject the null hypothesis\n",
      "chi^2 = 288434.4751\n",
      "p     = 0.0000\n"
     ]
    }
   ],
   "source": [
    "observed = pd.crosstab(train.tax_value, train.bedrooms)\n",
    "chi2, p, degf, expected = stats.chi2_contingency(observed)\n",
    "if p < alpha:\n",
    "    print('We reject the null hypothesis')\n",
    "else:\n",
    "    print('We fail to reject the null hypothesis')\n",
    "\n",
    "print(f'chi^2 = {chi2:.4f}')\n",
    "print(f'p     = {p:.4f}')"
   ]
  },
  {
   "cell_type": "markdown",
   "id": "8f5fefdc",
   "metadata": {},
   "source": [
    "Both Chi2 and P value determines there is a strong relationship between bedrooms and tax values"
   ]
  },
  {
   "cell_type": "markdown",
   "id": "e344bcee",
   "metadata": {},
   "source": [
    "### Hypothesis 3\n",
    "\n",
    "3) the more the bathrooms the higher the tax value\n",
    "\n",
    "    Null: The bathrooms are independent of the tax value\n",
    "    \n",
    "    Alternative: The bedrooms has a relationship with the tax value"
   ]
  },
  {
   "cell_type": "code",
   "execution_count": 19,
   "id": "cce5ecb2",
   "metadata": {},
   "outputs": [
    {
     "data": {
      "image/png": "[encoded data removed]",
      "text/plain": [
       "<Figure size 1200x400 with 1 Axes>"
      ]
     },
     "metadata": {},
     "output_type": "display_data"
    }
   ],
   "source": [
    "# Create scatter plots for each feature against 'tax_value'\n",
    "plt.figure(figsize=(12, 4))\n",
    "\n",
    "# Scatter plot for 'bathrooms' vs. 'tax_value'\n",
    "plt.subplot(133)\n",
    "plt.bar(df['bathrooms'], df['tax_value'])\n",
    "plt.title('Bathrooms vs. Tax Value')\n",
    "plt.xlabel('Bathrooms')\n",
    "plt.ylabel('Tax Value')\n",
    "\n",
    "plt.tight_layout()\n",
    "plt.show()"
   ]
  },
  {
   "cell_type": "markdown",
   "id": "d771ad42",
   "metadata": {},
   "source": [
    "## Test\n",
    "\n",
    "Since this is categorical and continuous, we need to use chi tet"
   ]
  },
  {
   "cell_type": "code",
   "execution_count": 20,
   "id": "14d16053",
   "metadata": {},
   "outputs": [
    {
     "name": "stdout",
     "output_type": "stream",
     "text": [
      "We reject the null hypothesis\n",
      "chi^2 = 483225.0479\n",
      "p     = 0.0000\n"
     ]
    }
   ],
   "source": [
    "observed = pd.crosstab(train.tax_value, train.bathrooms)\n",
    "chi2, p, degf, expected = stats.chi2_contingency(observed)\n",
    "if p < alpha:\n",
    "    print('We reject the null hypothesis')\n",
    "else:\n",
    "    print('We fail to reject the null hypothesis')\n",
    "\n",
    "print(f'chi^2 = {chi2:.4f}')\n",
    "print(f'p     = {p:.4f}')"
   ]
  },
  {
   "cell_type": "markdown",
   "id": "975493e2",
   "metadata": {},
   "source": [
    "There are statistically significant relationship between the variables tested"
   ]
  },
  {
   "cell_type": "markdown",
   "id": "12e02821",
   "metadata": {},
   "source": [
    "## Could the year built be a driver?"
   ]
  },
  {
   "cell_type": "code",
   "execution_count": 21,
   "id": "649e0121",
   "metadata": {},
   "outputs": [
    {
     "data": {
      "image/png": "[encoded data removed]",
      "text/plain": [
       "<Figure size 1200x400 with 1 Axes>"
      ]
     },
     "metadata": {},
     "output_type": "display_data"
    }
   ],
   "source": [
    "# Create scatter plots for each feature against 'tax_value'\n",
    "plt.figure(figsize=(12, 4))\n",
    "\n",
    "# Scatter plot for 'bathrooms' vs. 'tax_value'\n",
    "plt.subplot(133)\n",
    "plt.bar(df['yearbuilt'], df['tax_value'])\n",
    "plt.title('Year Built vs. Tax Value')\n",
    "plt.xlabel('Year')\n",
    "plt.ylabel('Tax Value')\n",
    "\n",
    "plt.tight_layout()\n",
    "plt.show()"
   ]
  },
  {
   "cell_type": "code",
   "execution_count": 22,
   "id": "90bd3fac",
   "metadata": {},
   "outputs": [
    {
     "name": "stdout",
     "output_type": "stream",
     "text": [
      "We reject the null hypothesis\n",
      "pearsonsr test = 0.1832\n"
     ]
    }
   ],
   "source": [
    "r, p = stats.pearsonr(train.yearbuilt, train.tax_value)\n",
    "if p < alpha:\n",
    "    print('We reject the null hypothesis')\n",
    "else:\n",
    "    print('We fail to reject the null hypothesis')\n",
    "\n",
    "print(f'pearsonsr test = {r:.4f}')"
   ]
  },
  {
   "cell_type": "markdown",
   "id": "130ba899",
   "metadata": {},
   "source": [
    "the value of pearsonr indicate a weak positive linear correlation between the two variables"
   ]
  },
  {
   "cell_type": "markdown",
   "id": "5e8f3870",
   "metadata": {},
   "source": [
    "# Exploration Summary\n",
    "\n",
    "From the statistical test, we will continue to investigate bedrooms, bathrooms, area as the top 3 features "
   ]
  },
  {
   "cell_type": "markdown",
   "id": "9615a20d",
   "metadata": {},
   "source": [
    "## predictive Model"
   ]
  },
  {
   "cell_type": "code",
   "execution_count": 23,
   "id": "4bd7108b",
   "metadata": {},
   "outputs": [],
   "source": [
    "'''\n",
    "Function drops the target of taxvaluedollarcnt column then splits data into \n",
    "predicting variables (x) and target variable (y)\n",
    "''' \n",
    "\n",
    "x_train = train.drop(columns=['tax_value'])\n",
    "y_train = train.tax_value\n",
    "\n",
    "\n",
    "x_validate = validate.drop(columns=['tax_value'])\n",
    "y_validate = validate.tax_value\n",
    "\n",
    "x_test = test.drop(columns=['tax_value'])\n",
    "y_test = test.tax_value"
   ]
  },
  {
   "cell_type": "code",
   "execution_count": 71,
   "id": "99e799d6",
   "metadata": {},
   "outputs": [
    {
     "data": {
      "text/plain": [
       "tax_value           528391.21141\n",
       "taxVal_pred_mean    528391.21141\n",
       "dtype: float64"
      ]
     },
     "execution_count": 71,
     "metadata": {},
     "output_type": "execute_result"
    }
   ],
   "source": [
    "y_train.mean()"
   ]
  },
  {
   "cell_type": "code",
   "execution_count": 70,
   "id": "e8c5fd1e",
   "metadata": {},
   "outputs": [
    {
     "data": {
      "text/plain": [
       "tax_value           372508.00000\n",
       "taxVal_pred_mean    528391.21141\n",
       "dtype: float64"
      ]
     },
     "execution_count": 70,
     "metadata": {},
     "output_type": "execute_result"
    }
   ],
   "source": [
    "y_train.median()"
   ]
  },
  {
   "cell_type": "code",
   "execution_count": 69,
   "id": "0c83d94e",
   "metadata": {},
   "outputs": [
    {
     "ename": "ValueError",
     "evalue": "Data must be 1-dimensional",
     "output_type": "error",
     "traceback": [
      "\u001b[0;31m---------------------------------------------------------------------------\u001b[0m",
      "\u001b[0;31mValueError\u001b[0m                                Traceback (most recent call last)",
      "Cell \u001b[0;32mIn[69], line 1\u001b[0m\n\u001b[0;32m----> 1\u001b[0m baselines \u001b[38;5;241m=\u001b[39m \u001b[43mpd\u001b[49m\u001b[38;5;241;43m.\u001b[39;49m\u001b[43mDataFrame\u001b[49m\u001b[43m(\u001b[49m\u001b[43m{\u001b[49m\u001b[38;5;124;43m'\u001b[39;49m\u001b[38;5;124;43my_actual\u001b[39;49m\u001b[38;5;124;43m'\u001b[39;49m\u001b[43m:\u001b[49m\u001b[43m \u001b[49m\u001b[43my_train\u001b[49m\u001b[43m,\u001b[49m\n\u001b[1;32m      2\u001b[0m \u001b[43m                          \u001b[49m\u001b[38;5;124;43m'\u001b[39;49m\u001b[38;5;124;43my_mean\u001b[39;49m\u001b[38;5;124;43m'\u001b[39;49m\u001b[43m:\u001b[49m\u001b[43m \u001b[49m\u001b[43my_train\u001b[49m\u001b[38;5;241;43m.\u001b[39;49m\u001b[43mmean\u001b[49m\u001b[43m(\u001b[49m\u001b[43m)\u001b[49m\u001b[43m,\u001b[49m\n\u001b[1;32m      3\u001b[0m \u001b[43m                          \u001b[49m\u001b[38;5;124;43m'\u001b[39;49m\u001b[38;5;124;43my_median\u001b[39;49m\u001b[38;5;124;43m'\u001b[39;49m\u001b[43m:\u001b[49m\u001b[43m \u001b[49m\u001b[43my_train\u001b[49m\u001b[38;5;241;43m.\u001b[39;49m\u001b[43mmedian\u001b[49m\u001b[43m(\u001b[49m\u001b[43m)\u001b[49m\u001b[43m}\u001b[49m\u001b[43m)\u001b[49m\n\u001b[1;32m      5\u001b[0m baselines\u001b[38;5;241m.\u001b[39mhead()\n",
      "File \u001b[0;32m/opt/homebrew/anaconda3/lib/python3.10/site-packages/pandas/core/frame.py:664\u001b[0m, in \u001b[0;36mDataFrame.__init__\u001b[0;34m(self, data, index, columns, dtype, copy)\u001b[0m\n\u001b[1;32m    658\u001b[0m     mgr \u001b[38;5;241m=\u001b[39m \u001b[38;5;28mself\u001b[39m\u001b[38;5;241m.\u001b[39m_init_mgr(\n\u001b[1;32m    659\u001b[0m         data, axes\u001b[38;5;241m=\u001b[39m{\u001b[38;5;124m\"\u001b[39m\u001b[38;5;124mindex\u001b[39m\u001b[38;5;124m\"\u001b[39m: index, \u001b[38;5;124m\"\u001b[39m\u001b[38;5;124mcolumns\u001b[39m\u001b[38;5;124m\"\u001b[39m: columns}, dtype\u001b[38;5;241m=\u001b[39mdtype, copy\u001b[38;5;241m=\u001b[39mcopy\n\u001b[1;32m    660\u001b[0m     )\n\u001b[1;32m    662\u001b[0m \u001b[38;5;28;01melif\u001b[39;00m \u001b[38;5;28misinstance\u001b[39m(data, \u001b[38;5;28mdict\u001b[39m):\n\u001b[1;32m    663\u001b[0m     \u001b[38;5;66;03m# GH#38939 de facto copy defaults to False only in non-dict cases\u001b[39;00m\n\u001b[0;32m--> 664\u001b[0m     mgr \u001b[38;5;241m=\u001b[39m \u001b[43mdict_to_mgr\u001b[49m\u001b[43m(\u001b[49m\u001b[43mdata\u001b[49m\u001b[43m,\u001b[49m\u001b[43m \u001b[49m\u001b[43mindex\u001b[49m\u001b[43m,\u001b[49m\u001b[43m \u001b[49m\u001b[43mcolumns\u001b[49m\u001b[43m,\u001b[49m\u001b[43m \u001b[49m\u001b[43mdtype\u001b[49m\u001b[38;5;241;43m=\u001b[39;49m\u001b[43mdtype\u001b[49m\u001b[43m,\u001b[49m\u001b[43m \u001b[49m\u001b[43mcopy\u001b[49m\u001b[38;5;241;43m=\u001b[39;49m\u001b[43mcopy\u001b[49m\u001b[43m,\u001b[49m\u001b[43m \u001b[49m\u001b[43mtyp\u001b[49m\u001b[38;5;241;43m=\u001b[39;49m\u001b[43mmanager\u001b[49m\u001b[43m)\u001b[49m\n\u001b[1;32m    665\u001b[0m \u001b[38;5;28;01melif\u001b[39;00m \u001b[38;5;28misinstance\u001b[39m(data, ma\u001b[38;5;241m.\u001b[39mMaskedArray):\n\u001b[1;32m    666\u001b[0m     \u001b[38;5;28;01mimport\u001b[39;00m \u001b[38;5;21;01mnumpy\u001b[39;00m\u001b[38;5;21;01m.\u001b[39;00m\u001b[38;5;21;01mma\u001b[39;00m\u001b[38;5;21;01m.\u001b[39;00m\u001b[38;5;21;01mmrecords\u001b[39;00m \u001b[38;5;28;01mas\u001b[39;00m \u001b[38;5;21;01mmrecords\u001b[39;00m\n",
      "File \u001b[0;32m/opt/homebrew/anaconda3/lib/python3.10/site-packages/pandas/core/internals/construction.py:493\u001b[0m, in \u001b[0;36mdict_to_mgr\u001b[0;34m(data, index, columns, dtype, typ, copy)\u001b[0m\n\u001b[1;32m    489\u001b[0m     \u001b[38;5;28;01melse\u001b[39;00m:\n\u001b[1;32m    490\u001b[0m         \u001b[38;5;66;03m# dtype check to exclude e.g. range objects, scalars\u001b[39;00m\n\u001b[1;32m    491\u001b[0m         arrays \u001b[38;5;241m=\u001b[39m [x\u001b[38;5;241m.\u001b[39mcopy() \u001b[38;5;28;01mif\u001b[39;00m \u001b[38;5;28mhasattr\u001b[39m(x, \u001b[38;5;124m\"\u001b[39m\u001b[38;5;124mdtype\u001b[39m\u001b[38;5;124m\"\u001b[39m) \u001b[38;5;28;01melse\u001b[39;00m x \u001b[38;5;28;01mfor\u001b[39;00m x \u001b[38;5;129;01min\u001b[39;00m arrays]\n\u001b[0;32m--> 493\u001b[0m \u001b[38;5;28;01mreturn\u001b[39;00m \u001b[43marrays_to_mgr\u001b[49m\u001b[43m(\u001b[49m\u001b[43marrays\u001b[49m\u001b[43m,\u001b[49m\u001b[43m \u001b[49m\u001b[43mcolumns\u001b[49m\u001b[43m,\u001b[49m\u001b[43m \u001b[49m\u001b[43mindex\u001b[49m\u001b[43m,\u001b[49m\u001b[43m \u001b[49m\u001b[43mdtype\u001b[49m\u001b[38;5;241;43m=\u001b[39;49m\u001b[43mdtype\u001b[49m\u001b[43m,\u001b[49m\u001b[43m \u001b[49m\u001b[43mtyp\u001b[49m\u001b[38;5;241;43m=\u001b[39;49m\u001b[43mtyp\u001b[49m\u001b[43m,\u001b[49m\u001b[43m \u001b[49m\u001b[43mconsolidate\u001b[49m\u001b[38;5;241;43m=\u001b[39;49m\u001b[43mcopy\u001b[49m\u001b[43m)\u001b[49m\n",
      "File \u001b[0;32m/opt/homebrew/anaconda3/lib/python3.10/site-packages/pandas/core/internals/construction.py:123\u001b[0m, in \u001b[0;36marrays_to_mgr\u001b[0;34m(arrays, columns, index, dtype, verify_integrity, typ, consolidate)\u001b[0m\n\u001b[1;32m    120\u001b[0m         index \u001b[38;5;241m=\u001b[39m ensure_index(index)\n\u001b[1;32m    122\u001b[0m     \u001b[38;5;66;03m# don't force copy because getting jammed in an ndarray anyway\u001b[39;00m\n\u001b[0;32m--> 123\u001b[0m     arrays \u001b[38;5;241m=\u001b[39m \u001b[43m_homogenize\u001b[49m\u001b[43m(\u001b[49m\u001b[43marrays\u001b[49m\u001b[43m,\u001b[49m\u001b[43m \u001b[49m\u001b[43mindex\u001b[49m\u001b[43m,\u001b[49m\u001b[43m \u001b[49m\u001b[43mdtype\u001b[49m\u001b[43m)\u001b[49m\n\u001b[1;32m    124\u001b[0m     \u001b[38;5;66;03m# _homogenize ensures\u001b[39;00m\n\u001b[1;32m    125\u001b[0m     \u001b[38;5;66;03m#  - all(len(x) == len(index) for x in arrays)\u001b[39;00m\n\u001b[1;32m    126\u001b[0m     \u001b[38;5;66;03m#  - all(x.ndim == 1 for x in arrays)\u001b[39;00m\n\u001b[0;32m   (...)\u001b[0m\n\u001b[1;32m    129\u001b[0m \n\u001b[1;32m    130\u001b[0m \u001b[38;5;28;01melse\u001b[39;00m:\n\u001b[1;32m    131\u001b[0m     index \u001b[38;5;241m=\u001b[39m ensure_index(index)\n",
      "File \u001b[0;32m/opt/homebrew/anaconda3/lib/python3.10/site-packages/pandas/core/internals/construction.py:617\u001b[0m, in \u001b[0;36m_homogenize\u001b[0;34m(data, index, dtype)\u001b[0m\n\u001b[1;32m    614\u001b[0m             val \u001b[38;5;241m=\u001b[39m \u001b[38;5;28mdict\u001b[39m(val)\n\u001b[1;32m    615\u001b[0m         val \u001b[38;5;241m=\u001b[39m lib\u001b[38;5;241m.\u001b[39mfast_multiget(val, oindex\u001b[38;5;241m.\u001b[39m_values, default\u001b[38;5;241m=\u001b[39mnp\u001b[38;5;241m.\u001b[39mnan)\n\u001b[0;32m--> 617\u001b[0m     val \u001b[38;5;241m=\u001b[39m \u001b[43msanitize_array\u001b[49m\u001b[43m(\u001b[49m\n\u001b[1;32m    618\u001b[0m \u001b[43m        \u001b[49m\u001b[43mval\u001b[49m\u001b[43m,\u001b[49m\u001b[43m \u001b[49m\u001b[43mindex\u001b[49m\u001b[43m,\u001b[49m\u001b[43m \u001b[49m\u001b[43mdtype\u001b[49m\u001b[38;5;241;43m=\u001b[39;49m\u001b[43mdtype\u001b[49m\u001b[43m,\u001b[49m\u001b[43m \u001b[49m\u001b[43mcopy\u001b[49m\u001b[38;5;241;43m=\u001b[39;49m\u001b[38;5;28;43;01mFalse\u001b[39;49;00m\u001b[43m,\u001b[49m\u001b[43m \u001b[49m\u001b[43mraise_cast_failure\u001b[49m\u001b[38;5;241;43m=\u001b[39;49m\u001b[38;5;28;43;01mFalse\u001b[39;49;00m\n\u001b[1;32m    619\u001b[0m \u001b[43m    \u001b[49m\u001b[43m)\u001b[49m\n\u001b[1;32m    620\u001b[0m     com\u001b[38;5;241m.\u001b[39mrequire_length_match(val, index)\n\u001b[1;32m    622\u001b[0m homogenized\u001b[38;5;241m.\u001b[39mappend(val)\n",
      "File \u001b[0;32m/opt/homebrew/anaconda3/lib/python3.10/site-packages/pandas/core/construction.py:647\u001b[0m, in \u001b[0;36msanitize_array\u001b[0;34m(data, index, dtype, copy, raise_cast_failure, allow_2d)\u001b[0m\n\u001b[1;32m    644\u001b[0m             subarr \u001b[38;5;241m=\u001b[39m cast(np\u001b[38;5;241m.\u001b[39mndarray, subarr)\n\u001b[1;32m    645\u001b[0m             subarr \u001b[38;5;241m=\u001b[39m maybe_infer_to_datetimelike(subarr)\n\u001b[0;32m--> 647\u001b[0m subarr \u001b[38;5;241m=\u001b[39m \u001b[43m_sanitize_ndim\u001b[49m\u001b[43m(\u001b[49m\u001b[43msubarr\u001b[49m\u001b[43m,\u001b[49m\u001b[43m \u001b[49m\u001b[43mdata\u001b[49m\u001b[43m,\u001b[49m\u001b[43m \u001b[49m\u001b[43mdtype\u001b[49m\u001b[43m,\u001b[49m\u001b[43m \u001b[49m\u001b[43mindex\u001b[49m\u001b[43m,\u001b[49m\u001b[43m \u001b[49m\u001b[43mallow_2d\u001b[49m\u001b[38;5;241;43m=\u001b[39;49m\u001b[43mallow_2d\u001b[49m\u001b[43m)\u001b[49m\n\u001b[1;32m    649\u001b[0m \u001b[38;5;28;01mif\u001b[39;00m \u001b[38;5;28misinstance\u001b[39m(subarr, np\u001b[38;5;241m.\u001b[39mndarray):\n\u001b[1;32m    650\u001b[0m     \u001b[38;5;66;03m# at this point we should have dtype be None or subarr.dtype == dtype\u001b[39;00m\n\u001b[1;32m    651\u001b[0m     dtype \u001b[38;5;241m=\u001b[39m cast(np\u001b[38;5;241m.\u001b[39mdtype, dtype)\n",
      "File \u001b[0;32m/opt/homebrew/anaconda3/lib/python3.10/site-packages/pandas/core/construction.py:698\u001b[0m, in \u001b[0;36m_sanitize_ndim\u001b[0;34m(result, data, dtype, index, allow_2d)\u001b[0m\n\u001b[1;32m    696\u001b[0m     \u001b[38;5;28;01mif\u001b[39;00m allow_2d:\n\u001b[1;32m    697\u001b[0m         \u001b[38;5;28;01mreturn\u001b[39;00m result\n\u001b[0;32m--> 698\u001b[0m     \u001b[38;5;28;01mraise\u001b[39;00m \u001b[38;5;167;01mValueError\u001b[39;00m(\u001b[38;5;124m\"\u001b[39m\u001b[38;5;124mData must be 1-dimensional\u001b[39m\u001b[38;5;124m\"\u001b[39m)\n\u001b[1;32m    699\u001b[0m \u001b[38;5;28;01mif\u001b[39;00m is_object_dtype(dtype) \u001b[38;5;129;01mand\u001b[39;00m \u001b[38;5;28misinstance\u001b[39m(dtype, ExtensionDtype):\n\u001b[1;32m    700\u001b[0m     \u001b[38;5;66;03m# i.e. PandasDtype(\"O\")\u001b[39;00m\n\u001b[1;32m    702\u001b[0m     result \u001b[38;5;241m=\u001b[39m com\u001b[38;5;241m.\u001b[39masarray_tuplesafe(data, dtype\u001b[38;5;241m=\u001b[39mnp\u001b[38;5;241m.\u001b[39mdtype(\u001b[38;5;124m\"\u001b[39m\u001b[38;5;124mobject\u001b[39m\u001b[38;5;124m\"\u001b[39m))\n",
      "\u001b[0;31mValueError\u001b[0m: Data must be 1-dimensional"
     ]
    }
   ],
   "source": [
    "baselines = pd.DataFrame({'y_actual': y_train,\n",
    "                          'y_mean': y_train.mean(),\n",
    "                          'y_median': y_train.median()})\n",
    "\n",
    "baselines.head()"
   ]
  },
  {
   "cell_type": "code",
   "execution_count": 24,
   "id": "a26b9af4",
   "metadata": {
    "scrolled": false
   },
   "outputs": [
    {
     "data": {
      "text/html": [
       "<div>\n",
       "<style scoped>\n",
       "    .dataframe tbody tr th:only-of-type {\n",
       "        vertical-align: middle;\n",
       "    }\n",
       "\n",
       "    .dataframe tbody tr th {\n",
       "        vertical-align: top;\n",
       "    }\n",
       "\n",
       "    .dataframe thead th {\n",
       "        text-align: right;\n",
       "    }\n",
       "</style>\n",
       "<table border=\"1\" class=\"dataframe\">\n",
       "  <thead>\n",
       "    <tr style=\"text-align: right;\">\n",
       "      <th></th>\n",
       "      <th>Actual</th>\n",
       "    </tr>\n",
       "  </thead>\n",
       "  <tbody>\n",
       "    <tr>\n",
       "      <th>41015</th>\n",
       "      <td>879000.0</td>\n",
       "    </tr>\n",
       "    <tr>\n",
       "      <th>76985</th>\n",
       "      <td>344893.0</td>\n",
       "    </tr>\n",
       "    <tr>\n",
       "      <th>62182</th>\n",
       "      <td>1076128.0</td>\n",
       "    </tr>\n",
       "    <tr>\n",
       "      <th>40965</th>\n",
       "      <td>819000.0</td>\n",
       "    </tr>\n",
       "    <tr>\n",
       "      <th>34373</th>\n",
       "      <td>938000.0</td>\n",
       "    </tr>\n",
       "    <tr>\n",
       "      <th>49983</th>\n",
       "      <td>610000.0</td>\n",
       "    </tr>\n",
       "    <tr>\n",
       "      <th>28574</th>\n",
       "      <td>206070.0</td>\n",
       "    </tr>\n",
       "    <tr>\n",
       "      <th>19310</th>\n",
       "      <td>253200.0</td>\n",
       "    </tr>\n",
       "    <tr>\n",
       "      <th>45878</th>\n",
       "      <td>376131.0</td>\n",
       "    </tr>\n",
       "    <tr>\n",
       "      <th>4577</th>\n",
       "      <td>73155.0</td>\n",
       "    </tr>\n",
       "  </tbody>\n",
       "</table>\n",
       "</div>"
      ],
      "text/plain": [
       "          Actual\n",
       "41015   879000.0\n",
       "76985   344893.0\n",
       "62182  1076128.0\n",
       "40965   819000.0\n",
       "34373   938000.0\n",
       "49983   610000.0\n",
       "28574   206070.0\n",
       "19310   253200.0\n",
       "45878   376131.0\n",
       "4577     73155.0"
      ]
     },
     "execution_count": 24,
     "metadata": {},
     "output_type": "execute_result"
    }
   ],
   "source": [
    "predictions = pd.DataFrame({'Actual': train.tax_value})\n",
    "predictions.head(10)"
   ]
  },
  {
   "cell_type": "code",
   "execution_count": 51,
   "id": "d314c7ed",
   "metadata": {
    "scrolled": false
   },
   "outputs": [
    {
     "data": {
      "image/png": "[encoded data removed]",
      "text/plain": [
       "<Figure size 640x480 with 1 Axes>"
      ]
     },
     "metadata": {},
     "output_type": "display_data"
    }
   ],
   "source": [
    "\n",
    "\n",
    "# Data\n",
    "x = [41015, 76985, 62182, 40965, 34373, 49983, 28574, 19310, 45878, 4577]\n",
    "y = [879000.0, 344893.0, 1076128.0, 819000.0, 938000.0, 610000.0, 206070.0, 253200.0, 376131.0, 73155.0]\n",
    "slope, intercept = np.polyfit(x, y, 1)\n",
    "line_of_best_fit = [slope * xi + intercept for xi in x]\n",
    "# Create a scatter plot of the data points\n",
    "plt.scatter(x, y, label='Data Points', color='blue')\n",
    "\n",
    "# Plot the line of best fit\n",
    "plt.plot(x, line_of_best_fit, label=f'Line of Best Fit (y = {slope:.2f}x + {intercept:.2f})', color='red')\n",
    "\n",
    "# Add labels and a legend\n",
    "plt.ylabel('Tax Values')\n",
    "plt.xlabel('Predicted Price')\n",
    "plt.legend()\n",
    "\n",
    "# Show the plot\n",
    "plt.show()\n"
   ]
  },
  {
   "cell_type": "code",
   "execution_count": 66,
   "id": "a6047a9a",
   "metadata": {},
   "outputs": [
    {
     "data": {
      "text/html": [
       "<div>\n",
       "<style scoped>\n",
       "    .dataframe tbody tr th:only-of-type {\n",
       "        vertical-align: middle;\n",
       "    }\n",
       "\n",
       "    .dataframe tbody tr th {\n",
       "        vertical-align: top;\n",
       "    }\n",
       "\n",
       "    .dataframe thead th {\n",
       "        text-align: right;\n",
       "    }\n",
       "</style>\n",
       "<table border=\"1\" class=\"dataframe\">\n",
       "  <thead>\n",
       "    <tr style=\"text-align: right;\">\n",
       "      <th></th>\n",
       "      <th>bathrooms</th>\n",
       "      <th>bedrooms</th>\n",
       "      <th>area</th>\n",
       "      <th>zip</th>\n",
       "      <th>yearbuilt</th>\n",
       "      <th>fullbathcnt</th>\n",
       "      <th>tax_value</th>\n",
       "      <th>yhat_baseline</th>\n",
       "      <th>yhat</th>\n",
       "    </tr>\n",
       "  </thead>\n",
       "  <tbody>\n",
       "    <tr>\n",
       "      <th>0</th>\n",
       "      <td>3.5</td>\n",
       "      <td>4.0</td>\n",
       "      <td>3100.0</td>\n",
       "      <td>96978.0</td>\n",
       "      <td>1998.0</td>\n",
       "      <td>3.0</td>\n",
       "      <td>1023282.0</td>\n",
       "      <td>373428.0</td>\n",
       "      <td>1.074290e+06</td>\n",
       "    </tr>\n",
       "    <tr>\n",
       "      <th>1</th>\n",
       "      <td>1.0</td>\n",
       "      <td>2.0</td>\n",
       "      <td>1465.0</td>\n",
       "      <td>97099.0</td>\n",
       "      <td>1967.0</td>\n",
       "      <td>1.0</td>\n",
       "      <td>464000.0</td>\n",
       "      <td>373428.0</td>\n",
       "      <td>4.109186e+05</td>\n",
       "    </tr>\n",
       "    <tr>\n",
       "      <th>2</th>\n",
       "      <td>2.0</td>\n",
       "      <td>3.0</td>\n",
       "      <td>1243.0</td>\n",
       "      <td>97078.0</td>\n",
       "      <td>1962.0</td>\n",
       "      <td>2.0</td>\n",
       "      <td>564778.0</td>\n",
       "      <td>373428.0</td>\n",
       "      <td>2.272521e+05</td>\n",
       "    </tr>\n",
       "  </tbody>\n",
       "</table>\n",
       "</div>"
      ],
      "text/plain": [
       "   bathrooms  bedrooms    area      zip  yearbuilt  fullbathcnt  tax_value  \\\n",
       "0        3.5       4.0  3100.0  96978.0     1998.0          3.0  1023282.0   \n",
       "1        1.0       2.0  1465.0  97099.0     1967.0          1.0   464000.0   \n",
       "2        2.0       3.0  1243.0  97078.0     1962.0          2.0   564778.0   \n",
       "\n",
       "   yhat_baseline          yhat  \n",
       "0       373428.0  1.074290e+06  \n",
       "1       373428.0  4.109186e+05  \n",
       "2       373428.0  2.272521e+05  "
      ]
     },
     "execution_count": 66,
     "metadata": {},
     "output_type": "execute_result"
    }
   ],
   "source": [
    "df['yhat_baseline'] = df['tax_value'].median()\n",
    "df.head(3)"
   ]
  },
  {
   "cell_type": "code",
   "execution_count": 53,
   "id": "922f6c73",
   "metadata": {},
   "outputs": [
    {
     "data": {
      "text/html": [
       "<div>\n",
       "<style scoped>\n",
       "    .dataframe tbody tr th:only-of-type {\n",
       "        vertical-align: middle;\n",
       "    }\n",
       "\n",
       "    .dataframe tbody tr th {\n",
       "        vertical-align: top;\n",
       "    }\n",
       "\n",
       "    .dataframe thead th {\n",
       "        text-align: right;\n",
       "    }\n",
       "</style>\n",
       "<table border=\"1\" class=\"dataframe\">\n",
       "  <thead>\n",
       "    <tr style=\"text-align: right;\">\n",
       "      <th></th>\n",
       "      <th>bathrooms</th>\n",
       "      <th>bedrooms</th>\n",
       "      <th>area</th>\n",
       "      <th>zip</th>\n",
       "      <th>yearbuilt</th>\n",
       "      <th>fullbathcnt</th>\n",
       "      <th>tax_value</th>\n",
       "      <th>yhat_baseline</th>\n",
       "    </tr>\n",
       "  </thead>\n",
       "  <tbody>\n",
       "    <tr>\n",
       "      <th>0</th>\n",
       "      <td>3.5</td>\n",
       "      <td>4.0</td>\n",
       "      <td>3100.0</td>\n",
       "      <td>96978.0</td>\n",
       "      <td>1998.0</td>\n",
       "      <td>3.0</td>\n",
       "      <td>1023282.0</td>\n",
       "      <td>527948.100949</td>\n",
       "    </tr>\n",
       "    <tr>\n",
       "      <th>1</th>\n",
       "      <td>1.0</td>\n",
       "      <td>2.0</td>\n",
       "      <td>1465.0</td>\n",
       "      <td>97099.0</td>\n",
       "      <td>1967.0</td>\n",
       "      <td>1.0</td>\n",
       "      <td>464000.0</td>\n",
       "      <td>527948.100949</td>\n",
       "    </tr>\n",
       "    <tr>\n",
       "      <th>2</th>\n",
       "      <td>2.0</td>\n",
       "      <td>3.0</td>\n",
       "      <td>1243.0</td>\n",
       "      <td>97078.0</td>\n",
       "      <td>1962.0</td>\n",
       "      <td>2.0</td>\n",
       "      <td>564778.0</td>\n",
       "      <td>527948.100949</td>\n",
       "    </tr>\n",
       "  </tbody>\n",
       "</table>\n",
       "</div>"
      ],
      "text/plain": [
       "   bathrooms  bedrooms    area      zip  yearbuilt  fullbathcnt  tax_value  \\\n",
       "0        3.5       4.0  3100.0  96978.0     1998.0          3.0  1023282.0   \n",
       "1        1.0       2.0  1465.0  97099.0     1967.0          1.0   464000.0   \n",
       "2        2.0       3.0  1243.0  97078.0     1962.0          2.0   564778.0   \n",
       "\n",
       "   yhat_baseline  \n",
       "0  527948.100949  \n",
       "1  527948.100949  \n",
       "2  527948.100949  "
      ]
     },
     "execution_count": 53,
     "metadata": {},
     "output_type": "execute_result"
    }
   ],
   "source": [
    "df['yhat_baseline'] = df['tax_value'].mean()\n",
    "df.head(3)"
   ]
  },
  {
   "cell_type": "code",
   "execution_count": null,
   "id": "6618c58b",
   "metadata": {},
   "outputs": [],
   "source": [
    "baseline is 527948.10"
   ]
  },
  {
   "cell_type": "markdown",
   "id": "d9a820e1",
   "metadata": {},
   "source": [
    "# Simple Linear Regression Model\n"
   ]
  },
  {
   "cell_type": "code",
   "execution_count": 57,
   "id": "e27945de",
   "metadata": {},
   "outputs": [
    {
     "data": {
      "text/html": [
       "<div>\n",
       "<style scoped>\n",
       "    .dataframe tbody tr th:only-of-type {\n",
       "        vertical-align: middle;\n",
       "    }\n",
       "\n",
       "    .dataframe tbody tr th {\n",
       "        vertical-align: top;\n",
       "    }\n",
       "\n",
       "    .dataframe thead th {\n",
       "        text-align: right;\n",
       "    }\n",
       "</style>\n",
       "<table border=\"1\" class=\"dataframe\">\n",
       "  <thead>\n",
       "    <tr style=\"text-align: right;\">\n",
       "      <th></th>\n",
       "      <th>bathrooms</th>\n",
       "      <th>bedrooms</th>\n",
       "      <th>area</th>\n",
       "      <th>zip</th>\n",
       "      <th>yearbuilt</th>\n",
       "      <th>fullbathcnt</th>\n",
       "      <th>tax_value</th>\n",
       "      <th>yhat_baseline</th>\n",
       "      <th>yhat</th>\n",
       "    </tr>\n",
       "  </thead>\n",
       "  <tbody>\n",
       "    <tr>\n",
       "      <th>0</th>\n",
       "      <td>3.5</td>\n",
       "      <td>4.0</td>\n",
       "      <td>3100.0</td>\n",
       "      <td>96978.0</td>\n",
       "      <td>1998.0</td>\n",
       "      <td>3.0</td>\n",
       "      <td>1023282.0</td>\n",
       "      <td>527948.100949</td>\n",
       "      <td>1.074290e+06</td>\n",
       "    </tr>\n",
       "    <tr>\n",
       "      <th>1</th>\n",
       "      <td>1.0</td>\n",
       "      <td>2.0</td>\n",
       "      <td>1465.0</td>\n",
       "      <td>97099.0</td>\n",
       "      <td>1967.0</td>\n",
       "      <td>1.0</td>\n",
       "      <td>464000.0</td>\n",
       "      <td>527948.100949</td>\n",
       "      <td>4.109186e+05</td>\n",
       "    </tr>\n",
       "    <tr>\n",
       "      <th>2</th>\n",
       "      <td>2.0</td>\n",
       "      <td>3.0</td>\n",
       "      <td>1243.0</td>\n",
       "      <td>97078.0</td>\n",
       "      <td>1962.0</td>\n",
       "      <td>2.0</td>\n",
       "      <td>564778.0</td>\n",
       "      <td>527948.100949</td>\n",
       "      <td>2.272521e+05</td>\n",
       "    </tr>\n",
       "  </tbody>\n",
       "</table>\n",
       "</div>"
      ],
      "text/plain": [
       "   bathrooms  bedrooms    area      zip  yearbuilt  fullbathcnt  tax_value  \\\n",
       "0        3.5       4.0  3100.0  96978.0     1998.0          3.0  1023282.0   \n",
       "1        1.0       2.0  1465.0  97099.0     1967.0          1.0   464000.0   \n",
       "2        2.0       3.0  1243.0  97078.0     1962.0          2.0   564778.0   \n",
       "\n",
       "   yhat_baseline          yhat  \n",
       "0  527948.100949  1.074290e+06  \n",
       "1  527948.100949  4.109186e+05  \n",
       "2  527948.100949  2.272521e+05  "
      ]
     },
     "execution_count": 57,
     "metadata": {},
     "output_type": "execute_result"
    }
   ],
   "source": [
    "# generate parameters, i.e. create model\n",
    "ols_model = LinearRegression().fit(df[['area','bathrooms','bedrooms']], df.tax_value)\n",
    "\n",
    "# compute predictions and add to original dataframe\n",
    "df['yhat'] = ols_model.predict(df[['area','bathrooms','bedrooms']])\n",
    "\n",
    "df.head(3)"
   ]
  },
  {
   "cell_type": "code",
   "execution_count": 63,
   "id": "0e8afcee",
   "metadata": {},
   "outputs": [
    {
     "data": {
      "image/png": "[encoded data removed]",
      "text/plain": [
       "<Figure size 300x300 with 1 Axes>"
      ]
     },
     "metadata": {},
     "output_type": "display_data"
    }
   ],
   "source": [
    "\n",
    "# Assuming you have already created the 'yhat' column in your DataFrame\n",
    "\n",
    "# Create a scatterplot of actual vs. predicted values\n",
    "plt.figure(figsize=(3, 3))\n",
    "plt.scatter(df['tax_value'], df['yhat'], alpha=0.5)\n",
    "plt.xlabel('Actual Tax Value')\n",
    "plt.ylabel('Predicted Tax Value')\n",
    "plt.title('Actual vs. Predicted Tax Value (Linear Regression)')\n",
    "\n",
    "# Add a 45-degree reference line for comparison\n",
    "plt.plot([df['tax_value'].min(), df['tax_value'].max()], [df['tax_value'].min(), df['tax_value'].max()], color='red', linestyle='--')\n",
    "\n",
    "# Show the plot\n",
    "plt.tight_layout()\n",
    "plt.show()\n"
   ]
  },
  {
   "cell_type": "code",
   "execution_count": null,
   "id": "df2cc6ae",
   "metadata": {},
   "outputs": [],
   "source": []
  },
  {
   "cell_type": "code",
   "execution_count": null,
   "id": "518e619a",
   "metadata": {},
   "outputs": [],
   "source": []
  },
  {
   "cell_type": "code",
   "execution_count": 25,
   "id": "68942dc2",
   "metadata": {},
   "outputs": [],
   "source": [
    "\n",
    "'''\n",
    "Function takes the predicted variable (x) and target variable (y)\n",
    "fits them to the simple linear regression model and computes the predictions \n",
    "and then adds them to the dataframe  \n",
    "''' \n",
    "x_train = train[['area','bathrooms','bedrooms']]\n",
    "y_train = train.tax_value\n",
    "\n",
    "x_validate = validate[['area','bathrooms','bedrooms']]\n",
    "y_validate = validate.tax_value\n",
    "\n",
    "lm_model = LinearRegression().fit(x_train, y_train)\n",
    "train['lm_predictions'] = lm_model.predict(x_train)\n",
    "validate['lm_predictions'] = lm_model.predict(x_validate)\n",
    "\n",
    "lm_co = lm_model.coef_\n",
    "lm_int = lm_model.intercept_\n",
    "\n",
    "simp_co = pd.Series(lm_model.coef_, index=x_train.columns).sort_values()\n"
   ]
  },
  {
   "cell_type": "code",
   "execution_count": 26,
   "id": "bc3314a4",
   "metadata": {
    "scrolled": true
   },
   "outputs": [
    {
     "data": {
      "text/plain": [
       "bedrooms    -156381.652033\n",
       "area            480.176365\n",
       "bathrooms     70045.497150\n",
       "dtype: float64"
      ]
     },
     "execution_count": 26,
     "metadata": {},
     "output_type": "execute_result"
    }
   ],
   "source": [
    "simp_co"
   ]
  },
  {
   "cell_type": "code",
   "execution_count": 65,
   "id": "fe664b42",
   "metadata": {},
   "outputs": [
    {
     "data": {
      "image/png": "[encoded data removed]",
      "text/plain": [
       "<Figure size 1000x600 with 1 Axes>"
      ]
     },
     "metadata": {},
     "output_type": "display_data"
    }
   ],
   "source": [
    "\n",
    "\n",
    "# Assuming you have already calculated lm_co and sorted it as simp_co\n",
    "\n",
    "# Create a bar plot of the coefficients\n",
    "plt.figure(figsize=(10, 6))\n",
    "plt.bar(simp_co.index, simp_co.values)\n",
    "plt.xlabel('Features')\n",
    "plt.ylabel('Coefficients')\n",
    "plt.title('Linear Regression Coefficients')\n",
    "plt.xticks(rotation=45)  # Rotate x-axis labels for better readability\n",
    "\n",
    "# Show the plot\n",
    "plt.tight_layout()\n",
    "plt.show()\n"
   ]
  },
  {
   "cell_type": "code",
   "execution_count": 27,
   "id": "b2977906",
   "metadata": {},
   "outputs": [],
   "source": [
    "'''\n",
    "Function takes the predicted variable (x) and target variable (y)\n",
    "fits them to the lasso lars regression model and computes the predictions \n",
    "and then adds them to the dataframe  \n",
    "''' \n",
    "x_train = train[['area','bathrooms','bedrooms']]\n",
    "y_train = train.tax_value\n",
    "\n",
    "x_validate = validate[['area','bathrooms','bedrooms']]\n",
    "y_validate = validate.tax_value\n",
    "\n",
    "lars = LassoLars(alpha=1).fit(x_train, y_train)\n",
    "train['lars_predictions'] = lars.predict(x_train)\n",
    "validate['lars_predictions'] = lars.predict(x_validate)\n",
    "\n",
    "lars_co = pd.Series(lars.coef_, index=x_train.columns).sort_values()\n"
   ]
  },
  {
   "cell_type": "code",
   "execution_count": 28,
   "id": "7417d56e",
   "metadata": {},
   "outputs": [
    {
     "data": {
      "text/plain": [
       "bedrooms    -156378.871046\n",
       "area            480.178637\n",
       "bathrooms     70040.969373\n",
       "dtype: float64"
      ]
     },
     "execution_count": 28,
     "metadata": {},
     "output_type": "execute_result"
    }
   ],
   "source": [
    "lars_co"
   ]
  },
  {
   "cell_type": "code",
   "execution_count": 29,
   "id": "ed4de4d5",
   "metadata": {},
   "outputs": [],
   "source": [
    "'''\n",
    "Takes the predicted variable (x) and target variable (y)\n",
    "fits them to the generalized linear regression model and computes the predictions \n",
    "and then adds them to the dataframe  \n",
    "''' \n",
    "x_train = train[['area','bathrooms','bedrooms']]\n",
    "y_train = train.tax_value\n",
    "\n",
    "x_validate = validate[['area','bathrooms','bedrooms']]\n",
    "y_validate = validate.tax_value\n",
    "\n",
    "glm_model = TweedieRegressor(power=0, alpha=1).fit(x_train, y_train)\n",
    "train['glm_predictions'] = glm_model.predict(x_train)\n",
    "validate['glm_predictions'] = glm_model.predict(x_validate)\n",
    "\n",
    "glm_co = pd.Series(glm_model.coef_, index=x_train.columns).sort_values()"
   ]
  },
  {
   "cell_type": "code",
   "execution_count": 30,
   "id": "8f2b64a3",
   "metadata": {},
   "outputs": [
    {
     "data": {
      "text/plain": [
       "bedrooms    -49888.148420\n",
       "area           472.256848\n",
       "bathrooms     6839.945909\n",
       "dtype: float64"
      ]
     },
     "execution_count": 30,
     "metadata": {},
     "output_type": "execute_result"
    }
   ],
   "source": [
    "glm_co"
   ]
  },
  {
   "cell_type": "code",
   "execution_count": 31,
   "id": "e75992e5",
   "metadata": {},
   "outputs": [],
   "source": [
    "## Evalute the Models"
   ]
  },
  {
   "cell_type": "code",
   "execution_count": 32,
   "id": "ee8e5b95",
   "metadata": {},
   "outputs": [],
   "source": [
    "# Calculating the\n",
    "    # Sum of Squared Errors\n",
    "    # Mean Squared Errors\n",
    "    # Root of Mean Squared Errors\n",
    "# for the baseline predictions\n",
    "y = train.tax_value\n",
    "baseline = np.repeat(y.mean(), len(y))\n",
    "\n",
    "MSE = mean_squared_error(y, baseline)\n",
    "SSE = MSE * len(y)\n",
    "RMSE = MSE**.5"
   ]
  },
  {
   "cell_type": "code",
   "execution_count": 33,
   "id": "6cbd319f",
   "metadata": {},
   "outputs": [
    {
     "data": {
      "text/plain": [
       "522950529922.71185"
      ]
     },
     "execution_count": 33,
     "metadata": {},
     "output_type": "execute_result"
    }
   ],
   "source": [
    "MSE"
   ]
  },
  {
   "cell_type": "code",
   "execution_count": 34,
   "id": "30324425",
   "metadata": {},
   "outputs": [
    {
     "data": {
      "text/plain": [
       "1.5299440703418858e+16"
      ]
     },
     "execution_count": 34,
     "metadata": {},
     "output_type": "execute_result"
    }
   ],
   "source": [
    "SSE"
   ]
  },
  {
   "cell_type": "code",
   "execution_count": 35,
   "id": "4383a1be",
   "metadata": {},
   "outputs": [
    {
     "data": {
      "text/plain": [
       "723153.1856548181"
      ]
     },
     "execution_count": 35,
     "metadata": {},
     "output_type": "execute_result"
    }
   ],
   "source": [
    "RMSE"
   ]
  },
  {
   "cell_type": "code",
   "execution_count": 36,
   "id": "7ef37606",
   "metadata": {},
   "outputs": [],
   "source": [
    "# Calculating the\n",
    "    # Sum of Squared Errors\n",
    "    # Mean Squared Errors\n",
    "    # Root of Mean Squared Errors\n",
    "# for the lars predictions\n",
    "y = train.tax_value\n",
    "yhat = train.lars_predictions\n",
    "MSE = mean_squared_error(y, yhat)\n",
    "SSE = MSE * len(y)\n",
    "RMSE = MSE**.5"
   ]
  },
  {
   "cell_type": "code",
   "execution_count": 37,
   "id": "1c4c1ad7",
   "metadata": {},
   "outputs": [
    {
     "data": {
      "text/plain": [
       "307167268685.5385"
      ]
     },
     "execution_count": 37,
     "metadata": {},
     "output_type": "execute_result"
    }
   ],
   "source": [
    "MSE"
   ]
  },
  {
   "cell_type": "code",
   "execution_count": 38,
   "id": "c80715c4",
   "metadata": {},
   "outputs": [
    {
     "data": {
      "text/plain": [
       "8986485612664115.0"
      ]
     },
     "execution_count": 38,
     "metadata": {},
     "output_type": "execute_result"
    }
   ],
   "source": [
    "SSE"
   ]
  },
  {
   "cell_type": "code",
   "execution_count": 39,
   "id": "59b35af2",
   "metadata": {},
   "outputs": [
    {
     "data": {
      "text/plain": [
       "554226.7303960884"
      ]
     },
     "execution_count": 39,
     "metadata": {},
     "output_type": "execute_result"
    }
   ],
   "source": [
    "RMSE"
   ]
  },
  {
   "cell_type": "code",
   "execution_count": 40,
   "id": "dd079fd5",
   "metadata": {},
   "outputs": [],
   "source": [
    "# Calculating the\n",
    "    # Sum of Squared Errors\n",
    "    # Mean Squared Errors\n",
    "    # Root of Mean Squared Errors\n",
    "# for the lars predictions\n",
    "y = train.tax_value\n",
    "yhat = train.glm_predictions\n",
    "MSE = mean_squared_error(y, yhat)\n",
    "SSE = MSE * len(y)\n",
    "RMSE = MSE**.5"
   ]
  },
  {
   "cell_type": "code",
   "execution_count": 41,
   "id": "38507e1f",
   "metadata": {},
   "outputs": [
    {
     "data": {
      "text/plain": [
       "312912358640.6519"
      ]
     },
     "execution_count": 41,
     "metadata": {},
     "output_type": "execute_result"
    }
   ],
   "source": [
    "MSE"
   ]
  },
  {
   "cell_type": "code",
   "execution_count": 42,
   "id": "fff63d79",
   "metadata": {},
   "outputs": [
    {
     "data": {
      "text/plain": [
       "9154563964390912.0"
      ]
     },
     "execution_count": 42,
     "metadata": {},
     "output_type": "execute_result"
    }
   ],
   "source": [
    "SSE"
   ]
  },
  {
   "cell_type": "code",
   "execution_count": 43,
   "id": "5d048140",
   "metadata": {},
   "outputs": [
    {
     "data": {
      "text/plain": [
       "559385.697565331"
      ]
     },
     "execution_count": 43,
     "metadata": {},
     "output_type": "execute_result"
    }
   ],
   "source": [
    "RMSE"
   ]
  },
  {
   "cell_type": "code",
   "execution_count": null,
   "id": "105039da",
   "metadata": {},
   "outputs": [],
   "source": []
  },
  {
   "cell_type": "code",
   "execution_count": null,
   "id": "93700c42",
   "metadata": {},
   "outputs": [],
   "source": []
  },
  {
   "cell_type": "code",
   "execution_count": 44,
   "id": "2122834f",
   "metadata": {},
   "outputs": [],
   "source": [
    "# Create Dataframes for visual comparison\n",
    "y_train = pd.DataFrame(train.tax_value)\n",
    "y_validate = pd.DataFrame(validate.tax_value)\n",
    "y_test = pd.DataFrame(test.tax_value)"
   ]
  },
  {
   "cell_type": "code",
   "execution_count": 45,
   "id": "eb9c2156",
   "metadata": {},
   "outputs": [],
   "source": [
    "# Place our baseline predictions in the new dataframe\n",
    "taxVal_pred_mean = train.tax_value.mean()\n",
    "y_train['taxVal_pred_mean'] = taxVal_pred_mean\n",
    "y_validate['taxVal_pred_mean'] = taxVal_pred_mean"
   ]
  },
  {
   "cell_type": "code",
   "execution_count": 46,
   "id": "741568f2",
   "metadata": {},
   "outputs": [],
   "source": [
    "# RMSE of baseline predictions on train & validate\n",
    "rmse_train = mean_squared_error(y_train.tax_value,\n",
    "                                y_train.taxVal_pred_mean) ** .5\n",
    "rmse_validate = mean_squared_error(y_validate.tax_value,\n",
    "                                   y_validate.taxVal_pred_mean) ** (1/2)"
   ]
  },
  {
   "cell_type": "code",
   "execution_count": 47,
   "id": "ad849f7a",
   "metadata": {},
   "outputs": [
    {
     "name": "stdout",
     "output_type": "stream",
     "text": [
      "RMSE Baseline Results\n",
      "Train/Sample Set:  723153.19 \n",
      "Validate/Sample Set:  845763.34\n"
     ]
    }
   ],
   "source": [
    "# Here we can compare the baseline results from the training \n",
    "# sample set versus the validate sample set\n",
    "# not very much difference in the errors\n",
    "print(\"RMSE Baseline Results\\nTrain/Sample Set: \", round(rmse_train, 2), \n",
    "      \"\\nValidate/Sample Set: \", round(rmse_validate, 2))"
   ]
  },
  {
   "cell_type": "code",
   "execution_count": 48,
   "id": "f39aa8b3",
   "metadata": {},
   "outputs": [
    {
     "ename": "NameError",
     "evalue": "name 'make_metric_df' is not defined",
     "output_type": "error",
     "traceback": [
      "\u001b[0;31m---------------------------------------------------------------------------\u001b[0m",
      "\u001b[0;31mNameError\u001b[0m                                 Traceback (most recent call last)",
      "Cell \u001b[0;32mIn[48], line 4\u001b[0m\n\u001b[1;32m      2\u001b[0m metric_df \u001b[38;5;241m=\u001b[39m pd\u001b[38;5;241m.\u001b[39mDataFrame()\n\u001b[1;32m      3\u001b[0m \u001b[38;5;66;03m# Nab those safe baseline predictions from earlier\u001b[39;00m\n\u001b[0;32m----> 4\u001b[0m metric_df \u001b[38;5;241m=\u001b[39m \u001b[43mmake_metric_df\u001b[49m(y_validate\u001b[38;5;241m.\u001b[39mtax_value,\n\u001b[1;32m      5\u001b[0m                            y_validate\u001b[38;5;241m.\u001b[39mtaxVal_pred_mean,\n\u001b[1;32m      6\u001b[0m                            \u001b[38;5;124m'\u001b[39m\u001b[38;5;124mmean_baseline\u001b[39m\u001b[38;5;124m'\u001b[39m,\n\u001b[1;32m      7\u001b[0m                           metric_df)\n\u001b[1;32m      8\u001b[0m \u001b[38;5;66;03m# Voila\u001b[39;00m\n\u001b[1;32m      9\u001b[0m metric_df\n",
      "\u001b[0;31mNameError\u001b[0m: name 'make_metric_df' is not defined"
     ]
    }
   ],
   "source": [
    "# Create the metric_df as a blank dataframe\n",
    "metric_df = pd.DataFrame()\n",
    "# Nab those safe baseline predictions from earlier\n",
    "metric_df = make_metric_df(y_validate.tax_value,\n",
    "                           y_validate.taxVal_pred_mean,\n",
    "                           'mean_baseline',\n",
    "                          metric_df)\n",
    "# Voila\n",
    "metric_df"
   ]
  },
  {
   "cell_type": "code",
   "execution_count": null,
   "id": "3f7cb0f9",
   "metadata": {},
   "outputs": [],
   "source": [
    "# Adding the validate results for the Ols model \n",
    "metric_df = metric_df.append({\n",
    "    'model': 'SimpleLinear', \n",
    "    'RMSE_validate': mean_squared_error(validate.tax_value, validate.lm_predictions),\n",
    "    'r^2_validate': explained_variance_score(validate.tax_value, validate.lm_predictions)}, ignore_index=True)\n",
    "# Voila\n",
    "metric_df"
   ]
  },
  {
   "cell_type": "code",
   "execution_count": null,
   "id": "f8f11050",
   "metadata": {},
   "outputs": [],
   "source": [
    "# Adding the validate results for the LassoLars model\n",
    "metric_df = metric_df.append({\n",
    "    'model': 'LassoLars', \n",
    "    'RMSE_validate': mean_squared_error(validate.tax_value, validate.lars_predictions),\n",
    "    'r^2_validate': explained_variance_score(validate.tax_value, validate.lars_predictions)}, ignore_index=True)\n",
    "# Voila\n",
    "metric_df"
   ]
  },
  {
   "cell_type": "code",
   "execution_count": null,
   "id": "714a7407",
   "metadata": {},
   "outputs": [],
   "source": [
    "# Adding the validate results for the Tweedie model\n",
    "metric_df = metric_df.append({\n",
    "    'model': 'GeneralizedLinear', \n",
    "    'RMSE_validate': mean_squared_error(validate.tax_value, validate.glm_predictions),\n",
    "    'r^2_validate': explained_variance_score(validate.tax_value, validate.glm_predictions)}, ignore_index=True)\n",
    "# Voila\n",
    "metric_df"
   ]
  },
  {
   "cell_type": "markdown",
   "id": "4139c24c",
   "metadata": {},
   "source": [
    "## Modeling Take Away\n",
    "\n",
    "SimpleLinear and LassoLars is very similar"
   ]
  },
  {
   "cell_type": "markdown",
   "id": "ec563ded",
   "metadata": {},
   "source": [
    "lars = LassoLars(alpha=1).fit(x_test, y_test)\n",
    "y_test['lars_predictions'] = lars.predict(x_test)\n",
    "rmse_test = mean_squared_error(y_test.tax_value, y_test.lars_predictions) ** (1/2)\n",
    "print(\"RMSE for LassoLars Model Test-Sample Performance: \", rmse_test)"
   ]
  },
  {
   "cell_type": "code",
   "execution_count": null,
   "id": "cb4e16e1",
   "metadata": {},
   "outputs": [],
   "source": []
  },
  {
   "cell_type": "code",
   "execution_count": null,
   "id": "9afe2b2a",
   "metadata": {},
   "outputs": [],
   "source": []
  }
 ],
 "metadata": {
  "kernelspec": {
   "display_name": "Python 3 (ipykernel)",
   "language": "python",
   "name": "python3"
  },
  "language_info": {
   "codemirror_mode": {
    "name": "ipython",
    "version": 3
   },
   "file_extension": ".py",
   "mimetype": "text/x-python",
   "name": "python",
   "nbconvert_exporter": "python",
   "pygments_lexer": "ipython3",
   "version": "3.10.9"
  }
 },
 "nbformat": 4,
 "nbformat_minor": 5
}
