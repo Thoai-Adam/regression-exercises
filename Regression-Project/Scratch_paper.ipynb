{
 "cells": [
  {
   "cell_type": "code",
   "execution_count": 145,
   "id": "793bb3fd",
   "metadata": {},
   "outputs": [],
   "source": [
    "import warnings\n",
    "warnings.filterwarnings(\"ignore\")\n",
    "\n",
    "import pandas as pd\n",
    "import numpy as np\n",
    "import os\n",
    "import acquire_prep as ap\n",
    "import explore as ez\n",
    "import modeling as mz\n",
    "from env import get_connection\n",
    "\n",
    "import matplotlib.pyplot as plt\n",
    "import seaborn as sns\n",
    "from math import sqrt\n",
    "from scipy import stats\n",
    "import sklearn\n",
    "from sklearn.preprocessing import MinMaxScaler, StandardScaler, RobustScaler, QuantileTransformer\n",
    "from sklearn.linear_model import LinearRegression\n",
    "from sklearn.linear_model import LassoLars\n",
    "from sklearn.linear_model import TweedieRegressor\n",
    "from sklearn.feature_selection import SelectKBest, RFE, f_regression, SequentialFeatureSelector\n",
    "from sklearn.metrics import mean_squared_error, r2_score, explained_variance_score\n",
    "from sklearn.feature_selection import f_regression\n",
    "from sklearn.model_selection import train_test_split"
   ]
  },
  {
   "cell_type": "markdown",
   "id": "6645de7c",
   "metadata": {},
   "source": [
    "# ACQUIRE"
   ]
  },
  {
   "cell_type": "code",
   "execution_count": 146,
   "id": "c9d0598f",
   "metadata": {},
   "outputs": [],
   "source": [
    "# create helper function to get the necessary connection url.\n",
    "def get_db_connection(database):\n",
    "    return get_connection(database)\n",
    "\n",
    "# connect to sql zillow database\n",
    "\n",
    "url = \"zillow\"\n",
    "\n",
    "    # use this query to get data    \n",
    "sql_query = '''SELECT *\n",
    "            FROM predictions_2017\n",
    "            JOIN properties_2017 on properties_2017.parcelid = predictions_2017.parcelid\n",
    "            JOIN propertylandusetype on propertylandusetype.propertylandusetypeid = properties_2017.propertylandusetypeid;\n",
    "            '''\n",
    "\n",
    "    # assign data to data frame\n",
    "df = pd.read_sql(sql_query, get_connection(url))\n"
   ]
  },
  {
   "cell_type": "code",
   "execution_count": 147,
   "id": "05db7387",
   "metadata": {},
   "outputs": [
    {
     "data": {
      "text/plain": [
       "(52442, 65)"
      ]
     },
     "execution_count": 147,
     "metadata": {},
     "output_type": "execute_result"
    }
   ],
   "source": [
    "#filter out single family residential as requested\n",
    "\n",
    "df= df[df['propertylandusedesc'] == 'Single Family Residential']\n",
    "df.shape\n",
    "    "
   ]
  },
  {
   "cell_type": "code",
   "execution_count": 148,
   "id": "68948e5e",
   "metadata": {},
   "outputs": [],
   "source": [
    "#filter out single family residential as requested\n",
    "def narrowing(database):\n",
    "    df= df[df['propertylandusedesc'] == 'Single Family Residential']\n",
    "    df.shape\n",
    "\n",
    "# Convert the 'transactiondate' column to datetime\n",
    "    df['transactiondate'] = pd.to_datetime(df['transactiondate'])\n",
    "\n",
    "# Define the start and end dates for the range\n",
    "    start_date = pd.to_datetime('2017-01-01')\n",
    "    end_date = pd.to_datetime('2017-12-31')\n",
    "\n",
    "# Filter the DataFrame to keep rows within the specified date range\n",
    "    df= df[(df['transactiondate'] >= start_date) & (df['transactiondate'] <= end_date)]\n"
   ]
  },
  {
   "cell_type": "code",
   "execution_count": 149,
   "id": "98fb9ccc",
   "metadata": {},
   "outputs": [],
   "source": [
    "#deciding which columns to keep \n",
    "columns_to_keep = ['bathroomcnt',\n",
    "                   'bedroomcnt',\n",
    "                   'calculatedfinishedsquarefeet',\n",
    "                   'yearbuilt',\n",
    "                   'taxvaluedollarcnt']\n",
    "df = df[columns_to_keep]"
   ]
  },
  {
   "cell_type": "code",
   "execution_count": 150,
   "id": "c1c125d7",
   "metadata": {},
   "outputs": [
    {
     "data": {
      "text/html": [
       "<div>\n",
       "<style scoped>\n",
       "    .dataframe tbody tr th:only-of-type {\n",
       "        vertical-align: middle;\n",
       "    }\n",
       "\n",
       "    .dataframe tbody tr th {\n",
       "        vertical-align: top;\n",
       "    }\n",
       "\n",
       "    .dataframe thead th {\n",
       "        text-align: right;\n",
       "    }\n",
       "</style>\n",
       "<table border=\"1\" class=\"dataframe\">\n",
       "  <thead>\n",
       "    <tr style=\"text-align: right;\">\n",
       "      <th></th>\n",
       "      <th>bathroomcnt</th>\n",
       "      <th>bedroomcnt</th>\n",
       "      <th>calculatedfinishedsquarefeet</th>\n",
       "      <th>yearbuilt</th>\n",
       "      <th>taxvaluedollarcnt</th>\n",
       "    </tr>\n",
       "  </thead>\n",
       "  <tbody>\n",
       "    <tr>\n",
       "      <th>0</th>\n",
       "      <td>3.5</td>\n",
       "      <td>4.0</td>\n",
       "      <td>3100.0</td>\n",
       "      <td>1998.0</td>\n",
       "      <td>1023282.0</td>\n",
       "    </tr>\n",
       "    <tr>\n",
       "      <th>1</th>\n",
       "      <td>1.0</td>\n",
       "      <td>2.0</td>\n",
       "      <td>1465.0</td>\n",
       "      <td>1967.0</td>\n",
       "      <td>464000.0</td>\n",
       "    </tr>\n",
       "    <tr>\n",
       "      <th>2</th>\n",
       "      <td>2.0</td>\n",
       "      <td>3.0</td>\n",
       "      <td>1243.0</td>\n",
       "      <td>1962.0</td>\n",
       "      <td>564778.0</td>\n",
       "    </tr>\n",
       "    <tr>\n",
       "      <th>3</th>\n",
       "      <td>3.0</td>\n",
       "      <td>4.0</td>\n",
       "      <td>2376.0</td>\n",
       "      <td>1970.0</td>\n",
       "      <td>145143.0</td>\n",
       "    </tr>\n",
       "    <tr>\n",
       "      <th>6</th>\n",
       "      <td>3.0</td>\n",
       "      <td>4.0</td>\n",
       "      <td>2962.0</td>\n",
       "      <td>1950.0</td>\n",
       "      <td>773303.0</td>\n",
       "    </tr>\n",
       "    <tr>\n",
       "      <th>...</th>\n",
       "      <td>...</td>\n",
       "      <td>...</td>\n",
       "      <td>...</td>\n",
       "      <td>...</td>\n",
       "      <td>...</td>\n",
       "    </tr>\n",
       "    <tr>\n",
       "      <th>77575</th>\n",
       "      <td>2.0</td>\n",
       "      <td>2.0</td>\n",
       "      <td>1286.0</td>\n",
       "      <td>1940.0</td>\n",
       "      <td>354621.0</td>\n",
       "    </tr>\n",
       "    <tr>\n",
       "      <th>77576</th>\n",
       "      <td>2.0</td>\n",
       "      <td>4.0</td>\n",
       "      <td>1612.0</td>\n",
       "      <td>1964.0</td>\n",
       "      <td>67205.0</td>\n",
       "    </tr>\n",
       "    <tr>\n",
       "      <th>77577</th>\n",
       "      <td>1.0</td>\n",
       "      <td>3.0</td>\n",
       "      <td>1032.0</td>\n",
       "      <td>1954.0</td>\n",
       "      <td>49546.0</td>\n",
       "    </tr>\n",
       "    <tr>\n",
       "      <th>77578</th>\n",
       "      <td>2.0</td>\n",
       "      <td>3.0</td>\n",
       "      <td>1762.0</td>\n",
       "      <td>1955.0</td>\n",
       "      <td>522000.0</td>\n",
       "    </tr>\n",
       "    <tr>\n",
       "      <th>77579</th>\n",
       "      <td>2.0</td>\n",
       "      <td>3.0</td>\n",
       "      <td>1050.0</td>\n",
       "      <td>1960.0</td>\n",
       "      <td>259334.0</td>\n",
       "    </tr>\n",
       "  </tbody>\n",
       "</table>\n",
       "<p>52320 rows × 5 columns</p>\n",
       "</div>"
      ],
      "text/plain": [
       "       bathroomcnt  bedroomcnt  calculatedfinishedsquarefeet  yearbuilt  \\\n",
       "0              3.5         4.0                        3100.0     1998.0   \n",
       "1              1.0         2.0                        1465.0     1967.0   \n",
       "2              2.0         3.0                        1243.0     1962.0   \n",
       "3              3.0         4.0                        2376.0     1970.0   \n",
       "6              3.0         4.0                        2962.0     1950.0   \n",
       "...            ...         ...                           ...        ...   \n",
       "77575          2.0         2.0                        1286.0     1940.0   \n",
       "77576          2.0         4.0                        1612.0     1964.0   \n",
       "77577          1.0         3.0                        1032.0     1954.0   \n",
       "77578          2.0         3.0                        1762.0     1955.0   \n",
       "77579          2.0         3.0                        1050.0     1960.0   \n",
       "\n",
       "       taxvaluedollarcnt  \n",
       "0              1023282.0  \n",
       "1               464000.0  \n",
       "2               564778.0  \n",
       "3               145143.0  \n",
       "6               773303.0  \n",
       "...                  ...  \n",
       "77575           354621.0  \n",
       "77576            67205.0  \n",
       "77577            49546.0  \n",
       "77578           522000.0  \n",
       "77579           259334.0  \n",
       "\n",
       "[52320 rows x 5 columns]"
      ]
     },
     "execution_count": 150,
     "metadata": {},
     "output_type": "execute_result"
    }
   ],
   "source": [
    "#dropping more nulls\n",
    "df.dropna()"
   ]
  },
  {
   "cell_type": "code",
   "execution_count": 151,
   "id": "8fa3e451",
   "metadata": {},
   "outputs": [],
   "source": [
    "#1. Rename the columns to be more readable\n",
    "df = df.rename(columns = {'bedroomcnt':'bedrooms', \n",
    "                          'bathroomcnt':'bathrooms', \n",
    "                          'calculatedfinishedsquarefeet':'area', \n",
    "                          'taxvaluedollarcnt':'tax_value', \n",
    "                          })"
   ]
  },
  {
   "cell_type": "code",
   "execution_count": 152,
   "id": "8489e615",
   "metadata": {
    "scrolled": false
   },
   "outputs": [
    {
     "data": {
      "text/plain": [
       "bathrooms      0\n",
       "bedrooms       0\n",
       "area          82\n",
       "yearbuilt    116\n",
       "tax_value      1\n",
       "dtype: int64"
      ]
     },
     "execution_count": 152,
     "metadata": {},
     "output_type": "execute_result"
    }
   ],
   "source": [
    "df.isna().sum()"
   ]
  },
  {
   "cell_type": "code",
   "execution_count": 153,
   "id": "84eb846f",
   "metadata": {},
   "outputs": [],
   "source": [
    "df=df.dropna()"
   ]
  },
  {
   "cell_type": "code",
   "execution_count": 154,
   "id": "1447ab2f",
   "metadata": {},
   "outputs": [
    {
     "data": {
      "text/plain": [
       "bathrooms    0\n",
       "bedrooms     0\n",
       "area         0\n",
       "yearbuilt    0\n",
       "tax_value    0\n",
       "dtype: int64"
      ]
     },
     "execution_count": 154,
     "metadata": {},
     "output_type": "execute_result"
    }
   ],
   "source": [
    "df.isna().sum()"
   ]
  },
  {
   "cell_type": "code",
   "execution_count": 155,
   "id": "72fc7a08",
   "metadata": {},
   "outputs": [],
   "source": [
    "### Splitting\n",
    "\n",
    "    \n",
    "train_validate, test = train_test_split(df, test_size=.2, random_state=42)\n",
    "    \n",
    "train, validate = train_test_split(train_validate, \n",
    "                                   test_size=.3, \n",
    "                                    random_state=42)"
   ]
  },
  {
   "cell_type": "markdown",
   "id": "0b8f7b99",
   "metadata": {},
   "source": [
    "## EXPLORE\n",
    "\n"
   ]
  },
  {
   "cell_type": "code",
   "execution_count": 156,
   "id": "0d8ffd78",
   "metadata": {},
   "outputs": [],
   "source": [
    "X = df[['area', 'bedrooms', 'bathrooms']]\n",
    "y = df['tax_value']"
   ]
  },
  {
   "cell_type": "code",
   "execution_count": 157,
   "id": "e4dcc3b4",
   "metadata": {
    "scrolled": true
   },
   "outputs": [
    {
     "data": {
      "image/png": "[encoded data removed]",
      "text/plain": [
       "<Figure size 1500x500 with 3 Axes>"
      ]
     },
     "metadata": {},
     "output_type": "display_data"
    }
   ],
   "source": [
    "# Create a pairplot\n",
    "sns.pairplot(df, x_vars=['area', 'bedrooms', 'bathrooms'], y_vars=['tax_value'], kind='scatter', size=5)\n",
    "\n",
    "# Set plot labels and title\n",
    "plt.xlabel(\"bathrooms\")\n",
    "plt.ylabel(\"Y Variable\")\n",
    "plt.title(\"Pairplot of bed+bath+area vs value\")\n",
    "plt.suptitle(\"Pairplot of Features vs. Tax Value\", y=1.02)\n",
    "\n",
    "plt.show()"
   ]
  },
  {
   "cell_type": "markdown",
   "id": "a04a36f5",
   "metadata": {},
   "source": [
    "### Take Aways:\n",
    "\n",
    "1) There seem to be more transaction at the middle of the data \n",
    "\n",
    "2) The trend is to have a higher number of bedrooms and unequivalently low number of bathrooms\n",
    "\n",
    "3) transaction mostly range at around 0 to 8000 area"
   ]
  },
  {
   "cell_type": "markdown",
   "id": "92e4ec43",
   "metadata": {},
   "source": [
    "### Hypothesis 1\n",
    "\n",
    "1) The higher the area, the higher the tax value\n",
    "    \n",
    "    Null: The area are independent of the tax value\n",
    "    \n",
    "    Alternative: The area has a relationship with the tax value"
   ]
  },
  {
   "cell_type": "code",
   "execution_count": 158,
   "id": "1eb1aafd",
   "metadata": {},
   "outputs": [
    {
     "data": {
      "image/png": "[encoded data removed]",
      "text/plain": [
       "<Figure size 800x600 with 1 Axes>"
      ]
     },
     "metadata": {},
     "output_type": "display_data"
    }
   ],
   "source": [
    "# Create scatter plots for each feature against 'tax_value'\n",
    "plt.figure(figsize=(8, 6))\n",
    "\n",
    "# Scatter plot for 'area' vs. 'tax_value'\n",
    "plt.subplot(131)\n",
    "plt.scatter(df['area'], df['tax_value'])\n",
    "plt.title('Area vs. Tax Value')\n",
    "plt.xlabel('Area')\n",
    "plt.ylabel('Tax Value')\n",
    "\n",
    "plt.tight_layout()\n",
    "plt.show()"
   ]
  },
  {
   "cell_type": "markdown",
   "id": "1fc001fb",
   "metadata": {},
   "source": [
    "#### test\n",
    "\n",
    "Area and tax are continuous so we will use pearson correlation"
   ]
  },
  {
   "cell_type": "code",
   "execution_count": 159,
   "id": "3136fb9c",
   "metadata": {},
   "outputs": [],
   "source": [
    "alpha = 0.05"
   ]
  },
  {
   "cell_type": "code",
   "execution_count": 160,
   "id": "33881c02",
   "metadata": {},
   "outputs": [
    {
     "name": "stdout",
     "output_type": "stream",
     "text": [
      "We reject the null hypothesis\n",
      "pearsonsr test = 0.5982\n"
     ]
    }
   ],
   "source": [
    "r, p = stats.pearsonr(train.area, train.tax_value)\n",
    "if p < alpha:\n",
    "    print('We reject the null hypothesis')\n",
    "else:\n",
    "    print('We fail to reject the null hypothesis')\n",
    "\n",
    "print(f'pearsonsr test = {r:.4f}')"
   ]
  },
  {
   "cell_type": "markdown",
   "id": "8589d83c",
   "metadata": {},
   "source": [
    "this pearsonr value is an indication of a moderate positive linear correlation between two variables"
   ]
  },
  {
   "cell_type": "markdown",
   "id": "57999ca7",
   "metadata": {},
   "source": [
    "### Hypothesis 2\n",
    "\n",
    "2) The more the bedrooms the higher the tax value\n",
    "\n",
    "    Null: The bedrooms are independent of the tax value\n",
    "    \n",
    "    Alternative: The bedrooms has a relationship with the tax value"
   ]
  },
  {
   "cell_type": "code",
   "execution_count": 161,
   "id": "2025cd56",
   "metadata": {},
   "outputs": [
    {
     "data": {
      "image/png": "[encoded data removed]",
      "text/plain": [
       "<Figure size 1200x400 with 1 Axes>"
      ]
     },
     "metadata": {},
     "output_type": "display_data"
    }
   ],
   "source": [
    "# Create scatter plots for each feature against 'tax_value'\n",
    "plt.figure(figsize=(12, 4))\n",
    "\n",
    "# Scatter plot for 'bedrooms' vs. 'tax_value'\n",
    "plt.subplot(132)\n",
    "plt.bar(df['bedrooms'], df['tax_value'])\n",
    "plt.title('Bedrooms vs. Tax Value')\n",
    "plt.xlabel('Bedrooms')\n",
    "plt.ylabel('Tax Value')\n",
    "\n",
    "plt.tight_layout()\n",
    "plt.show()"
   ]
  },
  {
   "cell_type": "markdown",
   "id": "f7227fb2",
   "metadata": {},
   "source": [
    "## Test\n",
    "\n",
    "Since this is categorical and continous, we need to use chi-test"
   ]
  },
  {
   "cell_type": "code",
   "execution_count": 162,
   "id": "a66297c3",
   "metadata": {},
   "outputs": [
    {
     "name": "stdout",
     "output_type": "stream",
     "text": [
      "We reject the null hypothesis\n",
      "chi^2 = 276907.3886\n",
      "p     = 0.0000\n"
     ]
    }
   ],
   "source": [
    "observed = pd.crosstab(train.tax_value, train.bedrooms)\n",
    "chi2, p, degf, expected = stats.chi2_contingency(observed)\n",
    "if p < alpha:\n",
    "    print('We reject the null hypothesis')\n",
    "else:\n",
    "    print('We fail to reject the null hypothesis')\n",
    "\n",
    "print(f'chi^2 = {chi2:.4f}')\n",
    "print(f'p     = {p:.4f}')"
   ]
  },
  {
   "cell_type": "markdown",
   "id": "8f5fefdc",
   "metadata": {},
   "source": [
    "Both Chi2 and P value determines there is a strong relationship between bedrooms and tax values"
   ]
  },
  {
   "cell_type": "markdown",
   "id": "e344bcee",
   "metadata": {},
   "source": [
    "### Hypothesis 3\n",
    "\n",
    "3) the more the bathrooms the higher the tax value\n",
    "\n",
    "    Null: The bathrooms are independent of the tax value\n",
    "    \n",
    "    Alternative: The bedrooms has a relationship with the tax value"
   ]
  },
  {
   "cell_type": "code",
   "execution_count": 163,
   "id": "cce5ecb2",
   "metadata": {},
   "outputs": [
    {
     "data": {
      "image/png": "[encoded data removed]",
      "text/plain": [
       "<Figure size 1200x400 with 1 Axes>"
      ]
     },
     "metadata": {},
     "output_type": "display_data"
    }
   ],
   "source": [
    "# Create scatter plots for each feature against 'tax_value'\n",
    "plt.figure(figsize=(12, 4))\n",
    "\n",
    "# Scatter plot for 'bathrooms' vs. 'tax_value'\n",
    "plt.subplot(133)\n",
    "plt.bar(df['bathrooms'], df['tax_value'])\n",
    "plt.title('Bathrooms vs. Tax Value')\n",
    "plt.xlabel('Bathrooms')\n",
    "plt.ylabel('Tax Value')\n",
    "\n",
    "plt.tight_layout()\n",
    "plt.show()"
   ]
  },
  {
   "cell_type": "markdown",
   "id": "d771ad42",
   "metadata": {},
   "source": [
    "\n",
    "\n",
    "Since this is categorical and continuous, we need to use chi tet"
   ]
  },
  {
   "cell_type": "code",
   "execution_count": 164,
   "id": "14d16053",
   "metadata": {},
   "outputs": [
    {
     "name": "stdout",
     "output_type": "stream",
     "text": [
      "We reject the null hypothesis\n",
      "chi^2 = 544642.1116\n",
      "p     = 0.0000\n"
     ]
    }
   ],
   "source": [
    "observed = pd.crosstab(train.tax_value, train.bathrooms)\n",
    "chi2, p, degf, expected = stats.chi2_contingency(observed)\n",
    "if p < alpha:\n",
    "    print('We reject the null hypothesis')\n",
    "else:\n",
    "    print('We fail to reject the null hypothesis')\n",
    "\n",
    "print(f'chi^2 = {chi2:.4f}')\n",
    "print(f'p     = {p:.4f}')"
   ]
  },
  {
   "cell_type": "markdown",
   "id": "975493e2",
   "metadata": {},
   "source": [
    "There are statistically significant relationship between the variables tested"
   ]
  },
  {
   "cell_type": "markdown",
   "id": "12e02821",
   "metadata": {},
   "source": [
    "## Could the year built be a driver?"
   ]
  },
  {
   "cell_type": "code",
   "execution_count": 165,
   "id": "649e0121",
   "metadata": {},
   "outputs": [
    {
     "data": {
      "image/png": "[encoded data removed]",
      "text/plain": [
       "<Figure size 1200x400 with 1 Axes>"
      ]
     },
     "metadata": {},
     "output_type": "display_data"
    }
   ],
   "source": [
    "# Create scatter plots for each feature against 'tax_value'\n",
    "plt.figure(figsize=(12, 4))\n",
    "\n",
    "# Scatter plot for 'bathrooms' vs. 'tax_value'\n",
    "plt.subplot(133)\n",
    "plt.bar(df['yearbuilt'], df['tax_value'])\n",
    "plt.title('Year Built vs. Tax Value')\n",
    "plt.xlabel('Year')\n",
    "plt.ylabel('Tax Value')\n",
    "\n",
    "plt.tight_layout()\n",
    "plt.show()"
   ]
  },
  {
   "cell_type": "code",
   "execution_count": 166,
   "id": "90bd3fac",
   "metadata": {},
   "outputs": [
    {
     "name": "stdout",
     "output_type": "stream",
     "text": [
      "We reject the null hypothesis\n",
      "pearsonsr test = 0.1573\n"
     ]
    }
   ],
   "source": [
    "r, p = stats.pearsonr(train.yearbuilt, train.tax_value)\n",
    "if p < alpha:\n",
    "    print('We reject the null hypothesis')\n",
    "else:\n",
    "    print('We fail to reject the null hypothesis')\n",
    "\n",
    "print(f'pearsonsr test = {r:.4f}')"
   ]
  },
  {
   "cell_type": "markdown",
   "id": "130ba899",
   "metadata": {},
   "source": [
    "the value of pearsonr indicate a weak positive linear correlation between the two variables"
   ]
  },
  {
   "cell_type": "markdown",
   "id": "5e8f3870",
   "metadata": {},
   "source": [
    "# Exploration Summary\n",
    "\n",
    "From the statistical test, we will continue to investigate bedrooms, bathrooms, area as the top 3 features "
   ]
  },
  {
   "cell_type": "markdown",
   "id": "9615a20d",
   "metadata": {},
   "source": [
    "## predictive Model"
   ]
  },
  {
   "cell_type": "code",
   "execution_count": 215,
   "id": "4bd7108b",
   "metadata": {},
   "outputs": [],
   "source": [
    "'''\n",
    "Function drops the target of taxvaluedollarcnt column then splits data into \n",
    "predicting variables (x) and target variable (y)\n",
    "''' \n",
    "\n",
    "x_train = train.drop(columns=['tax_value'])\n",
    "y_train = train.tax_value\n",
    "\n",
    "\n",
    "x_validate = validate.drop(columns=['tax_value'])\n",
    "y_validate = validate.tax_value\n",
    "\n",
    "x_test = test.drop(columns=['tax_value'])\n",
    "y_test = test.tax_value"
   ]
  },
  {
   "cell_type": "code",
   "execution_count": 216,
   "id": "99e799d6",
   "metadata": {},
   "outputs": [
    {
     "data": {
      "text/plain": [
       "526479.4860575446"
      ]
     },
     "execution_count": 216,
     "metadata": {},
     "output_type": "execute_result"
    }
   ],
   "source": [
    "y_train.mean()"
   ]
  },
  {
   "cell_type": "code",
   "execution_count": 217,
   "id": "e8c5fd1e",
   "metadata": {},
   "outputs": [
    {
     "data": {
      "text/plain": [
       "371159.0"
      ]
     },
     "execution_count": 217,
     "metadata": {},
     "output_type": "execute_result"
    }
   ],
   "source": [
    "y_train.median()"
   ]
  },
  {
   "cell_type": "code",
   "execution_count": 213,
   "id": "a26b9af4",
   "metadata": {
    "scrolled": false
   },
   "outputs": [
    {
     "data": {
      "text/html": [
       "<div>\n",
       "<style scoped>\n",
       "    .dataframe tbody tr th:only-of-type {\n",
       "        vertical-align: middle;\n",
       "    }\n",
       "\n",
       "    .dataframe tbody tr th {\n",
       "        vertical-align: top;\n",
       "    }\n",
       "\n",
       "    .dataframe thead th {\n",
       "        text-align: right;\n",
       "    }\n",
       "</style>\n",
       "<table border=\"1\" class=\"dataframe\">\n",
       "  <thead>\n",
       "    <tr style=\"text-align: right;\">\n",
       "      <th></th>\n",
       "      <th>Actual</th>\n",
       "    </tr>\n",
       "  </thead>\n",
       "  <tbody>\n",
       "    <tr>\n",
       "      <th>19402</th>\n",
       "      <td>216351.0</td>\n",
       "    </tr>\n",
       "    <tr>\n",
       "      <th>53985</th>\n",
       "      <td>2716690.0</td>\n",
       "    </tr>\n",
       "    <tr>\n",
       "      <th>40101</th>\n",
       "      <td>98346.0</td>\n",
       "    </tr>\n",
       "    <tr>\n",
       "      <th>44713</th>\n",
       "      <td>268861.0</td>\n",
       "    </tr>\n",
       "    <tr>\n",
       "      <th>5296</th>\n",
       "      <td>432894.0</td>\n",
       "    </tr>\n",
       "    <tr>\n",
       "      <th>49550</th>\n",
       "      <td>676000.0</td>\n",
       "    </tr>\n",
       "    <tr>\n",
       "      <th>4200</th>\n",
       "      <td>1477503.0</td>\n",
       "    </tr>\n",
       "    <tr>\n",
       "      <th>42576</th>\n",
       "      <td>539346.0</td>\n",
       "    </tr>\n",
       "    <tr>\n",
       "      <th>53318</th>\n",
       "      <td>688629.0</td>\n",
       "    </tr>\n",
       "    <tr>\n",
       "      <th>53798</th>\n",
       "      <td>463539.0</td>\n",
       "    </tr>\n",
       "  </tbody>\n",
       "</table>\n",
       "</div>"
      ],
      "text/plain": [
       "          Actual\n",
       "19402   216351.0\n",
       "53985  2716690.0\n",
       "40101    98346.0\n",
       "44713   268861.0\n",
       "5296    432894.0\n",
       "49550   676000.0\n",
       "4200   1477503.0\n",
       "42576   539346.0\n",
       "53318   688629.0\n",
       "53798   463539.0"
      ]
     },
     "execution_count": 213,
     "metadata": {},
     "output_type": "execute_result"
    }
   ],
   "source": [
    "predictions = pd.DataFrame({'Actual': train.tax_value})\n",
    "predictions.head(10)"
   ]
  },
  {
   "cell_type": "code",
   "execution_count": 172,
   "id": "d314c7ed",
   "metadata": {
    "scrolled": false
   },
   "outputs": [
    {
     "data": {
      "image/png": "[encoded data removed]",
      "text/plain": [
       "<Figure size 640x480 with 1 Axes>"
      ]
     },
     "metadata": {},
     "output_type": "display_data"
    }
   ],
   "source": [
    "\n",
    "\n",
    "# Data\n",
    "x = [41015, 76985, 62182, 40965, 34373, 49983, 28574, 19310, 45878, 4577]\n",
    "y = [879000.0, 344893.0, 1076128.0, 819000.0, 938000.0, 610000.0, 206070.0, 253200.0, 376131.0, 73155.0]\n",
    "slope, intercept = np.polyfit(x, y, 1)\n",
    "line_of_best_fit = [slope * xi + intercept for xi in x]\n",
    "# Create a scatter plot of the data points\n",
    "plt.scatter(x, y, label='Data Points', color='blue')\n",
    "\n",
    "# Plot the line of best fit\n",
    "plt.plot(x, line_of_best_fit, label=f'Line of Best Fit (y = {slope:.2f}x + {intercept:.2f})', color='red')\n",
    "\n",
    "# Add labels and a legend\n",
    "plt.ylabel('Tax Values')\n",
    "plt.xlabel('Predicted Price')\n",
    "plt.legend()\n",
    "\n",
    "# Show the plot\n",
    "plt.show()\n"
   ]
  },
  {
   "cell_type": "code",
   "execution_count": 246,
   "id": "a6047a9a",
   "metadata": {},
   "outputs": [
    {
     "data": {
      "text/html": [
       "<div>\n",
       "<style scoped>\n",
       "    .dataframe tbody tr th:only-of-type {\n",
       "        vertical-align: middle;\n",
       "    }\n",
       "\n",
       "    .dataframe tbody tr th {\n",
       "        vertical-align: top;\n",
       "    }\n",
       "\n",
       "    .dataframe thead th {\n",
       "        text-align: right;\n",
       "    }\n",
       "</style>\n",
       "<table border=\"1\" class=\"dataframe\">\n",
       "  <thead>\n",
       "    <tr style=\"text-align: right;\">\n",
       "      <th></th>\n",
       "      <th>bathrooms</th>\n",
       "      <th>bedrooms</th>\n",
       "      <th>area</th>\n",
       "      <th>yearbuilt</th>\n",
       "      <th>tax_value</th>\n",
       "      <th>yhat_baseline</th>\n",
       "      <th>yhat</th>\n",
       "    </tr>\n",
       "  </thead>\n",
       "  <tbody>\n",
       "    <tr>\n",
       "      <th>0</th>\n",
       "      <td>3.5</td>\n",
       "      <td>4.0</td>\n",
       "      <td>3100.0</td>\n",
       "      <td>1998.0</td>\n",
       "      <td>1023282.0</td>\n",
       "      <td>528071.692011</td>\n",
       "      <td>1.074334e+06</td>\n",
       "    </tr>\n",
       "    <tr>\n",
       "      <th>1</th>\n",
       "      <td>1.0</td>\n",
       "      <td>2.0</td>\n",
       "      <td>1465.0</td>\n",
       "      <td>1967.0</td>\n",
       "      <td>464000.0</td>\n",
       "      <td>528071.692011</td>\n",
       "      <td>4.098087e+05</td>\n",
       "    </tr>\n",
       "    <tr>\n",
       "      <th>2</th>\n",
       "      <td>2.0</td>\n",
       "      <td>3.0</td>\n",
       "      <td>1243.0</td>\n",
       "      <td>1962.0</td>\n",
       "      <td>564778.0</td>\n",
       "      <td>528071.692011</td>\n",
       "      <td>2.275574e+05</td>\n",
       "    </tr>\n",
       "  </tbody>\n",
       "</table>\n",
       "</div>"
      ],
      "text/plain": [
       "   bathrooms  bedrooms    area  yearbuilt  tax_value  yhat_baseline  \\\n",
       "0        3.5       4.0  3100.0     1998.0  1023282.0  528071.692011   \n",
       "1        1.0       2.0  1465.0     1967.0   464000.0  528071.692011   \n",
       "2        2.0       3.0  1243.0     1962.0   564778.0  528071.692011   \n",
       "\n",
       "           yhat  \n",
       "0  1.074334e+06  \n",
       "1  4.098087e+05  \n",
       "2  2.275574e+05  "
      ]
     },
     "execution_count": 246,
     "metadata": {},
     "output_type": "execute_result"
    }
   ],
   "source": [
    "df['yhat_baseline'] = df['tax_value'].mean()\n",
    "df.head(3)"
   ]
  },
  {
   "cell_type": "code",
   "execution_count": 218,
   "id": "922f6c73",
   "metadata": {},
   "outputs": [
    {
     "data": {
      "text/html": [
       "<div>\n",
       "<style scoped>\n",
       "    .dataframe tbody tr th:only-of-type {\n",
       "        vertical-align: middle;\n",
       "    }\n",
       "\n",
       "    .dataframe tbody tr th {\n",
       "        vertical-align: top;\n",
       "    }\n",
       "\n",
       "    .dataframe thead th {\n",
       "        text-align: right;\n",
       "    }\n",
       "</style>\n",
       "<table border=\"1\" class=\"dataframe\">\n",
       "  <thead>\n",
       "    <tr style=\"text-align: right;\">\n",
       "      <th></th>\n",
       "      <th>bathrooms</th>\n",
       "      <th>bedrooms</th>\n",
       "      <th>area</th>\n",
       "      <th>yearbuilt</th>\n",
       "      <th>tax_value</th>\n",
       "      <th>yhat_baseline</th>\n",
       "      <th>yhat</th>\n",
       "    </tr>\n",
       "  </thead>\n",
       "  <tbody>\n",
       "    <tr>\n",
       "      <th>0</th>\n",
       "      <td>3.5</td>\n",
       "      <td>4.0</td>\n",
       "      <td>3100.0</td>\n",
       "      <td>1998.0</td>\n",
       "      <td>1023282.0</td>\n",
       "      <td>373376.5</td>\n",
       "      <td>1.074334e+06</td>\n",
       "    </tr>\n",
       "    <tr>\n",
       "      <th>1</th>\n",
       "      <td>1.0</td>\n",
       "      <td>2.0</td>\n",
       "      <td>1465.0</td>\n",
       "      <td>1967.0</td>\n",
       "      <td>464000.0</td>\n",
       "      <td>373376.5</td>\n",
       "      <td>4.098087e+05</td>\n",
       "    </tr>\n",
       "    <tr>\n",
       "      <th>2</th>\n",
       "      <td>2.0</td>\n",
       "      <td>3.0</td>\n",
       "      <td>1243.0</td>\n",
       "      <td>1962.0</td>\n",
       "      <td>564778.0</td>\n",
       "      <td>373376.5</td>\n",
       "      <td>2.275574e+05</td>\n",
       "    </tr>\n",
       "  </tbody>\n",
       "</table>\n",
       "</div>"
      ],
      "text/plain": [
       "   bathrooms  bedrooms    area  yearbuilt  tax_value  yhat_baseline  \\\n",
       "0        3.5       4.0  3100.0     1998.0  1023282.0       373376.5   \n",
       "1        1.0       2.0  1465.0     1967.0   464000.0       373376.5   \n",
       "2        2.0       3.0  1243.0     1962.0   564778.0       373376.5   \n",
       "\n",
       "           yhat  \n",
       "0  1.074334e+06  \n",
       "1  4.098087e+05  \n",
       "2  2.275574e+05  "
      ]
     },
     "execution_count": 218,
     "metadata": {},
     "output_type": "execute_result"
    }
   ],
   "source": [
    "df['yhat_baseline'] = df['tax_value'].median()\n",
    "df.head(3)"
   ]
  },
  {
   "cell_type": "code",
   "execution_count": null,
   "id": "da571f9b",
   "metadata": {},
   "outputs": [],
   "source": []
  },
  {
   "cell_type": "code",
   "execution_count": null,
   "id": "6618c58b",
   "metadata": {},
   "outputs": [],
   "source": []
  },
  {
   "cell_type": "code",
   "execution_count": null,
   "id": "3d80f80a",
   "metadata": {},
   "outputs": [],
   "source": []
  },
  {
   "cell_type": "markdown",
   "id": "38726627",
   "metadata": {},
   "source": [
    "## Due to variables having different unit, I will have to scale to ensure all features have ac consistent scale"
   ]
  },
  {
   "cell_type": "code",
   "execution_count": 175,
   "id": "83e7133e",
   "metadata": {},
   "outputs": [],
   "source": [
    "to_scale = ['bedrooms', 'bathrooms', 'area']\n",
    "#make copies for scaling\n",
    "train_scaled = train.copy()\n",
    "validate_scaled = validate.copy()\n",
    "test_scaled = test.copy()\n",
    "\n",
    "#make the thing\n",
    "scaler = MinMaxScaler()\n",
    "\n",
    "#fit the thing\n",
    "scaler.fit(train[to_scale])\n",
    "\n",
    "#use the thing\n",
    "train_scaled[to_scale] = scaler.transform(train[to_scale])\n",
    "validate_scaled[to_scale] = scaler.transform(validate[to_scale])\n",
    "test_scaled[to_scale] = scaler.transform(test[to_scale])"
   ]
  },
  {
   "cell_type": "markdown",
   "id": "d9a820e1",
   "metadata": {},
   "source": [
    "# Simple Linear Regression Model\n"
   ]
  },
  {
   "cell_type": "code",
   "execution_count": 176,
   "id": "e27945de",
   "metadata": {},
   "outputs": [
    {
     "data": {
      "text/html": [
       "<div>\n",
       "<style scoped>\n",
       "    .dataframe tbody tr th:only-of-type {\n",
       "        vertical-align: middle;\n",
       "    }\n",
       "\n",
       "    .dataframe tbody tr th {\n",
       "        vertical-align: top;\n",
       "    }\n",
       "\n",
       "    .dataframe thead th {\n",
       "        text-align: right;\n",
       "    }\n",
       "</style>\n",
       "<table border=\"1\" class=\"dataframe\">\n",
       "  <thead>\n",
       "    <tr style=\"text-align: right;\">\n",
       "      <th></th>\n",
       "      <th>bathrooms</th>\n",
       "      <th>bedrooms</th>\n",
       "      <th>area</th>\n",
       "      <th>yearbuilt</th>\n",
       "      <th>tax_value</th>\n",
       "      <th>yhat_baseline</th>\n",
       "      <th>yhat</th>\n",
       "    </tr>\n",
       "  </thead>\n",
       "  <tbody>\n",
       "    <tr>\n",
       "      <th>0</th>\n",
       "      <td>3.5</td>\n",
       "      <td>4.0</td>\n",
       "      <td>3100.0</td>\n",
       "      <td>1998.0</td>\n",
       "      <td>1023282.0</td>\n",
       "      <td>528071.692011</td>\n",
       "      <td>1.074334e+06</td>\n",
       "    </tr>\n",
       "    <tr>\n",
       "      <th>1</th>\n",
       "      <td>1.0</td>\n",
       "      <td>2.0</td>\n",
       "      <td>1465.0</td>\n",
       "      <td>1967.0</td>\n",
       "      <td>464000.0</td>\n",
       "      <td>528071.692011</td>\n",
       "      <td>4.098087e+05</td>\n",
       "    </tr>\n",
       "    <tr>\n",
       "      <th>2</th>\n",
       "      <td>2.0</td>\n",
       "      <td>3.0</td>\n",
       "      <td>1243.0</td>\n",
       "      <td>1962.0</td>\n",
       "      <td>564778.0</td>\n",
       "      <td>528071.692011</td>\n",
       "      <td>2.275574e+05</td>\n",
       "    </tr>\n",
       "    <tr>\n",
       "      <th>3</th>\n",
       "      <td>3.0</td>\n",
       "      <td>4.0</td>\n",
       "      <td>2376.0</td>\n",
       "      <td>1970.0</td>\n",
       "      <td>145143.0</td>\n",
       "      <td>528071.692011</td>\n",
       "      <td>6.915815e+05</td>\n",
       "    </tr>\n",
       "    <tr>\n",
       "      <th>6</th>\n",
       "      <td>3.0</td>\n",
       "      <td>4.0</td>\n",
       "      <td>2962.0</td>\n",
       "      <td>1950.0</td>\n",
       "      <td>773303.0</td>\n",
       "      <td>528071.692011</td>\n",
       "      <td>9.710777e+05</td>\n",
       "    </tr>\n",
       "    <tr>\n",
       "      <th>7</th>\n",
       "      <td>1.0</td>\n",
       "      <td>2.0</td>\n",
       "      <td>738.0</td>\n",
       "      <td>1922.0</td>\n",
       "      <td>218552.0</td>\n",
       "      <td>528071.692011</td>\n",
       "      <td>6.306173e+04</td>\n",
       "    </tr>\n",
       "    <tr>\n",
       "      <th>8</th>\n",
       "      <td>3.0</td>\n",
       "      <td>4.0</td>\n",
       "      <td>3039.0</td>\n",
       "      <td>1970.0</td>\n",
       "      <td>220583.0</td>\n",
       "      <td>528071.692011</td>\n",
       "      <td>1.007803e+06</td>\n",
       "    </tr>\n",
       "    <tr>\n",
       "      <th>10</th>\n",
       "      <td>3.0</td>\n",
       "      <td>4.0</td>\n",
       "      <td>2540.0</td>\n",
       "      <td>1999.0</td>\n",
       "      <td>430108.0</td>\n",
       "      <td>528071.692011</td>\n",
       "      <td>7.698023e+05</td>\n",
       "    </tr>\n",
       "    <tr>\n",
       "      <th>13</th>\n",
       "      <td>2.5</td>\n",
       "      <td>3.0</td>\n",
       "      <td>1340.0</td>\n",
       "      <td>1980.0</td>\n",
       "      <td>319668.0</td>\n",
       "      <td>528071.692011</td>\n",
       "      <td>3.112588e+05</td>\n",
       "    </tr>\n",
       "    <tr>\n",
       "      <th>15</th>\n",
       "      <td>2.5</td>\n",
       "      <td>3.0</td>\n",
       "      <td>1371.0</td>\n",
       "      <td>2004.0</td>\n",
       "      <td>198054.0</td>\n",
       "      <td>528071.692011</td>\n",
       "      <td>3.260445e+05</td>\n",
       "    </tr>\n",
       "  </tbody>\n",
       "</table>\n",
       "</div>"
      ],
      "text/plain": [
       "    bathrooms  bedrooms    area  yearbuilt  tax_value  yhat_baseline  \\\n",
       "0         3.5       4.0  3100.0     1998.0  1023282.0  528071.692011   \n",
       "1         1.0       2.0  1465.0     1967.0   464000.0  528071.692011   \n",
       "2         2.0       3.0  1243.0     1962.0   564778.0  528071.692011   \n",
       "3         3.0       4.0  2376.0     1970.0   145143.0  528071.692011   \n",
       "6         3.0       4.0  2962.0     1950.0   773303.0  528071.692011   \n",
       "7         1.0       2.0   738.0     1922.0   218552.0  528071.692011   \n",
       "8         3.0       4.0  3039.0     1970.0   220583.0  528071.692011   \n",
       "10        3.0       4.0  2540.0     1999.0   430108.0  528071.692011   \n",
       "13        2.5       3.0  1340.0     1980.0   319668.0  528071.692011   \n",
       "15        2.5       3.0  1371.0     2004.0   198054.0  528071.692011   \n",
       "\n",
       "            yhat  \n",
       "0   1.074334e+06  \n",
       "1   4.098087e+05  \n",
       "2   2.275574e+05  \n",
       "3   6.915815e+05  \n",
       "6   9.710777e+05  \n",
       "7   6.306173e+04  \n",
       "8   1.007803e+06  \n",
       "10  7.698023e+05  \n",
       "13  3.112588e+05  \n",
       "15  3.260445e+05  "
      ]
     },
     "execution_count": 176,
     "metadata": {},
     "output_type": "execute_result"
    }
   ],
   "source": [
    "# generate parameters, i.e. create model\n",
    "ols_model = LinearRegression().fit(df[['area','bathrooms','bedrooms']], df.tax_value)\n",
    "\n",
    "# compute predictions and add to original dataframe\n",
    "df['yhat'] = ols_model.predict(df[['area','bathrooms','bedrooms']])\n",
    "\n",
    "df.head(10)"
   ]
  },
  {
   "cell_type": "code",
   "execution_count": 177,
   "id": "0e8afcee",
   "metadata": {},
   "outputs": [
    {
     "data": {
      "image/png": "[encoded data removed]",
      "text/plain": [
       "<Figure size 300x300 with 1 Axes>"
      ]
     },
     "metadata": {},
     "output_type": "display_data"
    }
   ],
   "source": [
    "\n",
    "# Assuming you have already created the 'yhat' column in your DataFrame\n",
    "\n",
    "# Create a scatterplot of actual vs. predicted values\n",
    "plt.figure(figsize=(3, 3))\n",
    "plt.scatter(df['tax_value'], df['yhat'], alpha=0.5)\n",
    "plt.xlabel('Actual Tax Value')\n",
    "plt.ylabel('Predicted Tax Value')\n",
    "plt.title('Actual vs. Predicted Tax Value (Linear Regression)')\n",
    "\n",
    "# Add a 45-degree reference line for comparison\n",
    "plt.plot([df['tax_value'].min(), df['tax_value'].max()], [df['tax_value'].min(), df['tax_value'].max()], color='red', linestyle='--')\n",
    "\n",
    "# Show the plot\n",
    "plt.tight_layout()\n",
    "plt.show()\n"
   ]
  },
  {
   "cell_type": "code",
   "execution_count": null,
   "id": "df2cc6ae",
   "metadata": {},
   "outputs": [],
   "source": []
  },
  {
   "cell_type": "code",
   "execution_count": null,
   "id": "518e619a",
   "metadata": {},
   "outputs": [],
   "source": []
  },
  {
   "cell_type": "code",
   "execution_count": 178,
   "id": "68942dc2",
   "metadata": {},
   "outputs": [],
   "source": [
    "\n",
    "'''\n",
    "Function takes the predicted variable (x) and target variable (y)\n",
    "fits them to the simple linear regression model and computes the predictions \n",
    "and then adds them to the dataframe  \n",
    "''' \n",
    "x_train = train[['area','bathrooms','bedrooms']]\n",
    "y_train = train.tax_value\n",
    "\n",
    "x_validate = validate[['area','bathrooms','bedrooms']]\n",
    "y_validate = validate.tax_value\n",
    "\n",
    "lm_model = LinearRegression().fit(x_train, y_train)\n",
    "train['lm_predictions'] = lm_model.predict(x_train)\n",
    "validate['lm_predictions'] = lm_model.predict(x_validate)\n",
    "\n",
    "lm_co = lm_model.coef_\n",
    "lm_int = lm_model.intercept_\n",
    "\n",
    "simp_co = pd.Series(lm_model.coef_, index=x_train.columns).sort_values()\n"
   ]
  },
  {
   "cell_type": "code",
   "execution_count": 179,
   "id": "bc3314a4",
   "metadata": {
    "scrolled": true
   },
   "outputs": [
    {
     "data": {
      "text/plain": [
       "bedrooms    -152936.356428\n",
       "area            496.983028\n",
       "bathrooms     66309.898855\n",
       "dtype: float64"
      ]
     },
     "execution_count": 179,
     "metadata": {},
     "output_type": "execute_result"
    }
   ],
   "source": [
    "simp_co"
   ]
  },
  {
   "cell_type": "code",
   "execution_count": 180,
   "id": "fe664b42",
   "metadata": {},
   "outputs": [
    {
     "data": {
      "image/png": "[encoded data removed]",
      "text/plain": [
       "<Figure size 1000x600 with 1 Axes>"
      ]
     },
     "metadata": {},
     "output_type": "display_data"
    }
   ],
   "source": [
    "\n",
    "\n",
    "# Assuming you have already calculated lm_co and sorted it as simp_co\n",
    "\n",
    "# Create a bar plot of the coefficients\n",
    "plt.figure(figsize=(10, 6))\n",
    "plt.bar(simp_co.index, simp_co.values)\n",
    "plt.xlabel('Features')\n",
    "plt.ylabel('Coefficients')\n",
    "plt.title('Linear Regression Coefficients')\n",
    "plt.xticks(rotation=45)  # Rotate x-axis labels for better readability\n",
    "\n",
    "# Show the plot\n",
    "plt.tight_layout()\n",
    "plt.show()\n"
   ]
  },
  {
   "cell_type": "code",
   "execution_count": 181,
   "id": "b2977906",
   "metadata": {},
   "outputs": [],
   "source": [
    "'''\n",
    "Function takes the predicted variable (x) and target variable (y)\n",
    "fits them to the lasso lars regression model and computes the predictions \n",
    "and then adds them to the dataframe  \n",
    "''' \n",
    "x_train = train[['area','bathrooms','bedrooms']]\n",
    "y_train = train.tax_value\n",
    "\n",
    "x_validate = validate[['area','bathrooms','bedrooms']]\n",
    "y_validate = validate.tax_value\n",
    "\n",
    "lars = LassoLars(alpha=1).fit(x_train, y_train)\n",
    "train['lars_predictions'] = lars.predict(x_train)\n",
    "validate['lars_predictions'] = lars.predict(x_validate)\n",
    "\n",
    "lars_co = pd.Series(lars.coef_, index=x_train.columns).sort_values()\n"
   ]
  },
  {
   "cell_type": "code",
   "execution_count": 182,
   "id": "7417d56e",
   "metadata": {},
   "outputs": [
    {
     "data": {
      "text/plain": [
       "bedrooms    -152933.588812\n",
       "area            496.985364\n",
       "bathrooms     66305.315321\n",
       "dtype: float64"
      ]
     },
     "execution_count": 182,
     "metadata": {},
     "output_type": "execute_result"
    }
   ],
   "source": [
    "lars_co"
   ]
  },
  {
   "cell_type": "code",
   "execution_count": 183,
   "id": "ed4de4d5",
   "metadata": {},
   "outputs": [],
   "source": [
    "'''\n",
    "Takes the predicted variable (x) and target variable (y)\n",
    "fits them to the generalized linear regression model and computes the predictions \n",
    "and then adds them to the dataframe  \n",
    "''' \n",
    "x_train = train[['area','bathrooms','bedrooms']]\n",
    "y_train = train.tax_value\n",
    "\n",
    "x_validate = validate[['area','bathrooms','bedrooms']]\n",
    "y_validate = validate.tax_value\n",
    "\n",
    "glm_model = TweedieRegressor(power=0, alpha=1).fit(x_train, y_train)\n",
    "train['glm_predictions'] = glm_model.predict(x_train)\n",
    "validate['glm_predictions'] = glm_model.predict(x_validate)\n",
    "\n",
    "glm_co = pd.Series(glm_model.coef_, index=x_train.columns).sort_values()"
   ]
  },
  {
   "cell_type": "code",
   "execution_count": 184,
   "id": "8f2b64a3",
   "metadata": {},
   "outputs": [
    {
     "data": {
      "text/plain": [
       "bedrooms    -48721.313428\n",
       "area           486.900446\n",
       "bathrooms     6392.773850\n",
       "dtype: float64"
      ]
     },
     "execution_count": 184,
     "metadata": {},
     "output_type": "execute_result"
    }
   ],
   "source": [
    "glm_co"
   ]
  },
  {
   "cell_type": "code",
   "execution_count": 185,
   "id": "e75992e5",
   "metadata": {},
   "outputs": [],
   "source": [
    "## Evalute the Models"
   ]
  },
  {
   "cell_type": "code",
   "execution_count": 219,
   "id": "ee8e5b95",
   "metadata": {},
   "outputs": [],
   "source": [
    "# Calculating the\n",
    "    # Sum of Squared Errors\n",
    "    # Mean Squared Errors\n",
    "    # Root of Mean Squared Errors\n",
    "# for the baseline predictions\n",
    "y = train.tax_value\n",
    "baseline = np.repeat(y.median(), len(y))\n",
    "\n",
    "MSE = mean_squared_error(y, baseline)\n",
    "SSE = MSE * len(y)\n",
    "RMSE = MSE**.5"
   ]
  },
  {
   "cell_type": "code",
   "execution_count": 220,
   "id": "6cbd319f",
   "metadata": {},
   "outputs": [
    {
     "data": {
      "text/plain": [
       "626881380900.624"
      ]
     },
     "execution_count": 220,
     "metadata": {},
     "output_type": "execute_result"
    }
   ],
   "source": [
    "MSE"
   ]
  },
  {
   "cell_type": "code",
   "execution_count": 221,
   "id": "30324425",
   "metadata": {},
   "outputs": [
    {
     "data": {
      "text/plain": [
       "1.8366997579007384e+16"
      ]
     },
     "execution_count": 221,
     "metadata": {},
     "output_type": "execute_result"
    }
   ],
   "source": [
    "SSE"
   ]
  },
  {
   "cell_type": "code",
   "execution_count": 222,
   "id": "4383a1be",
   "metadata": {},
   "outputs": [
    {
     "data": {
      "text/plain": [
       "791758.4106914331"
      ]
     },
     "execution_count": 222,
     "metadata": {},
     "output_type": "execute_result"
    }
   ],
   "source": [
    "RMSE"
   ]
  },
  {
   "cell_type": "code",
   "execution_count": 190,
   "id": "7ef37606",
   "metadata": {},
   "outputs": [],
   "source": [
    "# Calculating the\n",
    "    # Sum of Squared Errors\n",
    "    # Mean Squared Errors\n",
    "    # Root of Mean Squared Errors\n",
    "# for the lars predictions\n",
    "y = train.tax_value\n",
    "yhat = train.lars_predictions\n",
    "MSE = mean_squared_error(y, yhat)\n",
    "SSE = MSE * len(y)\n",
    "RMSE = MSE**.5"
   ]
  },
  {
   "cell_type": "code",
   "execution_count": 191,
   "id": "1c4c1ad7",
   "metadata": {},
   "outputs": [
    {
     "data": {
      "text/plain": [
       "375556242515.4246"
      ]
     },
     "execution_count": 191,
     "metadata": {},
     "output_type": "execute_result"
    }
   ],
   "source": [
    "MSE"
   ]
  },
  {
   "cell_type": "code",
   "execution_count": 192,
   "id": "c80715c4",
   "metadata": {},
   "outputs": [
    {
     "data": {
      "text/plain": [
       "1.1003422349459426e+16"
      ]
     },
     "execution_count": 192,
     "metadata": {},
     "output_type": "execute_result"
    }
   ],
   "source": [
    "SSE"
   ]
  },
  {
   "cell_type": "code",
   "execution_count": 193,
   "id": "59b35af2",
   "metadata": {},
   "outputs": [
    {
     "data": {
      "text/plain": [
       "612826.4375134485"
      ]
     },
     "execution_count": 193,
     "metadata": {},
     "output_type": "execute_result"
    }
   ],
   "source": [
    "RMSE"
   ]
  },
  {
   "cell_type": "code",
   "execution_count": 194,
   "id": "dd079fd5",
   "metadata": {},
   "outputs": [],
   "source": [
    "# Calculating the\n",
    "    # Sum of Squared Errors\n",
    "    # Mean Squared Errors\n",
    "    # Root of Mean Squared Errors\n",
    "# for the lars predictions\n",
    "y = train.tax_value\n",
    "yhat = train.glm_predictions\n",
    "MSE = mean_squared_error(y, yhat)\n",
    "SSE = MSE * len(y)\n",
    "RMSE = MSE**.5"
   ]
  },
  {
   "cell_type": "code",
   "execution_count": 195,
   "id": "38507e1f",
   "metadata": {},
   "outputs": [
    {
     "data": {
      "text/plain": [
       "381016777821.07446"
      ]
     },
     "execution_count": 195,
     "metadata": {},
     "output_type": "execute_result"
    }
   ],
   "source": [
    "MSE"
   ]
  },
  {
   "cell_type": "code",
   "execution_count": 196,
   "id": "fff63d79",
   "metadata": {},
   "outputs": [
    {
     "data": {
      "text/plain": [
       "1.116341057337966e+16"
      ]
     },
     "execution_count": 196,
     "metadata": {},
     "output_type": "execute_result"
    }
   ],
   "source": [
    "SSE"
   ]
  },
  {
   "cell_type": "code",
   "execution_count": 197,
   "id": "5d048140",
   "metadata": {},
   "outputs": [
    {
     "data": {
      "text/plain": [
       "617265.5650699093"
      ]
     },
     "execution_count": 197,
     "metadata": {},
     "output_type": "execute_result"
    }
   ],
   "source": [
    "RMSE"
   ]
  },
  {
   "cell_type": "code",
   "execution_count": null,
   "id": "105039da",
   "metadata": {},
   "outputs": [],
   "source": []
  },
  {
   "cell_type": "markdown",
   "id": "e507f092",
   "metadata": {},
   "source": [
    "### Further evaluation"
   ]
  },
  {
   "cell_type": "code",
   "execution_count": 227,
   "id": "2122834f",
   "metadata": {},
   "outputs": [],
   "source": [
    "# Create Dataframes for visual comparison\n",
    "y_train = pd.DataFrame(train.tax_value)\n",
    "y_validate = pd.DataFrame(validate.tax_value)\n",
    "y_test = pd.DataFrame(test.tax_value)"
   ]
  },
  {
   "cell_type": "code",
   "execution_count": 228,
   "id": "eb9c2156",
   "metadata": {},
   "outputs": [],
   "source": [
    "# Place our baseline predictions in the new dataframe\n",
    "taxVal_pred_mean = train.tax_value.mean()\n",
    "y_train['taxVal_pred_mean'] = taxVal_pred_mean\n",
    "y_validate['taxVal_pred_mean'] = taxVal_pred_mean"
   ]
  },
  {
   "cell_type": "code",
   "execution_count": 229,
   "id": "741568f2",
   "metadata": {},
   "outputs": [],
   "source": [
    "# RMSE of baseline predictions on train & validate\n",
    "rmse_train = mean_squared_error(y_train.tax_value,\n",
    "                                y_train.taxVal_pred_mean) ** .5\n",
    "rmse_validate = mean_squared_error(y_validate.tax_value,\n",
    "                                   y_validate.taxVal_pred_mean) ** (1/2)"
   ]
  },
  {
   "cell_type": "code",
   "execution_count": 230,
   "id": "ad849f7a",
   "metadata": {},
   "outputs": [
    {
     "name": "stdout",
     "output_type": "stream",
     "text": [
      "RMSE Baseline Results\n",
      "Train/Sample Set:  776374.22 \n",
      "Validate/Sample Set:  709997.44\n"
     ]
    }
   ],
   "source": [
    "# Here we can compare the baseline results from the training \n",
    "# sample set versus the validate sample set\n",
    "# not very much difference in the errors\n",
    "print(\"RMSE Baseline Results\\nTrain/Sample Set: \", round(rmse_train, 2), \n",
    "      \"\\nValidate/Sample Set: \", round(rmse_validate, 2))"
   ]
  },
  {
   "cell_type": "code",
   "execution_count": 231,
   "id": "09828d29",
   "metadata": {},
   "outputs": [],
   "source": [
    "def make_metric_df(y, y_pred, model_name, metric_df):\n",
    "    if metric_df.size ==0:\n",
    "        metric_df = pd.DataFrame(data=[\n",
    "            {\n",
    "                'model': model_name, \n",
    "                'RMSE_validate': mean_squared_error(\n",
    "                    y,\n",
    "                    y_pred) ** .5,\n",
    "                'r^2_validate': explained_variance_score(\n",
    "                    y,\n",
    "                    y_pred)\n",
    "            }])\n",
    "        return metric_df\n",
    "    else:\n",
    "        return metric_df.append(\n",
    "            {\n",
    "                'model': model_name, \n",
    "                'RMSE_validate': mean_squared_error(\n",
    "                    y,\n",
    "                    y_pred) ** .5,\n",
    "                'r^2_validate': explained_variance_score(\n",
    "                    y,\n",
    "                    y_pred)\n",
    "            }, ignore_index=True)"
   ]
  },
  {
   "cell_type": "code",
   "execution_count": 232,
   "id": "f39aa8b3",
   "metadata": {},
   "outputs": [
    {
     "data": {
      "text/html": [
       "<div>\n",
       "<style scoped>\n",
       "    .dataframe tbody tr th:only-of-type {\n",
       "        vertical-align: middle;\n",
       "    }\n",
       "\n",
       "    .dataframe tbody tr th {\n",
       "        vertical-align: top;\n",
       "    }\n",
       "\n",
       "    .dataframe thead th {\n",
       "        text-align: right;\n",
       "    }\n",
       "</style>\n",
       "<table border=\"1\" class=\"dataframe\">\n",
       "  <thead>\n",
       "    <tr style=\"text-align: right;\">\n",
       "      <th></th>\n",
       "      <th>model</th>\n",
       "      <th>RMSE_validate</th>\n",
       "      <th>r^2_validate</th>\n",
       "    </tr>\n",
       "  </thead>\n",
       "  <tbody>\n",
       "    <tr>\n",
       "      <th>0</th>\n",
       "      <td>mean_baseline</td>\n",
       "      <td>709997.439268</td>\n",
       "      <td>-2.220446e-16</td>\n",
       "    </tr>\n",
       "  </tbody>\n",
       "</table>\n",
       "</div>"
      ],
      "text/plain": [
       "           model  RMSE_validate  r^2_validate\n",
       "0  mean_baseline  709997.439268 -2.220446e-16"
      ]
     },
     "execution_count": 232,
     "metadata": {},
     "output_type": "execute_result"
    }
   ],
   "source": [
    "# Create the metric_df as a blank dataframe\n",
    "metric_df = pd.DataFrame()\n",
    "# Nab those safe baseline predictions from earlier\n",
    "metric_df = make_metric_df(y_validate.tax_value,\n",
    "                           y_validate.taxVal_pred_mean,\n",
    "                           'mean_baseline',\n",
    "                          metric_df)\n",
    "# Voila\n",
    "metric_df"
   ]
  },
  {
   "cell_type": "markdown",
   "id": "939d0909",
   "metadata": {},
   "source": [
    "This high RMSE values indicate my model has a large errors and does not match with the actual value"
   ]
  },
  {
   "cell_type": "code",
   "execution_count": 233,
   "id": "3f7cb0f9",
   "metadata": {},
   "outputs": [
    {
     "data": {
      "text/html": [
       "<div>\n",
       "<style scoped>\n",
       "    .dataframe tbody tr th:only-of-type {\n",
       "        vertical-align: middle;\n",
       "    }\n",
       "\n",
       "    .dataframe tbody tr th {\n",
       "        vertical-align: top;\n",
       "    }\n",
       "\n",
       "    .dataframe thead th {\n",
       "        text-align: right;\n",
       "    }\n",
       "</style>\n",
       "<table border=\"1\" class=\"dataframe\">\n",
       "  <thead>\n",
       "    <tr style=\"text-align: right;\">\n",
       "      <th></th>\n",
       "      <th>model</th>\n",
       "      <th>RMSE_validate</th>\n",
       "      <th>r^2_validate</th>\n",
       "    </tr>\n",
       "  </thead>\n",
       "  <tbody>\n",
       "    <tr>\n",
       "      <th>0</th>\n",
       "      <td>mean_baseline</td>\n",
       "      <td>7.099974e+05</td>\n",
       "      <td>-2.220446e-16</td>\n",
       "    </tr>\n",
       "    <tr>\n",
       "      <th>1</th>\n",
       "      <td>SimpleLinear</td>\n",
       "      <td>2.987674e+11</td>\n",
       "      <td>4.073339e-01</td>\n",
       "    </tr>\n",
       "  </tbody>\n",
       "</table>\n",
       "</div>"
      ],
      "text/plain": [
       "           model  RMSE_validate  r^2_validate\n",
       "0  mean_baseline   7.099974e+05 -2.220446e-16\n",
       "1   SimpleLinear   2.987674e+11  4.073339e-01"
      ]
     },
     "execution_count": 233,
     "metadata": {},
     "output_type": "execute_result"
    }
   ],
   "source": [
    "# Adding the validate results for the Ols model \n",
    "metric_df = metric_df.append({\n",
    "    'model': 'SimpleLinear', \n",
    "    'RMSE_validate': mean_squared_error(validate.tax_value, validate.lm_predictions),\n",
    "    'r^2_validate': explained_variance_score(validate.tax_value, validate.lm_predictions)}, ignore_index=True)\n",
    "# Voila\n",
    "metric_df"
   ]
  },
  {
   "cell_type": "code",
   "execution_count": 234,
   "id": "f8f11050",
   "metadata": {},
   "outputs": [
    {
     "data": {
      "text/html": [
       "<div>\n",
       "<style scoped>\n",
       "    .dataframe tbody tr th:only-of-type {\n",
       "        vertical-align: middle;\n",
       "    }\n",
       "\n",
       "    .dataframe tbody tr th {\n",
       "        vertical-align: top;\n",
       "    }\n",
       "\n",
       "    .dataframe thead th {\n",
       "        text-align: right;\n",
       "    }\n",
       "</style>\n",
       "<table border=\"1\" class=\"dataframe\">\n",
       "  <thead>\n",
       "    <tr style=\"text-align: right;\">\n",
       "      <th></th>\n",
       "      <th>model</th>\n",
       "      <th>RMSE_validate</th>\n",
       "      <th>r^2_validate</th>\n",
       "    </tr>\n",
       "  </thead>\n",
       "  <tbody>\n",
       "    <tr>\n",
       "      <th>0</th>\n",
       "      <td>mean_baseline</td>\n",
       "      <td>7.099974e+05</td>\n",
       "      <td>-2.220446e-16</td>\n",
       "    </tr>\n",
       "    <tr>\n",
       "      <th>1</th>\n",
       "      <td>SimpleLinear</td>\n",
       "      <td>2.987674e+11</td>\n",
       "      <td>4.073339e-01</td>\n",
       "    </tr>\n",
       "    <tr>\n",
       "      <th>2</th>\n",
       "      <td>LassoLars</td>\n",
       "      <td>2.987673e+11</td>\n",
       "      <td>4.073340e-01</td>\n",
       "    </tr>\n",
       "  </tbody>\n",
       "</table>\n",
       "</div>"
      ],
      "text/plain": [
       "           model  RMSE_validate  r^2_validate\n",
       "0  mean_baseline   7.099974e+05 -2.220446e-16\n",
       "1   SimpleLinear   2.987674e+11  4.073339e-01\n",
       "2      LassoLars   2.987673e+11  4.073340e-01"
      ]
     },
     "execution_count": 234,
     "metadata": {},
     "output_type": "execute_result"
    }
   ],
   "source": [
    "# Adding the validate results for the LassoLars model\n",
    "metric_df = metric_df.append({\n",
    "    'model': 'LassoLars', \n",
    "    'RMSE_validate': mean_squared_error(validate.tax_value, validate.lars_predictions),\n",
    "    'r^2_validate': explained_variance_score(validate.tax_value, validate.lars_predictions)}, ignore_index=True)\n",
    "# Voila\n",
    "metric_df"
   ]
  },
  {
   "cell_type": "code",
   "execution_count": 235,
   "id": "714a7407",
   "metadata": {
    "scrolled": true
   },
   "outputs": [
    {
     "data": {
      "text/html": [
       "<div>\n",
       "<style scoped>\n",
       "    .dataframe tbody tr th:only-of-type {\n",
       "        vertical-align: middle;\n",
       "    }\n",
       "\n",
       "    .dataframe tbody tr th {\n",
       "        vertical-align: top;\n",
       "    }\n",
       "\n",
       "    .dataframe thead th {\n",
       "        text-align: right;\n",
       "    }\n",
       "</style>\n",
       "<table border=\"1\" class=\"dataframe\">\n",
       "  <thead>\n",
       "    <tr style=\"text-align: right;\">\n",
       "      <th></th>\n",
       "      <th>model</th>\n",
       "      <th>RMSE_validate</th>\n",
       "      <th>r^2_validate</th>\n",
       "    </tr>\n",
       "  </thead>\n",
       "  <tbody>\n",
       "    <tr>\n",
       "      <th>0</th>\n",
       "      <td>mean_baseline</td>\n",
       "      <td>7.099974e+05</td>\n",
       "      <td>-2.220446e-16</td>\n",
       "    </tr>\n",
       "    <tr>\n",
       "      <th>1</th>\n",
       "      <td>SimpleLinear</td>\n",
       "      <td>2.987674e+11</td>\n",
       "      <td>4.073339e-01</td>\n",
       "    </tr>\n",
       "    <tr>\n",
       "      <th>2</th>\n",
       "      <td>LassoLars</td>\n",
       "      <td>2.987673e+11</td>\n",
       "      <td>4.073340e-01</td>\n",
       "    </tr>\n",
       "    <tr>\n",
       "      <th>3</th>\n",
       "      <td>GeneralizedLinear</td>\n",
       "      <td>3.029314e+11</td>\n",
       "      <td>3.990762e-01</td>\n",
       "    </tr>\n",
       "  </tbody>\n",
       "</table>\n",
       "</div>"
      ],
      "text/plain": [
       "               model  RMSE_validate  r^2_validate\n",
       "0      mean_baseline   7.099974e+05 -2.220446e-16\n",
       "1       SimpleLinear   2.987674e+11  4.073339e-01\n",
       "2          LassoLars   2.987673e+11  4.073340e-01\n",
       "3  GeneralizedLinear   3.029314e+11  3.990762e-01"
      ]
     },
     "execution_count": 235,
     "metadata": {},
     "output_type": "execute_result"
    }
   ],
   "source": [
    "# Adding the validate results for the Tweedie model\n",
    "metric_df = metric_df.append({\n",
    "    'model': 'GeneralizedLinear', \n",
    "    'RMSE_validate': mean_squared_error(validate.tax_value, validate.glm_predictions),\n",
    "    'r^2_validate': explained_variance_score(validate.tax_value, validate.glm_predictions)}, ignore_index=True)\n",
    "# Voila\n",
    "metric_df"
   ]
  },
  {
   "cell_type": "markdown",
   "id": "d4149e2d",
   "metadata": {},
   "source": [
    "# SelectKBest"
   ]
  },
  {
   "cell_type": "code",
   "execution_count": 243,
   "id": "edd35d2c",
   "metadata": {},
   "outputs": [],
   "source": [
    "from sklearn.feature_selection import RFE\n",
    "\n",
    "# initialize the ML algorithm\n",
    "lm = LinearRegression()\n",
    "\n",
    "# create the rfe object, indicating the ML object (lm) and the number of features I want to end up with. \n",
    "rfe = RFE(lm, n_features_to_select=2)\n",
    "\n",
    "# fit the data using RFE\n",
    "rfe.fit(x_train,y_train)  \n",
    "\n",
    "# get the mask of the columns selected\n",
    "feature_mask = rfe.support_\n",
    "\n",
    "# get list of the column names. \n",
    "rfe_feature = x_train.iloc[:,feature_mask].columns.tolist()"
   ]
  },
  {
   "cell_type": "code",
   "execution_count": 244,
   "id": "3b9ceeb9",
   "metadata": {},
   "outputs": [
    {
     "data": {
      "text/plain": [
       "['bedrooms', 'lm_predictions']"
      ]
     },
     "execution_count": 244,
     "metadata": {},
     "output_type": "execute_result"
    }
   ],
   "source": [
    "rfe_feature"
   ]
  },
  {
   "cell_type": "markdown",
   "id": "4139c24c",
   "metadata": {},
   "source": [
    "## Modeling Take Away\n",
    "\n",
    "SimpleLinear and LassoLars is very similar, but to lower the error score, i will have to use the simple Linear"
   ]
  },
  {
   "cell_type": "code",
   "execution_count": 245,
   "id": "1bfc0caa",
   "metadata": {},
   "outputs": [
    {
     "name": "stdout",
     "output_type": "stream",
     "text": [
      "RMSE for Simple Linear Model Test-Sample Performance:  546840.6876845366\n"
     ]
    }
   ],
   "source": [
    "\n",
    "# Create and fit the Simple Linear model\n",
    "simple_linear_model = LinearRegression().fit(x_test, y_test)\n",
    "\n",
    "# Make predictions on the test set\n",
    "y_test['simple_linear_predictions'] = simple_linear_model.predict(x_test)\n",
    "\n",
    "# Calculate RMSE for the Simple Linear model on the test set\n",
    "rmse_test = mean_squared_error(y_test.tax_value, y_test.simple_linear_predictions) ** 0.5\n",
    "\n",
    "print(\"RMSE for Simple Linear Model Test-Sample Performance: \", rmse_test)\n"
   ]
  },
  {
   "cell_type": "code",
   "execution_count": 247,
   "id": "cb4e16e1",
   "metadata": {},
   "outputs": [
    {
     "data": {
      "text/plain": [
       "1878.0"
      ]
     },
     "execution_count": 247,
     "metadata": {},
     "output_type": "execute_result"
    }
   ],
   "source": [
    "df.yearbuilt.min()"
   ]
  },
  {
   "cell_type": "code",
   "execution_count": null,
   "id": "91d6aa96",
   "metadata": {},
   "outputs": [],
   "source": []
  }
 ],
 "metadata": {
  "kernelspec": {
   "display_name": "Python 3 (ipykernel)",
   "language": "python",
   "name": "python3"
  },
  "language_info": {
   "codemirror_mode": {
    "name": "ipython",
    "version": 3
   },
   "file_extension": ".py",
   "mimetype": "text/x-python",
   "name": "python",
   "nbconvert_exporter": "python",
   "pygments_lexer": "ipython3",
   "version": "3.10.9"
  }
 },
 "nbformat": 4,
 "nbformat_minor": 5
}
