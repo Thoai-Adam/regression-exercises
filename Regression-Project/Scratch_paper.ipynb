{
 "cells": [
  {
   "cell_type": "code",
   "execution_count": 9,
   "id": "793bb3fd",
   "metadata": {},
   "outputs": [],
   "source": [
    "import pandas as pd\n",
    "import numpy as np\n",
    "import matplotlib.pyplot as plt\n",
    "import seaborn as sns\n",
    "\n",
    "from env import get_connection\n",
    "import os"
   ]
  },
  {
   "cell_type": "code",
   "execution_count": 10,
   "id": "c9d0598f",
   "metadata": {},
   "outputs": [],
   "source": [
    "# create helper function to get the necessary connection url.\n",
    "def get_db_connection(database):\n",
    "    return get_connection(database)\n",
    "\n",
    "# connect to sql zillow database\n",
    "url = \"zillow\"\n",
    "\n",
    "# use this query to get data    \n",
    "sql_query = \"SELECT bedroomcnt, bathroomcnt, calculatedfinishedsquarefeet, taxvaluedollarcnt, yearbuilt, taxamount, fips FROM properties_2017 WHERE propertylandusetypeid = 261\"\n",
    "\n",
    "# assign data to data frame\n",
    "df = pd.read_sql(sql_query, get_connection(url))"
   ]
  },
  {
   "cell_type": "code",
   "execution_count": 11,
   "id": "ee51dec3",
   "metadata": {},
   "outputs": [],
   "source": [
    "# 1. Rename the columns to be more readable\n",
    "df = df.rename(columns = {'bedroomcnt':'bedrooms', 'bathroomcnt':'bathrooms', 'calculatedfinishedsquarefeet':'area', 'taxvaluedollarcnt':'tax_value', 'yearbuilt':'year_built'})"
   ]
  },
  {
   "cell_type": "code",
   "execution_count": 13,
   "id": "0f7c919e",
   "metadata": {},
   "outputs": [
    {
     "data": {
      "text/plain": [
       "bedrooms        11\n",
       "bathrooms       11\n",
       "area          8484\n",
       "tax_value      493\n",
       "year_built    9337\n",
       "taxamount     4442\n",
       "fips             0\n",
       "dtype: int64"
      ]
     },
     "execution_count": 13,
     "metadata": {},
     "output_type": "execute_result"
    }
   ],
   "source": [
    "# 2. Keep rows built in 2017\n",
    "df.isna().sum()"
   ]
  },
  {
   "cell_type": "code",
   "execution_count": 14,
   "id": "26623e6e",
   "metadata": {},
   "outputs": [],
   "source": [
    "# Check for rows where the 'year_built' column is equal to 2017\n",
    "rows_to_keep = df['year_built'] == 2017\n",
    "\n",
    "# Create a new DataFrame containing only the rows where 'year_built' is 2017\n",
    "df_filtered = df[rows_to_keep]\n",
    "\n",
    "# Now df_filtered contains only the rows where 'year_built' is 2017\n",
    "# You can use df_filtered for further analysis or save it to a new variable.\n"
   ]
  },
  {
   "cell_type": "code",
   "execution_count": 15,
   "id": "1891b0cb",
   "metadata": {},
   "outputs": [
    {
     "data": {
      "text/plain": [
       "(2152863, 7)"
      ]
     },
     "execution_count": 15,
     "metadata": {},
     "output_type": "execute_result"
    }
   ],
   "source": [
    "df.shape"
   ]
  },
  {
   "cell_type": "code",
   "execution_count": null,
   "id": "8489e615",
   "metadata": {},
   "outputs": [],
   "source": []
  }
 ],
 "metadata": {
  "kernelspec": {
   "display_name": "Python 3 (ipykernel)",
   "language": "python",
   "name": "python3"
  },
  "language_info": {
   "codemirror_mode": {
    "name": "ipython",
    "version": 3
   },
   "file_extension": ".py",
   "mimetype": "text/x-python",
   "name": "python",
   "nbconvert_exporter": "python",
   "pygments_lexer": "ipython3",
   "version": "3.10.9"
  }
 },
 "nbformat": 4,
 "nbformat_minor": 5
}
