{
 "cells": [
  {
   "cell_type": "code",
   "execution_count": 23,
   "id": "d616dce8",
   "metadata": {},
   "outputs": [
    {
     "data": {
      "application/javascript": [
       "IPython.notebook.set_autosave_interval(0)"
      ]
     },
     "metadata": {},
     "output_type": "display_data"
    },
    {
     "name": "stdout",
     "output_type": "stream",
     "text": [
      "Autosave disabled\n"
     ]
    }
   ],
   "source": [
    "%autosave 0"
   ]
  },
  {
   "attachments": {
    "image.png": {
     "image/png": "[encoded data removed]"
    }
   },
   "cell_type": "markdown",
   "id": "0f3a51de",
   "metadata": {},
   "source": [
    "regression = mean of 1 dependent vs multi dependents\n",
    "\n",
    "\n",
    "Predict target variable performance = baseline + computing metrics + comparing those metrics across multiple models\n",
    "\n",
    "![image.png](attachment:image.png)\n",
    "\n",
    "#### Goals : \n",
    "+\"good enough\" vs baseline to find LINE OF BEST FIT(regression line)\n",
    "+compute various regression evaluation metrics using sklearn.metrics\n",
    "+select best model using those evaluation metrics\n",
    "\n",
    "\n",
    "#### Questions:\n",
    "1.How do we know if our model is good enough?\n",
    "    we know the model has Goodness of Fit Metrics if the R-squared (measure proportion of the variance in the dependent variable explained by the independent variables). R2 close to 1 is better fit. Adjusted R-squared penalizes models with many irrelevant features if the model has overfitting issues. high R-square and adjusted R-square value indicate that model is significant.\n",
    "     we can also use residual analysis(actual value - predicted value). Should show irregular distribution and no systematic patterns on scatter plot\n",
    "     The lower the Mean Absolute Error(MAE) and Root Mean Squared Error (RMSE) the better model fit.\n",
    "           \n",
    "\n",
    "2.How do we find the line of best fit?\n",
    "    line of best fit determine by coefficient (slope and intercept) that minimize sum of squared residuals using Ordinary least Squares (OLS) or gradient descent\n",
    "\n",
    "3.How do we evaluate our model?\n",
    "    It should have a high R2, low MAE/RMSE, normally distributed residuals, meaningful features. Use Cross-Validation to assess how well the model geeneralize unseen data. High score in cross-validation is good predictive performance.\n",
    "    we can compare it to mean or median baseline prediction.\n",
    "    apply regularization techniques to prevent overfitting and improve model generalization.\n",
    "\n",
    "\n",
    "\n",
    "4.Are our features valuable?\n",
    "    not all features are valuable dependent on specific problem and goals. Use Feature Importance Scores or Coefficients in linear regression to determine which featuers contribute most. Use forward/backward selection or Lasso/Ridge regularization to id valuable resource and reduce overfitting\n",
    "    \n"
   ]
  },
  {
   "cell_type": "code",
   "execution_count": 24,
   "id": "943786de",
   "metadata": {},
   "outputs": [],
   "source": [
    "import pandas as pd\n",
    "import numpy as np\n",
    "\n",
    "import matplotlib.pyplot as plt\n",
    "import seaborn as sns\n",
    "\n",
    "from adam_wrangle import train_val_test\n",
    "from scipy import stats\n",
    "from sklearn.metrics import mean_squared_error, r2_score, explained_variance_score\n",
    "from sklearn.linear_model import LinearRegression\n",
    "from math import sqrt"
   ]
  },
  {
   "cell_type": "markdown",
   "id": "c3591c83",
   "metadata": {},
   "source": [
    "Let's read in the diamonds csv from the explore lesson."
   ]
  },
  {
   "cell_type": "code",
   "execution_count": 25,
   "id": "4709ee46",
   "metadata": {},
   "outputs": [
    {
     "data": {
      "text/html": [
       "<div>\n",
       "<style scoped>\n",
       "    .dataframe tbody tr th:only-of-type {\n",
       "        vertical-align: middle;\n",
       "    }\n",
       "\n",
       "    .dataframe tbody tr th {\n",
       "        vertical-align: top;\n",
       "    }\n",
       "\n",
       "    .dataframe thead th {\n",
       "        text-align: right;\n",
       "    }\n",
       "</style>\n",
       "<table border=\"1\" class=\"dataframe\">\n",
       "  <thead>\n",
       "    <tr style=\"text-align: right;\">\n",
       "      <th></th>\n",
       "      <th>carat</th>\n",
       "      <th>cut</th>\n",
       "      <th>color</th>\n",
       "      <th>clarity</th>\n",
       "      <th>depth</th>\n",
       "      <th>table</th>\n",
       "      <th>price</th>\n",
       "      <th>x</th>\n",
       "      <th>y</th>\n",
       "      <th>z</th>\n",
       "    </tr>\n",
       "  </thead>\n",
       "  <tbody>\n",
       "    <tr>\n",
       "      <th>1</th>\n",
       "      <td>0.23</td>\n",
       "      <td>Ideal</td>\n",
       "      <td>E</td>\n",
       "      <td>SI2</td>\n",
       "      <td>61.5</td>\n",
       "      <td>55.0</td>\n",
       "      <td>326</td>\n",
       "      <td>3.95</td>\n",
       "      <td>3.98</td>\n",
       "      <td>2.43</td>\n",
       "    </tr>\n",
       "    <tr>\n",
       "      <th>2</th>\n",
       "      <td>0.21</td>\n",
       "      <td>Premium</td>\n",
       "      <td>E</td>\n",
       "      <td>SI1</td>\n",
       "      <td>59.8</td>\n",
       "      <td>61.0</td>\n",
       "      <td>326</td>\n",
       "      <td>3.89</td>\n",
       "      <td>3.84</td>\n",
       "      <td>2.31</td>\n",
       "    </tr>\n",
       "    <tr>\n",
       "      <th>3</th>\n",
       "      <td>0.23</td>\n",
       "      <td>Good</td>\n",
       "      <td>E</td>\n",
       "      <td>VS1</td>\n",
       "      <td>56.9</td>\n",
       "      <td>65.0</td>\n",
       "      <td>327</td>\n",
       "      <td>4.05</td>\n",
       "      <td>4.07</td>\n",
       "      <td>2.31</td>\n",
       "    </tr>\n",
       "    <tr>\n",
       "      <th>4</th>\n",
       "      <td>0.29</td>\n",
       "      <td>Premium</td>\n",
       "      <td>I</td>\n",
       "      <td>VS2</td>\n",
       "      <td>62.4</td>\n",
       "      <td>58.0</td>\n",
       "      <td>334</td>\n",
       "      <td>4.20</td>\n",
       "      <td>4.23</td>\n",
       "      <td>2.63</td>\n",
       "    </tr>\n",
       "    <tr>\n",
       "      <th>5</th>\n",
       "      <td>0.31</td>\n",
       "      <td>Good</td>\n",
       "      <td>J</td>\n",
       "      <td>SI2</td>\n",
       "      <td>63.3</td>\n",
       "      <td>58.0</td>\n",
       "      <td>335</td>\n",
       "      <td>4.34</td>\n",
       "      <td>4.35</td>\n",
       "      <td>2.75</td>\n",
       "    </tr>\n",
       "  </tbody>\n",
       "</table>\n",
       "</div>"
      ],
      "text/plain": [
       "   carat      cut color clarity  depth  table  price     x     y     z\n",
       "1   0.23    Ideal     E     SI2   61.5   55.0    326  3.95  3.98  2.43\n",
       "2   0.21  Premium     E     SI1   59.8   61.0    326  3.89  3.84  2.31\n",
       "3   0.23     Good     E     VS1   56.9   65.0    327  4.05  4.07  2.31\n",
       "4   0.29  Premium     I     VS2   62.4   58.0    334  4.20  4.23  2.63\n",
       "5   0.31     Good     J     SI2   63.3   58.0    335  4.34  4.35  2.75"
      ]
     },
     "execution_count": 25,
     "metadata": {},
     "output_type": "execute_result"
    }
   ],
   "source": [
    "df = pd.read_csv('diamonds.csv', index_col=0)\n",
    "df.head()"
   ]
  },
  {
   "cell_type": "markdown",
   "id": "00ccfb07",
   "metadata": {},
   "source": [
    "We have to split our data before we can fit a model to our data and generate some predictions."
   ]
  },
  {
   "cell_type": "code",
   "execution_count": 26,
   "id": "f5626adb",
   "metadata": {},
   "outputs": [
    {
     "data": {
      "text/plain": [
       "((37758, 10), (8091, 10), (8091, 10))"
      ]
     },
     "execution_count": 26,
     "metadata": {},
     "output_type": "execute_result"
    }
   ],
   "source": [
    "train, val, test = train_val_test(df)\n",
    "train.shape, val.shape, test.shape"
   ]
  },
  {
   "cell_type": "markdown",
   "id": "2c278214",
   "metadata": {},
   "source": [
    "Let's make X and y train series. Let's use carat, since we found it to have a strong positive correlation with our target variable (price) during the explore phase."
   ]
  },
  {
   "cell_type": "code",
   "execution_count": 27,
   "id": "ad1b814d",
   "metadata": {},
   "outputs": [],
   "source": [
    "X_train = train[['carat']]\n",
    "y_train = train.price\n",
    "\n",
    "X_val = val[['carat']]\n",
    "y_val = val.price"
   ]
  },
  {
   "cell_type": "markdown",
   "id": "69e78554",
   "metadata": {},
   "source": [
    "Let's define a baseline. We will go through the manual calculations using our baseline. At the end, we will create a basic linear regression model and evaluate it using the imported functions.\n",
    "\n",
    "Since we have no way of knowing if the median or the mean performs better, we'll use the median."
   ]
  },
  {
   "cell_type": "code",
   "execution_count": 28,
   "id": "37b9d827",
   "metadata": {},
   "outputs": [
    {
     "data": {
      "text/plain": [
       "2404.0"
      ]
     },
     "execution_count": 28,
     "metadata": {},
     "output_type": "execute_result"
    }
   ],
   "source": [
    "y_train.median()"
   ]
  },
  {
   "cell_type": "markdown",
   "id": "ba76b9fc",
   "metadata": {},
   "source": [
    "Let's assign our baseline to a new column of y_train."
   ]
  },
  {
   "cell_type": "code",
   "execution_count": 29,
   "id": "e248c740",
   "metadata": {},
   "outputs": [
    {
     "data": {
      "text/plain": [
       "19498     8131\n",
       "31230      756\n",
       "22312    10351\n",
       "279       2795\n",
       "6647      4092\n",
       "Name: price, dtype: int64"
      ]
     },
     "execution_count": 29,
     "metadata": {},
     "output_type": "execute_result"
    }
   ],
   "source": [
    "y_train.head()  #actual value"
   ]
  },
  {
   "cell_type": "code",
   "execution_count": 30,
   "id": "d0563336",
   "metadata": {},
   "outputs": [
    {
     "data": {
      "text/html": [
       "<div>\n",
       "<style scoped>\n",
       "    .dataframe tbody tr th:only-of-type {\n",
       "        vertical-align: middle;\n",
       "    }\n",
       "\n",
       "    .dataframe tbody tr th {\n",
       "        vertical-align: top;\n",
       "    }\n",
       "\n",
       "    .dataframe thead th {\n",
       "        text-align: right;\n",
       "    }\n",
       "</style>\n",
       "<table border=\"1\" class=\"dataframe\">\n",
       "  <thead>\n",
       "    <tr style=\"text-align: right;\">\n",
       "      <th></th>\n",
       "      <th>y_actual</th>\n",
       "      <th>y_baseline</th>\n",
       "    </tr>\n",
       "  </thead>\n",
       "  <tbody>\n",
       "    <tr>\n",
       "      <th>19498</th>\n",
       "      <td>8131</td>\n",
       "      <td>2404.0</td>\n",
       "    </tr>\n",
       "    <tr>\n",
       "      <th>31230</th>\n",
       "      <td>756</td>\n",
       "      <td>2404.0</td>\n",
       "    </tr>\n",
       "    <tr>\n",
       "      <th>22312</th>\n",
       "      <td>10351</td>\n",
       "      <td>2404.0</td>\n",
       "    </tr>\n",
       "    <tr>\n",
       "      <th>279</th>\n",
       "      <td>2795</td>\n",
       "      <td>2404.0</td>\n",
       "    </tr>\n",
       "    <tr>\n",
       "      <th>6647</th>\n",
       "      <td>4092</td>\n",
       "      <td>2404.0</td>\n",
       "    </tr>\n",
       "  </tbody>\n",
       "</table>\n",
       "</div>"
      ],
      "text/plain": [
       "       y_actual  y_baseline\n",
       "19498      8131      2404.0\n",
       "31230       756      2404.0\n",
       "22312     10351      2404.0\n",
       "279        2795      2404.0\n",
       "6647       4092      2404.0"
      ]
     },
     "execution_count": 30,
     "metadata": {},
     "output_type": "execute_result"
    }
   ],
   "source": [
    "#let's create a data frame from this using dictionary method\n",
    "#make sure it work before assign it to the dataframe preds\n",
    "preds=pd.DataFrame({'y_actual': y_train,\n",
    "             'y_baseline': y_train.median()})\n",
    "preds.head()"
   ]
  },
  {
   "cell_type": "markdown",
   "id": "e83c6623",
   "metadata": {},
   "source": [
    "Let's calculate the residuals, which are the predicted values minus the actual ones."
   ]
  },
  {
   "cell_type": "code",
   "execution_count": 31,
   "id": "9767c1cf",
   "metadata": {},
   "outputs": [
    {
     "data": {
      "text/html": [
       "<div>\n",
       "<style scoped>\n",
       "    .dataframe tbody tr th:only-of-type {\n",
       "        vertical-align: middle;\n",
       "    }\n",
       "\n",
       "    .dataframe tbody tr th {\n",
       "        vertical-align: top;\n",
       "    }\n",
       "\n",
       "    .dataframe thead th {\n",
       "        text-align: right;\n",
       "    }\n",
       "</style>\n",
       "<table border=\"1\" class=\"dataframe\">\n",
       "  <thead>\n",
       "    <tr style=\"text-align: right;\">\n",
       "      <th></th>\n",
       "      <th>y_actual</th>\n",
       "      <th>y_baseline</th>\n",
       "      <th>y_baseline_resids</th>\n",
       "    </tr>\n",
       "  </thead>\n",
       "  <tbody>\n",
       "    <tr>\n",
       "      <th>19498</th>\n",
       "      <td>8131</td>\n",
       "      <td>2404.0</td>\n",
       "      <td>-5727.0</td>\n",
       "    </tr>\n",
       "    <tr>\n",
       "      <th>31230</th>\n",
       "      <td>756</td>\n",
       "      <td>2404.0</td>\n",
       "      <td>1648.0</td>\n",
       "    </tr>\n",
       "    <tr>\n",
       "      <th>22312</th>\n",
       "      <td>10351</td>\n",
       "      <td>2404.0</td>\n",
       "      <td>-7947.0</td>\n",
       "    </tr>\n",
       "    <tr>\n",
       "      <th>279</th>\n",
       "      <td>2795</td>\n",
       "      <td>2404.0</td>\n",
       "      <td>-391.0</td>\n",
       "    </tr>\n",
       "    <tr>\n",
       "      <th>6647</th>\n",
       "      <td>4092</td>\n",
       "      <td>2404.0</td>\n",
       "      <td>-1688.0</td>\n",
       "    </tr>\n",
       "  </tbody>\n",
       "</table>\n",
       "</div>"
      ],
      "text/plain": [
       "       y_actual  y_baseline  y_baseline_resids\n",
       "19498      8131      2404.0            -5727.0\n",
       "31230       756      2404.0             1648.0\n",
       "22312     10351      2404.0            -7947.0\n",
       "279        2795      2404.0             -391.0\n",
       "6647       4092      2404.0            -1688.0"
      ]
     },
     "execution_count": 31,
     "metadata": {},
     "output_type": "execute_result"
    }
   ],
   "source": [
    "preds['y_baseline_resids'] = preds['y_baseline'] - preds['y_actual']\n",
    "preds.head()"
   ]
  },
  {
   "cell_type": "code",
   "execution_count": 32,
   "id": "231503f0",
   "metadata": {},
   "outputs": [
    {
     "data": {
      "text/plain": [
       "Text(0.5, 1.0, 'guesses from the actual')"
      ]
     },
     "execution_count": 32,
     "metadata": {},
     "output_type": "execute_result"
    },
    {
     "data": {
      "image/png": "[encoded data removed]",
      "text/plain": [
       "<Figure size 640x480 with 1 Axes>"
      ]
     },
     "metadata": {},
     "output_type": "display_data"
    }
   ],
   "source": [
    "sns.scatterplot(data = preds, x = 'y_actual', y = 'y_baseline_resids')\n",
    "plt.hlines(0,0,12000)\n",
    "plt.title(\"guesses from the actual\")"
   ]
  },
  {
   "cell_type": "markdown",
   "id": "7cd0e619",
   "metadata": {},
   "source": [
    "Now we can square the residuals, to eliminate the differences in the signs. This calculates the squared errors."
   ]
  },
  {
   "cell_type": "code",
   "execution_count": 33,
   "id": "4c89f7d6",
   "metadata": {
    "scrolled": true
   },
   "outputs": [
    {
     "data": {
      "text/html": [
       "<div>\n",
       "<style scoped>\n",
       "    .dataframe tbody tr th:only-of-type {\n",
       "        vertical-align: middle;\n",
       "    }\n",
       "\n",
       "    .dataframe tbody tr th {\n",
       "        vertical-align: top;\n",
       "    }\n",
       "\n",
       "    .dataframe thead th {\n",
       "        text-align: right;\n",
       "    }\n",
       "</style>\n",
       "<table border=\"1\" class=\"dataframe\">\n",
       "  <thead>\n",
       "    <tr style=\"text-align: right;\">\n",
       "      <th></th>\n",
       "      <th>y_actual</th>\n",
       "      <th>y_baseline</th>\n",
       "      <th>y_baseline_resids</th>\n",
       "      <th>y_baseline_resids_sq</th>\n",
       "    </tr>\n",
       "  </thead>\n",
       "  <tbody>\n",
       "    <tr>\n",
       "      <th>19498</th>\n",
       "      <td>8131</td>\n",
       "      <td>2404.0</td>\n",
       "      <td>-5727.0</td>\n",
       "      <td>32798529.0</td>\n",
       "    </tr>\n",
       "    <tr>\n",
       "      <th>31230</th>\n",
       "      <td>756</td>\n",
       "      <td>2404.0</td>\n",
       "      <td>1648.0</td>\n",
       "      <td>2715904.0</td>\n",
       "    </tr>\n",
       "    <tr>\n",
       "      <th>22312</th>\n",
       "      <td>10351</td>\n",
       "      <td>2404.0</td>\n",
       "      <td>-7947.0</td>\n",
       "      <td>63154809.0</td>\n",
       "    </tr>\n",
       "    <tr>\n",
       "      <th>279</th>\n",
       "      <td>2795</td>\n",
       "      <td>2404.0</td>\n",
       "      <td>-391.0</td>\n",
       "      <td>152881.0</td>\n",
       "    </tr>\n",
       "    <tr>\n",
       "      <th>6647</th>\n",
       "      <td>4092</td>\n",
       "      <td>2404.0</td>\n",
       "      <td>-1688.0</td>\n",
       "      <td>2849344.0</td>\n",
       "    </tr>\n",
       "  </tbody>\n",
       "</table>\n",
       "</div>"
      ],
      "text/plain": [
       "       y_actual  y_baseline  y_baseline_resids  y_baseline_resids_sq\n",
       "19498      8131      2404.0            -5727.0            32798529.0\n",
       "31230       756      2404.0             1648.0             2715904.0\n",
       "22312     10351      2404.0            -7947.0            63154809.0\n",
       "279        2795      2404.0             -391.0              152881.0\n",
       "6647       4092      2404.0            -1688.0             2849344.0"
      ]
     },
     "execution_count": 33,
     "metadata": {},
     "output_type": "execute_result"
    }
   ],
   "source": [
    "preds['y_baseline_resids_sq'] = preds['y_baseline_resids'] ** 2\n",
    "preds.head()"
   ]
  },
  {
   "cell_type": "markdown",
   "id": "f47ae328",
   "metadata": {},
   "source": [
    "We can add all the squared errors together, to calculate the sum of squared errors (SSE). This is the first acronym you encountered in the curriculum."
   ]
  },
  {
   "cell_type": "code",
   "execution_count": 34,
   "id": "b98832ed",
   "metadata": {},
   "outputs": [
    {
     "data": {
      "text/plain": [
       "696475923920.0"
      ]
     },
     "execution_count": 34,
     "metadata": {},
     "output_type": "execute_result"
    }
   ],
   "source": [
    "sse_baseline = preds['y_baseline_resids_sq'].sum()\n",
    "sse_baseline\n",
    "#sum of all square error made by our baseline model , and it sucks"
   ]
  },
  {
   "cell_type": "markdown",
   "id": "002b3e04",
   "metadata": {},
   "source": [
    "The next step is to calculate the mean squared error (MSE). As the name implies, we calculate this value by getting the average of the squared error. We can divide the sum of squared errors (SSE) by the length of the dataframe to calculate this value."
   ]
  },
  {
   "cell_type": "code",
   "execution_count": 35,
   "id": "eb052651",
   "metadata": {},
   "outputs": [
    {
     "data": {
      "text/plain": [
       "18445784.308490917"
      ]
     },
     "execution_count": 35,
     "metadata": {},
     "output_type": "execute_result"
    }
   ],
   "source": [
    "mse_baseline = sse_baseline/ len(preds)\n",
    "mse_baseline\n",
    "\n",
    "#on avg this model made this much square error"
   ]
  },
  {
   "cell_type": "markdown",
   "id": "a3e2fab1",
   "metadata": {},
   "source": [
    "Finally, as the name implies, we can calculate the root mean squared error (RMSE) by taking the square root of the mean squared error (MSE). This will return a value that represents the average error in our baseline's predictions in the original units."
   ]
  },
  {
   "cell_type": "code",
   "execution_count": 36,
   "id": "67a51583",
   "metadata": {},
   "outputs": [
    {
     "data": {
      "text/plain": [
       "4294.855563169839"
      ]
     },
     "execution_count": 36,
     "metadata": {},
     "output_type": "execute_result"
    }
   ],
   "source": [
    "rmse_baseline = sqrt(mse_baseline)\n",
    "rmse_baseline\n",
    "\n",
    "# "
   ]
  },
  {
   "cell_type": "markdown",
   "id": "5b2e3509",
   "metadata": {},
   "source": [
    "Now that we've done it the long way with the baseline, let's create a basic linear regression model and evaluate it with the help of the sklearn library.\n",
    "\n",
    "## DO this the short way"
   ]
  },
  {
   "cell_type": "code",
   "execution_count": 37,
   "id": "e27e4a97",
   "metadata": {},
   "outputs": [],
   "source": [
    "lm = LinearRegression()\n",
    "lm.fit(X_train, y_train)\n",
    "preds['y_hat'] = lm.predict(X_train)"
   ]
  },
  {
   "cell_type": "code",
   "execution_count": 38,
   "id": "d210c5f0",
   "metadata": {},
   "outputs": [
    {
     "data": {
      "text/plain": [
       "1553.8093867380917"
      ]
     },
     "execution_count": 38,
     "metadata": {},
     "output_type": "execute_result"
    }
   ],
   "source": [
    "rmse_model = sqrt(mean_squared_error(preds['y_actual'], preds['y_hat']))\n",
    "rmse_model"
   ]
  },
  {
   "cell_type": "markdown",
   "id": "1ba62399",
   "metadata": {},
   "source": [
    "Great! We were able to calculate the root mean squared error (RMSE) for our baseline and regression model. Which one performed better?"
   ]
  },
  {
   "cell_type": "code",
   "execution_count": 39,
   "id": "05ae3af1",
   "metadata": {},
   "outputs": [
    {
     "name": "stdout",
     "output_type": "stream",
     "text": [
      "RMSE of our baseline: 4295\n",
      "RMSE of our finely tuned model: 1554\n"
     ]
    }
   ],
   "source": [
    "print(f'RMSE of our baseline: {round(rmse_baseline)}')\n",
    "print(f'RMSE of our finely tuned model: {round(rmse_model)}')"
   ]
  },
  {
   "cell_type": "code",
   "execution_count": 40,
   "id": "32fd50ae",
   "metadata": {},
   "outputs": [
    {
     "data": {
      "image/png": "[encoded data removed]",
      "text/plain": [
       "<Figure size 640x480 with 1 Axes>"
      ]
     },
     "metadata": {},
     "output_type": "display_data"
    }
   ],
   "source": [
    "preds['y_hat_resids'] = preds['y_hat'] - preds['y_actual']\n",
    "sns.scatterplot(data = preds, x='y_actual', y='y_hat_resids')\n",
    "plt.show()\n",
    "\n",
    "#see where your data struggle in any particular area"
   ]
  },
  {
   "cell_type": "code",
   "execution_count": null,
   "id": "a2043593",
   "metadata": {},
   "outputs": [],
   "source": []
  },
  {
   "cell_type": "markdown",
   "id": "4009b2ff",
   "metadata": {},
   "source": [
    "Now let's calculate the model significance. This can also be expressed as the R^2 value. The R^2 value equals the explained sum of squares divided by the total sum of squares. The equation with acronyms looks like this: R^2 = ESS / TSS.\n",
    "\n",
    "The first step is to calculated the explained sum of squares. This is calculated by taking each prediction, subtracting the mean of actual values, squaring it, and adding up all the results. It's very similar to how we calculated the sum of squared errors (SSE)."
   ]
  },
  {
   "cell_type": "code",
   "execution_count": 41,
   "id": "6fd93a9b",
   "metadata": {},
   "outputs": [
    {
     "data": {
      "text/html": [
       "<div>\n",
       "<style scoped>\n",
       "    .dataframe tbody tr th:only-of-type {\n",
       "        vertical-align: middle;\n",
       "    }\n",
       "\n",
       "    .dataframe tbody tr th {\n",
       "        vertical-align: top;\n",
       "    }\n",
       "\n",
       "    .dataframe thead th {\n",
       "        text-align: right;\n",
       "    }\n",
       "</style>\n",
       "<table border=\"1\" class=\"dataframe\">\n",
       "  <thead>\n",
       "    <tr style=\"text-align: right;\">\n",
       "      <th></th>\n",
       "      <th>y_actual</th>\n",
       "      <th>y_baseline</th>\n",
       "      <th>y_baseline_resids</th>\n",
       "      <th>y_baseline_resids_sq</th>\n",
       "      <th>y_hat</th>\n",
       "      <th>y_hat_resids</th>\n",
       "      <th>y_baseline_minus_mean</th>\n",
       "    </tr>\n",
       "  </thead>\n",
       "  <tbody>\n",
       "    <tr>\n",
       "      <th>19498</th>\n",
       "      <td>8131</td>\n",
       "      <td>2404.0</td>\n",
       "      <td>-5727.0</td>\n",
       "      <td>32798529.0</td>\n",
       "      <td>7137.116468</td>\n",
       "      <td>-993.883532</td>\n",
       "      <td>-1547.495312</td>\n",
       "    </tr>\n",
       "    <tr>\n",
       "      <th>31230</th>\n",
       "      <td>756</td>\n",
       "      <td>2404.0</td>\n",
       "      <td>1648.0</td>\n",
       "      <td>2715904.0</td>\n",
       "      <td>148.330012</td>\n",
       "      <td>-607.669988</td>\n",
       "      <td>-1547.495312</td>\n",
       "    </tr>\n",
       "    <tr>\n",
       "      <th>22312</th>\n",
       "      <td>10351</td>\n",
       "      <td>2404.0</td>\n",
       "      <td>-7947.0</td>\n",
       "      <td>63154809.0</td>\n",
       "      <td>7137.116468</td>\n",
       "      <td>-3213.883532</td>\n",
       "      <td>-1547.495312</td>\n",
       "    </tr>\n",
       "    <tr>\n",
       "      <th>279</th>\n",
       "      <td>2795</td>\n",
       "      <td>2404.0</td>\n",
       "      <td>-391.0</td>\n",
       "      <td>152881.0</td>\n",
       "      <td>4030.989154</td>\n",
       "      <td>1235.989154</td>\n",
       "      <td>-1547.495312</td>\n",
       "    </tr>\n",
       "    <tr>\n",
       "      <th>6647</th>\n",
       "      <td>4092</td>\n",
       "      <td>2404.0</td>\n",
       "      <td>-1688.0</td>\n",
       "      <td>2849344.0</td>\n",
       "      <td>3875.682788</td>\n",
       "      <td>-216.317212</td>\n",
       "      <td>-1547.495312</td>\n",
       "    </tr>\n",
       "  </tbody>\n",
       "</table>\n",
       "</div>"
      ],
      "text/plain": [
       "       y_actual  y_baseline  y_baseline_resids  y_baseline_resids_sq  \\\n",
       "19498      8131      2404.0            -5727.0            32798529.0   \n",
       "31230       756      2404.0             1648.0             2715904.0   \n",
       "22312     10351      2404.0            -7947.0            63154809.0   \n",
       "279        2795      2404.0             -391.0              152881.0   \n",
       "6647       4092      2404.0            -1688.0             2849344.0   \n",
       "\n",
       "             y_hat  y_hat_resids  y_baseline_minus_mean  \n",
       "19498  7137.116468   -993.883532           -1547.495312  \n",
       "31230   148.330012   -607.669988           -1547.495312  \n",
       "22312  7137.116468  -3213.883532           -1547.495312  \n",
       "279    4030.989154   1235.989154           -1547.495312  \n",
       "6647   3875.682788   -216.317212           -1547.495312  "
      ]
     },
     "execution_count": 41,
     "metadata": {},
     "output_type": "execute_result"
    }
   ],
   "source": [
    "#we have to dive back in alphalbet soup \n",
    "preds['y_baseline_minus_mean'] = preds['y_baseline'] - preds['y_actual'].mean()\n",
    "preds.head()"
   ]
  },
  {
   "cell_type": "code",
   "execution_count": 42,
   "id": "8db33b18",
   "metadata": {},
   "outputs": [
    {
     "data": {
      "text/plain": [
       "90420658673.29518"
      ]
     },
     "execution_count": 42,
     "metadata": {},
     "output_type": "execute_result"
    }
   ],
   "source": [
    "ess_baseline = sum(preds['y_baseline_minus_mean']**2)\n",
    "ess_baseline"
   ]
  },
  {
   "cell_type": "code",
   "execution_count": 43,
   "id": "65d83efe",
   "metadata": {},
   "outputs": [
    {
     "data": {
      "text/plain": [
       "90420658673.29518"
      ]
     },
     "execution_count": 43,
     "metadata": {},
     "output_type": "execute_result"
    }
   ],
   "source": [
    "ess_baseline = sum(preds['y_baseline_minus_mean'] ** 2)\n",
    "ess_baseline"
   ]
  },
  {
   "cell_type": "markdown",
   "id": "2aa8e4e9",
   "metadata": {},
   "source": [
    "Now that we have our explained sum of squares, we have the nominator for our equation. To calculate the denominator, the total sum of squares (TSS), we have to add the sum of squared error (SSE) to the explained sum of squares (ESS)."
   ]
  },
  {
   "cell_type": "code",
   "execution_count": 44,
   "id": "216de4fc",
   "metadata": {},
   "outputs": [
    {
     "data": {
      "text/plain": [
       "786896582593.2952"
      ]
     },
     "execution_count": 44,
     "metadata": {},
     "output_type": "execute_result"
    }
   ],
   "source": [
    "tss_baseline = sse_baseline + ess_baseline\n",
    "tss_baseline"
   ]
  },
  {
   "cell_type": "markdown",
   "id": "60830d13",
   "metadata": {},
   "source": [
    "We have both elements ready! We divide the ESS by the TSS to find the model significance for our baseline."
   ]
  },
  {
   "cell_type": "code",
   "execution_count": 45,
   "id": "18e3bc57",
   "metadata": {},
   "outputs": [
    {
     "data": {
      "text/plain": [
       "0.11490793158016394"
      ]
     },
     "execution_count": 45,
     "metadata": {},
     "output_type": "execute_result"
    }
   ],
   "source": [
    "r_baseline = ess_baseline / tss_baseline\n",
    "r_baseline"
   ]
  },
  {
   "cell_type": "markdown",
   "id": "88b6032a",
   "metadata": {},
   "source": [
    "After doing it the long way, let's calculate model significance for our linear regression model using the sklearn library."
   ]
  },
  {
   "cell_type": "code",
   "execution_count": 46,
   "id": "9abef4bf",
   "metadata": {},
   "outputs": [
    {
     "data": {
      "text/plain": [
       "0.8495846235389342"
      ]
     },
     "execution_count": 46,
     "metadata": {},
     "output_type": "execute_result"
    }
   ],
   "source": [
    "r2_score(preds['y_actual'], preds['y_hat'])"
   ]
  }
 ],
 "metadata": {
  "kernelspec": {
   "display_name": "Python 3 (ipykernel)",
   "language": "python",
   "name": "python3"
  },
  "language_info": {
   "codemirror_mode": {
    "name": "ipython",
    "version": 3
   },
   "file_extension": ".py",
   "mimetype": "text/x-python",
   "name": "python",
   "nbconvert_exporter": "python",
   "pygments_lexer": "ipython3",
   "version": "3.10.9"
  }
 },
 "nbformat": 4,
 "nbformat_minor": 5
}
